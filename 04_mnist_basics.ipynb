{
  "nbformat": 4,
  "nbformat_minor": 0,
  "metadata": {
    "jupytext": {
      "split_at_heading": true
    },
    "kernelspec": {
      "display_name": "Python 3",
      "language": "python",
      "name": "python3"
    },
    "colab": {
      "name": "Copy of Copy of 04_mnist_basics.ipynb",
      "provenance": []
    },
    "accelerator": "GPU"
  },
  "cells": [
    {
      "cell_type": "code",
      "metadata": {
        "id": "jq-8nPhg1Xws",
        "colab": {
          "base_uri": "https://localhost:8080/"
        },
        "outputId": "76c23d32-c87a-49aa-ab18-bf2af58984f4"
      },
      "source": [
        "#hide\n",
        "!pip install -Uqq fastbook\n",
        "import fastbook\n",
        "fastbook.setup_book()"
      ],
      "execution_count": null,
      "outputs": [
        {
          "output_type": "stream",
          "text": [
            "\u001b[K     |████████████████████████████████| 727kB 5.0MB/s \n",
            "\u001b[K     |████████████████████████████████| 194kB 29.7MB/s \n",
            "\u001b[K     |████████████████████████████████| 1.2MB 27.1MB/s \n",
            "\u001b[K     |████████████████████████████████| 51kB 4.9MB/s \n",
            "\u001b[K     |████████████████████████████████| 61kB 6.3MB/s \n",
            "\u001b[?25hMounted at /content/gdrive\n"
          ],
          "name": "stdout"
        }
      ]
    },
    {
      "cell_type": "code",
      "metadata": {
        "id": "6KUKNzoz1Xwx"
      },
      "source": [
        "#hide\n",
        "from fastai.vision.all import *\n",
        "from fastbook import *\n",
        "\n",
        "matplotlib.rc('image', cmap='Greys')"
      ],
      "execution_count": null,
      "outputs": []
    },
    {
      "cell_type": "code",
      "metadata": {
        "id": "Oad-nOaA1Xw1",
        "colab": {
          "base_uri": "https://localhost:8080/",
          "height": 17
        },
        "outputId": "c8e5e8c7-222b-4de1-bc9f-1a0f542b6068"
      },
      "source": [
        "path = untar_data(URLs.MNIST_SAMPLE)"
      ],
      "execution_count": null,
      "outputs": [
        {
          "output_type": "display_data",
          "data": {
            "text/html": [
              ""
            ],
            "text/plain": [
              "<IPython.core.display.HTML object>"
            ]
          },
          "metadata": {
            "tags": []
          }
        }
      ]
    },
    {
      "cell_type": "code",
      "metadata": {
        "id": "ECNAbRzA1Xw1"
      },
      "source": [
        "Path.BASE_PATH = path"
      ],
      "execution_count": null,
      "outputs": []
    },
    {
      "cell_type": "code",
      "metadata": {
        "id": "hO5MVAgZ1Xw2",
        "colab": {
          "base_uri": "https://localhost:8080/"
        },
        "outputId": "4b9113ee-36fc-4d19-b77c-a61282c2249e"
      },
      "source": [
        "path.ls()"
      ],
      "execution_count": null,
      "outputs": [
        {
          "output_type": "execute_result",
          "data": {
            "text/plain": [
              "(#3) [Path('labels.csv'),Path('valid'),Path('train')]"
            ]
          },
          "metadata": {
            "tags": []
          },
          "execution_count": 5
        }
      ]
    },
    {
      "cell_type": "code",
      "metadata": {
        "id": "V-hXxpdL1Xw3",
        "colab": {
          "base_uri": "https://localhost:8080/"
        },
        "outputId": "bfb62722-b32b-4765-f37d-8a5e5f5914bc"
      },
      "source": [
        "(path/'train').ls()"
      ],
      "execution_count": null,
      "outputs": [
        {
          "output_type": "execute_result",
          "data": {
            "text/plain": [
              "(#2) [Path('train/3'),Path('train/7')]"
            ]
          },
          "metadata": {
            "tags": []
          },
          "execution_count": 6
        }
      ]
    },
    {
      "cell_type": "code",
      "metadata": {
        "id": "u_Oiq0JR1Xw4",
        "colab": {
          "base_uri": "https://localhost:8080/"
        },
        "outputId": "a6ba9349-5113-4653-9b23-cb2f3f022ab5"
      },
      "source": [
        "threes = (path/'train'/'3').ls().sorted()\n",
        "sevens = (path/'train'/'7').ls().sorted()\n",
        "threes"
      ],
      "execution_count": null,
      "outputs": [
        {
          "output_type": "execute_result",
          "data": {
            "text/plain": [
              "(#6131) [Path('train/3/10.png'),Path('train/3/10000.png'),Path('train/3/10011.png'),Path('train/3/10031.png'),Path('train/3/10034.png'),Path('train/3/10042.png'),Path('train/3/10052.png'),Path('train/3/1007.png'),Path('train/3/10074.png'),Path('train/3/10091.png')...]"
            ]
          },
          "metadata": {
            "tags": []
          },
          "execution_count": 7
        }
      ]
    },
    {
      "cell_type": "code",
      "metadata": {
        "id": "ud4ERLFx1Xw4",
        "colab": {
          "base_uri": "https://localhost:8080/",
          "height": 45
        },
        "outputId": "6894960a-612c-4537-8737-c80a337bcdc9"
      },
      "source": [
        "im3_path = threes[1]\n",
        "im3 = Image.open(im3_path)\n",
        "im3"
      ],
      "execution_count": null,
      "outputs": [
        {
          "output_type": "execute_result",
          "data": {
            "image/png": "[encoded data removed]",
            "text/plain": [
              "<PIL.PngImagePlugin.PngImageFile image mode=L size=28x28 at 0x7F60B240DDD8>"
            ]
          },
          "metadata": {
            "tags": []
          },
          "execution_count": 8
        }
      ]
    },
    {
      "cell_type": "code",
      "metadata": {
        "id": "D8C6wjZO1Xw5",
        "colab": {
          "base_uri": "https://localhost:8080/"
        },
        "outputId": "6ef7c84f-98ca-4bf2-d89d-946273e0865f"
      },
      "source": [
        "#array(im3)[4:10,4:10]\n",
        "array(im3)"
      ],
      "execution_count": null,
      "outputs": [
        {
          "output_type": "execute_result",
          "data": {
            "text/plain": [
              "array([[  0,   0,   0,   0,   0,   0,   0,   0,   0,   0,   0,   0,   0,   0,   0,   0,   0,   0,   0,   0,   0,   0,   0,   0,   0,   0,   0,   0],\n",
              "       [  0,   0,   0,   0,   0,   0,   0,   0,   0,   0,   0,   0,   0,   0,   0,   0,   0,   0,   0,   0,   0,   0,   0,   0,   0,   0,   0,   0],\n",
              "       [  0,   0,   0,   0,   0,   0,   0,   0,   0,   0,   0,   0,   0,   0,   0,   0,   0,   0,   0,   0,   0,   0,   0,   0,   0,   0,   0,   0],\n",
              "       [  0,   0,   0,   0,   0,   0,   0,   0,   0,   0,   0,   0,   0,   0,   0,   0,   0,   0,   0,   0,   0,   0,   0,   0,   0,   0,   0,   0],\n",
              "       [  0,   0,   0,   0,   0,   0,   0,   0,   0,   0,   0,   0,   0,   0,   0,   0,   0,   0,   0,   0,   0,   0,   0,   0,   0,   0,   0,   0],\n",
              "       [  0,   0,   0,   0,   0,   0,   0,   0,   0,  29, 150, 195, 254, 255, 254, 176, 193, 150,  96,   0,   0,   0,   0,   0,   0,   0,   0,   0],\n",
              "       [  0,   0,   0,   0,   0,   0,   0,  48, 166, 224, 253, 253, 234, 196, 253, 253, 253, 253, 233,   0,   0,   0,   0,   0,   0,   0,   0,   0],\n",
              "       [  0,   0,   0,   0,   0,  93, 244, 249, 253, 187,  46,  10,   8,   4,  10, 194, 253, 253, 233,   0,   0,   0,   0,   0,   0,   0,   0,   0],\n",
              "       [  0,   0,   0,   0,   0, 107, 253, 253, 230,  48,   0,   0,   0,   0,   0, 192, 253, 253, 156,   0,   0,   0,   0,   0,   0,   0,   0,   0],\n",
              "       [  0,   0,   0,   0,   0,   3,  20,  20,  15,   0,   0,   0,   0,   0,  43, 224, 253, 245,  74,   0,   0,   0,   0,   0,   0,   0,   0,   0],\n",
              "       [  0,   0,   0,   0,   0,   0,   0,   0,   0,   0,   0,   0,   0,   0, 249, 253, 245, 126,   0,   0,   0,   0,   0,   0,   0,   0,   0,   0],\n",
              "       [  0,   0,   0,   0,   0,   0,   0,   0,   0,   0,   0,  14, 101, 223, 253, 248, 124,   0,   0,   0,   0,   0,   0,   0,   0,   0,   0,   0],\n",
              "       [  0,   0,   0,   0,   0,   0,   0,   0,   0,  11, 166, 239, 253, 253, 253, 187,  30,   0,   0,   0,   0,   0,   0,   0,   0,   0,   0,   0],\n",
              "       [  0,   0,   0,   0,   0,   0,   0,   0,   0,  16, 248, 250, 253, 253, 253, 253, 232, 213, 111,   2,   0,   0,   0,   0,   0,   0,   0,   0],\n",
              "       [  0,   0,   0,   0,   0,   0,   0,   0,   0,   0,   0,  43,  98,  98, 208, 253, 253, 253, 253, 187,  22,   0,   0,   0,   0,   0,   0,   0],\n",
              "       [  0,   0,   0,   0,   0,   0,   0,   0,   0,   0,   0,   0,   0,   0,   9,  51, 119, 253, 253, 253,  76,   0,   0,   0,   0,   0,   0,   0],\n",
              "       [  0,   0,   0,   0,   0,   0,   0,   0,   0,   0,   0,   0,   0,   0,   0,   0,   1, 183, 253, 253, 139,   0,   0,   0,   0,   0,   0,   0],\n",
              "       [  0,   0,   0,   0,   0,   0,   0,   0,   0,   0,   0,   0,   0,   0,   0,   0,   0, 182, 253, 253, 104,   0,   0,   0,   0,   0,   0,   0],\n",
              "       [  0,   0,   0,   0,   0,   0,   0,   0,   0,   0,   0,   0,   0,   0,   0,   0,  85, 249, 253, 253,  36,   0,   0,   0,   0,   0,   0,   0],\n",
              "       [  0,   0,   0,   0,   0,   0,   0,   0,   0,   0,   0,   0,   0,   0,   0,  60, 214, 253, 253, 173,  11,   0,   0,   0,   0,   0,   0,   0],\n",
              "       [  0,   0,   0,   0,   0,   0,   0,   0,   0,   0,   0,   0,   0,   0,  98, 247, 253, 253, 226,   9,   0,   0,   0,   0,   0,   0,   0,   0],\n",
              "       [  0,   0,   0,   0,   0,   0,   0,   0,   0,   0,   0,   0,  42, 150, 252, 253, 253, 233,  53,   0,   0,   0,   0,   0,   0,   0,   0,   0],\n",
              "       [  0,   0,   0,   0,   0,   0,  42, 115,  42,  60, 115, 159, 240, 253, 253, 250, 175,  25,   0,   0,   0,   0,   0,   0,   0,   0,   0,   0],\n",
              "       [  0,   0,   0,   0,   0,   0, 187, 253, 253, 253, 253, 253, 253, 253, 197,  86,   0,   0,   0,   0,   0,   0,   0,   0,   0,   0,   0,   0],\n",
              "       [  0,   0,   0,   0,   0,   0, 103, 253, 253, 253, 253, 253, 232,  67,   1,   0,   0,   0,   0,   0,   0,   0,   0,   0,   0,   0,   0,   0],\n",
              "       [  0,   0,   0,   0,   0,   0,   0,   0,   0,   0,   0,   0,   0,   0,   0,   0,   0,   0,   0,   0,   0,   0,   0,   0,   0,   0,   0,   0],\n",
              "       [  0,   0,   0,   0,   0,   0,   0,   0,   0,   0,   0,   0,   0,   0,   0,   0,   0,   0,   0,   0,   0,   0,   0,   0,   0,   0,   0,   0],\n",
              "       [  0,   0,   0,   0,   0,   0,   0,   0,   0,   0,   0,   0,   0,   0,   0,   0,   0,   0,   0,   0,   0,   0,   0,   0,   0,   0,   0,   0]], dtype=uint8)"
            ]
          },
          "metadata": {
            "tags": []
          },
          "execution_count": 11
        }
      ]
    },
    {
      "cell_type": "code",
      "metadata": {
        "id": "Wd8MFLVW1Xw5",
        "colab": {
          "base_uri": "https://localhost:8080/"
        },
        "outputId": "10cd64bc-e789-4237-8f54-f4183970ba6f"
      },
      "source": [
        "tensor(im3)[4:10,4:10]\n",
        "tensor(im3)"
      ],
      "execution_count": null,
      "outputs": [
        {
          "output_type": "execute_result",
          "data": {
            "text/plain": [
              "tensor([[  0,   0,   0,   0,   0,   0,   0,   0,   0,   0,   0,   0,   0,   0,   0,   0,   0,   0,   0,   0,   0,   0,   0,   0,   0,   0,   0,   0],\n",
              "        [  0,   0,   0,   0,   0,   0,   0,   0,   0,   0,   0,   0,   0,   0,   0,   0,   0,   0,   0,   0,   0,   0,   0,   0,   0,   0,   0,   0],\n",
              "        [  0,   0,   0,   0,   0,   0,   0,   0,   0,   0,   0,   0,   0,   0,   0,   0,   0,   0,   0,   0,   0,   0,   0,   0,   0,   0,   0,   0],\n",
              "        [  0,   0,   0,   0,   0,   0,   0,   0,   0,   0,   0,   0,   0,   0,   0,   0,   0,   0,   0,   0,   0,   0,   0,   0,   0,   0,   0,   0],\n",
              "        [  0,   0,   0,   0,   0,   0,   0,   0,   0,   0,   0,   0,   0,   0,   0,   0,   0,   0,   0,   0,   0,   0,   0,   0,   0,   0,   0,   0],\n",
              "        [  0,   0,   0,   0,   0,   0,   0,   0,   0,  29, 150, 195, 254, 255, 254, 176, 193, 150,  96,   0,   0,   0,   0,   0,   0,   0,   0,   0],\n",
              "        [  0,   0,   0,   0,   0,   0,   0,  48, 166, 224, 253, 253, 234, 196, 253, 253, 253, 253, 233,   0,   0,   0,   0,   0,   0,   0,   0,   0],\n",
              "        [  0,   0,   0,   0,   0,  93, 244, 249, 253, 187,  46,  10,   8,   4,  10, 194, 253, 253, 233,   0,   0,   0,   0,   0,   0,   0,   0,   0],\n",
              "        [  0,   0,   0,   0,   0, 107, 253, 253, 230,  48,   0,   0,   0,   0,   0, 192, 253, 253, 156,   0,   0,   0,   0,   0,   0,   0,   0,   0],\n",
              "        [  0,   0,   0,   0,   0,   3,  20,  20,  15,   0,   0,   0,   0,   0,  43, 224, 253, 245,  74,   0,   0,   0,   0,   0,   0,   0,   0,   0],\n",
              "        [  0,   0,   0,   0,   0,   0,   0,   0,   0,   0,   0,   0,   0,   0, 249, 253, 245, 126,   0,   0,   0,   0,   0,   0,   0,   0,   0,   0],\n",
              "        [  0,   0,   0,   0,   0,   0,   0,   0,   0,   0,   0,  14, 101, 223, 253, 248, 124,   0,   0,   0,   0,   0,   0,   0,   0,   0,   0,   0],\n",
              "        [  0,   0,   0,   0,   0,   0,   0,   0,   0,  11, 166, 239, 253, 253, 253, 187,  30,   0,   0,   0,   0,   0,   0,   0,   0,   0,   0,   0],\n",
              "        [  0,   0,   0,   0,   0,   0,   0,   0,   0,  16, 248, 250, 253, 253, 253, 253, 232, 213, 111,   2,   0,   0,   0,   0,   0,   0,   0,   0],\n",
              "        [  0,   0,   0,   0,   0,   0,   0,   0,   0,   0,   0,  43,  98,  98, 208, 253, 253, 253, 253, 187,  22,   0,   0,   0,   0,   0,   0,   0],\n",
              "        [  0,   0,   0,   0,   0,   0,   0,   0,   0,   0,   0,   0,   0,   0,   9,  51, 119, 253, 253, 253,  76,   0,   0,   0,   0,   0,   0,   0],\n",
              "        [  0,   0,   0,   0,   0,   0,   0,   0,   0,   0,   0,   0,   0,   0,   0,   0,   1, 183, 253, 253, 139,   0,   0,   0,   0,   0,   0,   0],\n",
              "        [  0,   0,   0,   0,   0,   0,   0,   0,   0,   0,   0,   0,   0,   0,   0,   0,   0, 182, 253, 253, 104,   0,   0,   0,   0,   0,   0,   0],\n",
              "        [  0,   0,   0,   0,   0,   0,   0,   0,   0,   0,   0,   0,   0,   0,   0,   0,  85, 249, 253, 253,  36,   0,   0,   0,   0,   0,   0,   0],\n",
              "        [  0,   0,   0,   0,   0,   0,   0,   0,   0,   0,   0,   0,   0,   0,   0,  60, 214, 253, 253, 173,  11,   0,   0,   0,   0,   0,   0,   0],\n",
              "        [  0,   0,   0,   0,   0,   0,   0,   0,   0,   0,   0,   0,   0,   0,  98, 247, 253, 253, 226,   9,   0,   0,   0,   0,   0,   0,   0,   0],\n",
              "        [  0,   0,   0,   0,   0,   0,   0,   0,   0,   0,   0,   0,  42, 150, 252, 253, 253, 233,  53,   0,   0,   0,   0,   0,   0,   0,   0,   0],\n",
              "        [  0,   0,   0,   0,   0,   0,  42, 115,  42,  60, 115, 159, 240, 253, 253, 250, 175,  25,   0,   0,   0,   0,   0,   0,   0,   0,   0,   0],\n",
              "        [  0,   0,   0,   0,   0,   0, 187, 253, 253, 253, 253, 253, 253, 253, 197,  86,   0,   0,   0,   0,   0,   0,   0,   0,   0,   0,   0,   0],\n",
              "        [  0,   0,   0,   0,   0,   0, 103, 253, 253, 253, 253, 253, 232,  67,   1,   0,   0,   0,   0,   0,   0,   0,   0,   0,   0,   0,   0,   0],\n",
              "        [  0,   0,   0,   0,   0,   0,   0,   0,   0,   0,   0,   0,   0,   0,   0,   0,   0,   0,   0,   0,   0,   0,   0,   0,   0,   0,   0,   0],\n",
              "        [  0,   0,   0,   0,   0,   0,   0,   0,   0,   0,   0,   0,   0,   0,   0,   0,   0,   0,   0,   0,   0,   0,   0,   0,   0,   0,   0,   0],\n",
              "        [  0,   0,   0,   0,   0,   0,   0,   0,   0,   0,   0,   0,   0,   0,   0,   0,   0,   0,   0,   0,   0,   0,   0,   0,   0,   0,   0,   0]], dtype=torch.uint8)"
            ]
          },
          "metadata": {
            "tags": []
          },
          "execution_count": 12
        }
      ]
    },
    {
      "cell_type": "code",
      "metadata": {
        "id": "3TwmNwXX1Xw6",
        "colab": {
          "base_uri": "https://localhost:8080/",
          "height": 619
        },
        "outputId": "e06955d0-778a-4e95-e316-cac39e94f46f"
      },
      "source": [
        "im3_t = tensor(im3)\n",
        "#df = pd.DataFrame(im3_t[4:15,4:22])\n",
        "df = pd.DataFrame(im3_t)\n",
        "df.style.set_properties(**{'font-size':'6pt'}).background_gradient('Greys')"
      ],
      "execution_count": null,
      "outputs": [
        {
          "output_type": "execute_result",
          "data": {
            "text/html": [
              "<style  type=\"text/css\" >\n",
              "#T_b187d76e_75d2_11eb_bd19_0242ac1c0002row0_col0,#T_b187d76e_75d2_11eb_bd19_0242ac1c0002row0_col1,#T_b187d76e_75d2_11eb_bd19_0242ac1c0002row0_col2,#T_b187d76e_75d2_11eb_bd19_0242ac1c0002row0_col3,#T_b187d76e_75d2_11eb_bd19_0242ac1c0002row0_col4,#T_b187d76e_75d2_11eb_bd19_0242ac1c0002row0_col5,#T_b187d76e_75d2_11eb_bd19_0242ac1c0002row0_col6,#T_b187d76e_75d2_11eb_bd19_0242ac1c0002row0_col7,#T_b187d76e_75d2_11eb_bd19_0242ac1c0002row0_col8,#T_b187d76e_75d2_11eb_bd19_0242ac1c0002row0_col9,#T_b187d76e_75d2_11eb_bd19_0242ac1c0002row0_col10,#T_b187d76e_75d2_11eb_bd19_0242ac1c0002row0_col11,#T_b187d76e_75d2_11eb_bd19_0242ac1c0002row0_col12,#T_b187d76e_75d2_11eb_bd19_0242ac1c0002row0_col13,#T_b187d76e_75d2_11eb_bd19_0242ac1c0002row0_col14,#T_b187d76e_75d2_11eb_bd19_0242ac1c0002row0_col15,#T_b187d76e_75d2_11eb_bd19_0242ac1c0002row0_col16,#T_b187d76e_75d2_11eb_bd19_0242ac1c0002row0_col17,#T_b187d76e_75d2_11eb_bd19_0242ac1c0002row0_col18,#T_b187d76e_75d2_11eb_bd19_0242ac1c0002row0_col19,#T_b187d76e_75d2_11eb_bd19_0242ac1c0002row0_col20,#T_b187d76e_75d2_11eb_bd19_0242ac1c0002row0_col21,#T_b187d76e_75d2_11eb_bd19_0242ac1c0002row0_col22,#T_b187d76e_75d2_11eb_bd19_0242ac1c0002row0_col23,#T_b187d76e_75d2_11eb_bd19_0242ac1c0002row0_col24,#T_b187d76e_75d2_11eb_bd19_0242ac1c0002row0_col25,#T_b187d76e_75d2_11eb_bd19_0242ac1c0002row0_col26,#T_b187d76e_75d2_11eb_bd19_0242ac1c0002row0_col27,#T_b187d76e_75d2_11eb_bd19_0242ac1c0002row1_col0,#T_b187d76e_75d2_11eb_bd19_0242ac1c0002row1_col1,#T_b187d76e_75d2_11eb_bd19_0242ac1c0002row1_col2,#T_b187d76e_75d2_11eb_bd19_0242ac1c0002row1_col3,#T_b187d76e_75d2_11eb_bd19_0242ac1c0002row1_col4,#T_b187d76e_75d2_11eb_bd19_0242ac1c0002row1_col5,#T_b187d76e_75d2_11eb_bd19_0242ac1c0002row1_col6,#T_b187d76e_75d2_11eb_bd19_0242ac1c0002row1_col7,#T_b187d76e_75d2_11eb_bd19_0242ac1c0002row1_col8,#T_b187d76e_75d2_11eb_bd19_0242ac1c0002row1_col9,#T_b187d76e_75d2_11eb_bd19_0242ac1c0002row1_col10,#T_b187d76e_75d2_11eb_bd19_0242ac1c0002row1_col11,#T_b187d76e_75d2_11eb_bd19_0242ac1c0002row1_col12,#T_b187d76e_75d2_11eb_bd19_0242ac1c0002row1_col13,#T_b187d76e_75d2_11eb_bd19_0242ac1c0002row1_col14,#T_b187d76e_75d2_11eb_bd19_0242ac1c0002row1_col15,#T_b187d76e_75d2_11eb_bd19_0242ac1c0002row1_col16,#T_b187d76e_75d2_11eb_bd19_0242ac1c0002row1_col17,#T_b187d76e_75d2_11eb_bd19_0242ac1c0002row1_col18,#T_b187d76e_75d2_11eb_bd19_0242ac1c0002row1_col19,#T_b187d76e_75d2_11eb_bd19_0242ac1c0002row1_col20,#T_b187d76e_75d2_11eb_bd19_0242ac1c0002row1_col21,#T_b187d76e_75d2_11eb_bd19_0242ac1c0002row1_col22,#T_b187d76e_75d2_11eb_bd19_0242ac1c0002row1_col23,#T_b187d76e_75d2_11eb_bd19_0242ac1c0002row1_col24,#T_b187d76e_75d2_11eb_bd19_0242ac1c0002row1_col25,#T_b187d76e_75d2_11eb_bd19_0242ac1c0002row1_col26,#T_b187d76e_75d2_11eb_bd19_0242ac1c0002row1_col27,#T_b187d76e_75d2_11eb_bd19_0242ac1c0002row2_col0,#T_b187d76e_75d2_11eb_bd19_0242ac1c0002row2_col1,#T_b187d76e_75d2_11eb_bd19_0242ac1c0002row2_col2,#T_b187d76e_75d2_11eb_bd19_0242ac1c0002row2_col3,#T_b187d76e_75d2_11eb_bd19_0242ac1c0002row2_col4,#T_b187d76e_75d2_11eb_bd19_0242ac1c0002row2_col5,#T_b187d76e_75d2_11eb_bd19_0242ac1c0002row2_col6,#T_b187d76e_75d2_11eb_bd19_0242ac1c0002row2_col7,#T_b187d76e_75d2_11eb_bd19_0242ac1c0002row2_col8,#T_b187d76e_75d2_11eb_bd19_0242ac1c0002row2_col9,#T_b187d76e_75d2_11eb_bd19_0242ac1c0002row2_col10,#T_b187d76e_75d2_11eb_bd19_0242ac1c0002row2_col11,#T_b187d76e_75d2_11eb_bd19_0242ac1c0002row2_col12,#T_b187d76e_75d2_11eb_bd19_0242ac1c0002row2_col13,#T_b187d76e_75d2_11eb_bd19_0242ac1c0002row2_col14,#T_b187d76e_75d2_11eb_bd19_0242ac1c0002row2_col15,#T_b187d76e_75d2_11eb_bd19_0242ac1c0002row2_col16,#T_b187d76e_75d2_11eb_bd19_0242ac1c0002row2_col17,#T_b187d76e_75d2_11eb_bd19_0242ac1c0002row2_col18,#T_b187d76e_75d2_11eb_bd19_0242ac1c0002row2_col19,#T_b187d76e_75d2_11eb_bd19_0242ac1c0002row2_col20,#T_b187d76e_75d2_11eb_bd19_0242ac1c0002row2_col21,#T_b187d76e_75d2_11eb_bd19_0242ac1c0002row2_col22,#T_b187d76e_75d2_11eb_bd19_0242ac1c0002row2_col23,#T_b187d76e_75d2_11eb_bd19_0242ac1c0002row2_col24,#T_b187d76e_75d2_11eb_bd19_0242ac1c0002row2_col25,#T_b187d76e_75d2_11eb_bd19_0242ac1c0002row2_col26,#T_b187d76e_75d2_11eb_bd19_0242ac1c0002row2_col27,#T_b187d76e_75d2_11eb_bd19_0242ac1c0002row3_col0,#T_b187d76e_75d2_11eb_bd19_0242ac1c0002row3_col1,#T_b187d76e_75d2_11eb_bd19_0242ac1c0002row3_col2,#T_b187d76e_75d2_11eb_bd19_0242ac1c0002row3_col3,#T_b187d76e_75d2_11eb_bd19_0242ac1c0002row3_col4,#T_b187d76e_75d2_11eb_bd19_0242ac1c0002row3_col5,#T_b187d76e_75d2_11eb_bd19_0242ac1c0002row3_col6,#T_b187d76e_75d2_11eb_bd19_0242ac1c0002row3_col7,#T_b187d76e_75d2_11eb_bd19_0242ac1c0002row3_col8,#T_b187d76e_75d2_11eb_bd19_0242ac1c0002row3_col9,#T_b187d76e_75d2_11eb_bd19_0242ac1c0002row3_col10,#T_b187d76e_75d2_11eb_bd19_0242ac1c0002row3_col11,#T_b187d76e_75d2_11eb_bd19_0242ac1c0002row3_col12,#T_b187d76e_75d2_11eb_bd19_0242ac1c0002row3_col13,#T_b187d76e_75d2_11eb_bd19_0242ac1c0002row3_col14,#T_b187d76e_75d2_11eb_bd19_0242ac1c0002row3_col15,#T_b187d76e_75d2_11eb_bd19_0242ac1c0002row3_col16,#T_b187d76e_75d2_11eb_bd19_0242ac1c0002row3_col17,#T_b187d76e_75d2_11eb_bd19_0242ac1c0002row3_col18,#T_b187d76e_75d2_11eb_bd19_0242ac1c0002row3_col19,#T_b187d76e_75d2_11eb_bd19_0242ac1c0002row3_col20,#T_b187d76e_75d2_11eb_bd19_0242ac1c0002row3_col21,#T_b187d76e_75d2_11eb_bd19_0242ac1c0002row3_col22,#T_b187d76e_75d2_11eb_bd19_0242ac1c0002row3_col23,#T_b187d76e_75d2_11eb_bd19_0242ac1c0002row3_col24,#T_b187d76e_75d2_11eb_bd19_0242ac1c0002row3_col25,#T_b187d76e_75d2_11eb_bd19_0242ac1c0002row3_col26,#T_b187d76e_75d2_11eb_bd19_0242ac1c0002row3_col27,#T_b187d76e_75d2_11eb_bd19_0242ac1c0002row4_col0,#T_b187d76e_75d2_11eb_bd19_0242ac1c0002row4_col1,#T_b187d76e_75d2_11eb_bd19_0242ac1c0002row4_col2,#T_b187d76e_75d2_11eb_bd19_0242ac1c0002row4_col3,#T_b187d76e_75d2_11eb_bd19_0242ac1c0002row4_col4,#T_b187d76e_75d2_11eb_bd19_0242ac1c0002row4_col5,#T_b187d76e_75d2_11eb_bd19_0242ac1c0002row4_col6,#T_b187d76e_75d2_11eb_bd19_0242ac1c0002row4_col7,#T_b187d76e_75d2_11eb_bd19_0242ac1c0002row4_col8,#T_b187d76e_75d2_11eb_bd19_0242ac1c0002row4_col9,#T_b187d76e_75d2_11eb_bd19_0242ac1c0002row4_col10,#T_b187d76e_75d2_11eb_bd19_0242ac1c0002row4_col11,#T_b187d76e_75d2_11eb_bd19_0242ac1c0002row4_col12,#T_b187d76e_75d2_11eb_bd19_0242ac1c0002row4_col13,#T_b187d76e_75d2_11eb_bd19_0242ac1c0002row4_col14,#T_b187d76e_75d2_11eb_bd19_0242ac1c0002row4_col15,#T_b187d76e_75d2_11eb_bd19_0242ac1c0002row4_col16,#T_b187d76e_75d2_11eb_bd19_0242ac1c0002row4_col17,#T_b187d76e_75d2_11eb_bd19_0242ac1c0002row4_col18,#T_b187d76e_75d2_11eb_bd19_0242ac1c0002row4_col19,#T_b187d76e_75d2_11eb_bd19_0242ac1c0002row4_col20,#T_b187d76e_75d2_11eb_bd19_0242ac1c0002row4_col21,#T_b187d76e_75d2_11eb_bd19_0242ac1c0002row4_col22,#T_b187d76e_75d2_11eb_bd19_0242ac1c0002row4_col23,#T_b187d76e_75d2_11eb_bd19_0242ac1c0002row4_col24,#T_b187d76e_75d2_11eb_bd19_0242ac1c0002row4_col25,#T_b187d76e_75d2_11eb_bd19_0242ac1c0002row4_col26,#T_b187d76e_75d2_11eb_bd19_0242ac1c0002row4_col27,#T_b187d76e_75d2_11eb_bd19_0242ac1c0002row5_col0,#T_b187d76e_75d2_11eb_bd19_0242ac1c0002row5_col1,#T_b187d76e_75d2_11eb_bd19_0242ac1c0002row5_col2,#T_b187d76e_75d2_11eb_bd19_0242ac1c0002row5_col3,#T_b187d76e_75d2_11eb_bd19_0242ac1c0002row5_col4,#T_b187d76e_75d2_11eb_bd19_0242ac1c0002row5_col5,#T_b187d76e_75d2_11eb_bd19_0242ac1c0002row5_col6,#T_b187d76e_75d2_11eb_bd19_0242ac1c0002row5_col7,#T_b187d76e_75d2_11eb_bd19_0242ac1c0002row5_col8,#T_b187d76e_75d2_11eb_bd19_0242ac1c0002row5_col19,#T_b187d76e_75d2_11eb_bd19_0242ac1c0002row5_col20,#T_b187d76e_75d2_11eb_bd19_0242ac1c0002row5_col21,#T_b187d76e_75d2_11eb_bd19_0242ac1c0002row5_col22,#T_b187d76e_75d2_11eb_bd19_0242ac1c0002row5_col23,#T_b187d76e_75d2_11eb_bd19_0242ac1c0002row5_col24,#T_b187d76e_75d2_11eb_bd19_0242ac1c0002row5_col25,#T_b187d76e_75d2_11eb_bd19_0242ac1c0002row5_col26,#T_b187d76e_75d2_11eb_bd19_0242ac1c0002row5_col27,#T_b187d76e_75d2_11eb_bd19_0242ac1c0002row6_col0,#T_b187d76e_75d2_11eb_bd19_0242ac1c0002row6_col1,#T_b187d76e_75d2_11eb_bd19_0242ac1c0002row6_col2,#T_b187d76e_75d2_11eb_bd19_0242ac1c0002row6_col3,#T_b187d76e_75d2_11eb_bd19_0242ac1c0002row6_col4,#T_b187d76e_75d2_11eb_bd19_0242ac1c0002row6_col5,#T_b187d76e_75d2_11eb_bd19_0242ac1c0002row6_col6,#T_b187d76e_75d2_11eb_bd19_0242ac1c0002row6_col19,#T_b187d76e_75d2_11eb_bd19_0242ac1c0002row6_col20,#T_b187d76e_75d2_11eb_bd19_0242ac1c0002row6_col21,#T_b187d76e_75d2_11eb_bd19_0242ac1c0002row6_col22,#T_b187d76e_75d2_11eb_bd19_0242ac1c0002row6_col23,#T_b187d76e_75d2_11eb_bd19_0242ac1c0002row6_col24,#T_b187d76e_75d2_11eb_bd19_0242ac1c0002row6_col25,#T_b187d76e_75d2_11eb_bd19_0242ac1c0002row6_col26,#T_b187d76e_75d2_11eb_bd19_0242ac1c0002row6_col27,#T_b187d76e_75d2_11eb_bd19_0242ac1c0002row7_col0,#T_b187d76e_75d2_11eb_bd19_0242ac1c0002row7_col1,#T_b187d76e_75d2_11eb_bd19_0242ac1c0002row7_col2,#T_b187d76e_75d2_11eb_bd19_0242ac1c0002row7_col3,#T_b187d76e_75d2_11eb_bd19_0242ac1c0002row7_col4,#T_b187d76e_75d2_11eb_bd19_0242ac1c0002row7_col19,#T_b187d76e_75d2_11eb_bd19_0242ac1c0002row7_col20,#T_b187d76e_75d2_11eb_bd19_0242ac1c0002row7_col21,#T_b187d76e_75d2_11eb_bd19_0242ac1c0002row7_col22,#T_b187d76e_75d2_11eb_bd19_0242ac1c0002row7_col23,#T_b187d76e_75d2_11eb_bd19_0242ac1c0002row7_col24,#T_b187d76e_75d2_11eb_bd19_0242ac1c0002row7_col25,#T_b187d76e_75d2_11eb_bd19_0242ac1c0002row7_col26,#T_b187d76e_75d2_11eb_bd19_0242ac1c0002row7_col27,#T_b187d76e_75d2_11eb_bd19_0242ac1c0002row8_col0,#T_b187d76e_75d2_11eb_bd19_0242ac1c0002row8_col1,#T_b187d76e_75d2_11eb_bd19_0242ac1c0002row8_col2,#T_b187d76e_75d2_11eb_bd19_0242ac1c0002row8_col3,#T_b187d76e_75d2_11eb_bd19_0242ac1c0002row8_col4,#T_b187d76e_75d2_11eb_bd19_0242ac1c0002row8_col10,#T_b187d76e_75d2_11eb_bd19_0242ac1c0002row8_col11,#T_b187d76e_75d2_11eb_bd19_0242ac1c0002row8_col12,#T_b187d76e_75d2_11eb_bd19_0242ac1c0002row8_col13,#T_b187d76e_75d2_11eb_bd19_0242ac1c0002row8_col14,#T_b187d76e_75d2_11eb_bd19_0242ac1c0002row8_col19,#T_b187d76e_75d2_11eb_bd19_0242ac1c0002row8_col20,#T_b187d76e_75d2_11eb_bd19_0242ac1c0002row8_col21,#T_b187d76e_75d2_11eb_bd19_0242ac1c0002row8_col22,#T_b187d76e_75d2_11eb_bd19_0242ac1c0002row8_col23,#T_b187d76e_75d2_11eb_bd19_0242ac1c0002row8_col24,#T_b187d76e_75d2_11eb_bd19_0242ac1c0002row8_col25,#T_b187d76e_75d2_11eb_bd19_0242ac1c0002row8_col26,#T_b187d76e_75d2_11eb_bd19_0242ac1c0002row8_col27,#T_b187d76e_75d2_11eb_bd19_0242ac1c0002row9_col0,#T_b187d76e_75d2_11eb_bd19_0242ac1c0002row9_col1,#T_b187d76e_75d2_11eb_bd19_0242ac1c0002row9_col2,#T_b187d76e_75d2_11eb_bd19_0242ac1c0002row9_col3,#T_b187d76e_75d2_11eb_bd19_0242ac1c0002row9_col4,#T_b187d76e_75d2_11eb_bd19_0242ac1c0002row9_col9,#T_b187d76e_75d2_11eb_bd19_0242ac1c0002row9_col10,#T_b187d76e_75d2_11eb_bd19_0242ac1c0002row9_col11,#T_b187d76e_75d2_11eb_bd19_0242ac1c0002row9_col12,#T_b187d76e_75d2_11eb_bd19_0242ac1c0002row9_col13,#T_b187d76e_75d2_11eb_bd19_0242ac1c0002row9_col19,#T_b187d76e_75d2_11eb_bd19_0242ac1c0002row9_col20,#T_b187d76e_75d2_11eb_bd19_0242ac1c0002row9_col21,#T_b187d76e_75d2_11eb_bd19_0242ac1c0002row9_col22,#T_b187d76e_75d2_11eb_bd19_0242ac1c0002row9_col23,#T_b187d76e_75d2_11eb_bd19_0242ac1c0002row9_col24,#T_b187d76e_75d2_11eb_bd19_0242ac1c0002row9_col25,#T_b187d76e_75d2_11eb_bd19_0242ac1c0002row9_col26,#T_b187d76e_75d2_11eb_bd19_0242ac1c0002row9_col27,#T_b187d76e_75d2_11eb_bd19_0242ac1c0002row10_col0,#T_b187d76e_75d2_11eb_bd19_0242ac1c0002row10_col1,#T_b187d76e_75d2_11eb_bd19_0242ac1c0002row10_col2,#T_b187d76e_75d2_11eb_bd19_0242ac1c0002row10_col3,#T_b187d76e_75d2_11eb_bd19_0242ac1c0002row10_col4,#T_b187d76e_75d2_11eb_bd19_0242ac1c0002row10_col5,#T_b187d76e_75d2_11eb_bd19_0242ac1c0002row10_col6,#T_b187d76e_75d2_11eb_bd19_0242ac1c0002row10_col7,#T_b187d76e_75d2_11eb_bd19_0242ac1c0002row10_col8,#T_b187d76e_75d2_11eb_bd19_0242ac1c0002row10_col9,#T_b187d76e_75d2_11eb_bd19_0242ac1c0002row10_col10,#T_b187d76e_75d2_11eb_bd19_0242ac1c0002row10_col11,#T_b187d76e_75d2_11eb_bd19_0242ac1c0002row10_col12,#T_b187d76e_75d2_11eb_bd19_0242ac1c0002row10_col13,#T_b187d76e_75d2_11eb_bd19_0242ac1c0002row10_col18,#T_b187d76e_75d2_11eb_bd19_0242ac1c0002row10_col19,#T_b187d76e_75d2_11eb_bd19_0242ac1c0002row10_col20,#T_b187d76e_75d2_11eb_bd19_0242ac1c0002row10_col21,#T_b187d76e_75d2_11eb_bd19_0242ac1c0002row10_col22,#T_b187d76e_75d2_11eb_bd19_0242ac1c0002row10_col23,#T_b187d76e_75d2_11eb_bd19_0242ac1c0002row10_col24,#T_b187d76e_75d2_11eb_bd19_0242ac1c0002row10_col25,#T_b187d76e_75d2_11eb_bd19_0242ac1c0002row10_col26,#T_b187d76e_75d2_11eb_bd19_0242ac1c0002row10_col27,#T_b187d76e_75d2_11eb_bd19_0242ac1c0002row11_col0,#T_b187d76e_75d2_11eb_bd19_0242ac1c0002row11_col1,#T_b187d76e_75d2_11eb_bd19_0242ac1c0002row11_col2,#T_b187d76e_75d2_11eb_bd19_0242ac1c0002row11_col3,#T_b187d76e_75d2_11eb_bd19_0242ac1c0002row11_col4,#T_b187d76e_75d2_11eb_bd19_0242ac1c0002row11_col5,#T_b187d76e_75d2_11eb_bd19_0242ac1c0002row11_col6,#T_b187d76e_75d2_11eb_bd19_0242ac1c0002row11_col7,#T_b187d76e_75d2_11eb_bd19_0242ac1c0002row11_col8,#T_b187d76e_75d2_11eb_bd19_0242ac1c0002row11_col9,#T_b187d76e_75d2_11eb_bd19_0242ac1c0002row11_col10,#T_b187d76e_75d2_11eb_bd19_0242ac1c0002row11_col17,#T_b187d76e_75d2_11eb_bd19_0242ac1c0002row11_col18,#T_b187d76e_75d2_11eb_bd19_0242ac1c0002row11_col19,#T_b187d76e_75d2_11eb_bd19_0242ac1c0002row11_col20,#T_b187d76e_75d2_11eb_bd19_0242ac1c0002row11_col21,#T_b187d76e_75d2_11eb_bd19_0242ac1c0002row11_col22,#T_b187d76e_75d2_11eb_bd19_0242ac1c0002row11_col23,#T_b187d76e_75d2_11eb_bd19_0242ac1c0002row11_col24,#T_b187d76e_75d2_11eb_bd19_0242ac1c0002row11_col25,#T_b187d76e_75d2_11eb_bd19_0242ac1c0002row11_col26,#T_b187d76e_75d2_11eb_bd19_0242ac1c0002row11_col27,#T_b187d76e_75d2_11eb_bd19_0242ac1c0002row12_col0,#T_b187d76e_75d2_11eb_bd19_0242ac1c0002row12_col1,#T_b187d76e_75d2_11eb_bd19_0242ac1c0002row12_col2,#T_b187d76e_75d2_11eb_bd19_0242ac1c0002row12_col3,#T_b187d76e_75d2_11eb_bd19_0242ac1c0002row12_col4,#T_b187d76e_75d2_11eb_bd19_0242ac1c0002row12_col5,#T_b187d76e_75d2_11eb_bd19_0242ac1c0002row12_col6,#T_b187d76e_75d2_11eb_bd19_0242ac1c0002row12_col7,#T_b187d76e_75d2_11eb_bd19_0242ac1c0002row12_col8,#T_b187d76e_75d2_11eb_bd19_0242ac1c0002row12_col17,#T_b187d76e_75d2_11eb_bd19_0242ac1c0002row12_col18,#T_b187d76e_75d2_11eb_bd19_0242ac1c0002row12_col19,#T_b187d76e_75d2_11eb_bd19_0242ac1c0002row12_col20,#T_b187d76e_75d2_11eb_bd19_0242ac1c0002row12_col21,#T_b187d76e_75d2_11eb_bd19_0242ac1c0002row12_col22,#T_b187d76e_75d2_11eb_bd19_0242ac1c0002row12_col23,#T_b187d76e_75d2_11eb_bd19_0242ac1c0002row12_col24,#T_b187d76e_75d2_11eb_bd19_0242ac1c0002row12_col25,#T_b187d76e_75d2_11eb_bd19_0242ac1c0002row12_col26,#T_b187d76e_75d2_11eb_bd19_0242ac1c0002row12_col27,#T_b187d76e_75d2_11eb_bd19_0242ac1c0002row13_col0,#T_b187d76e_75d2_11eb_bd19_0242ac1c0002row13_col1,#T_b187d76e_75d2_11eb_bd19_0242ac1c0002row13_col2,#T_b187d76e_75d2_11eb_bd19_0242ac1c0002row13_col3,#T_b187d76e_75d2_11eb_bd19_0242ac1c0002row13_col4,#T_b187d76e_75d2_11eb_bd19_0242ac1c0002row13_col5,#T_b187d76e_75d2_11eb_bd19_0242ac1c0002row13_col6,#T_b187d76e_75d2_11eb_bd19_0242ac1c0002row13_col7,#T_b187d76e_75d2_11eb_bd19_0242ac1c0002row13_col8,#T_b187d76e_75d2_11eb_bd19_0242ac1c0002row13_col20,#T_b187d76e_75d2_11eb_bd19_0242ac1c0002row13_col21,#T_b187d76e_75d2_11eb_bd19_0242ac1c0002row13_col22,#T_b187d76e_75d2_11eb_bd19_0242ac1c0002row13_col23,#T_b187d76e_75d2_11eb_bd19_0242ac1c0002row13_col24,#T_b187d76e_75d2_11eb_bd19_0242ac1c0002row13_col25,#T_b187d76e_75d2_11eb_bd19_0242ac1c0002row13_col26,#T_b187d76e_75d2_11eb_bd19_0242ac1c0002row13_col27,#T_b187d76e_75d2_11eb_bd19_0242ac1c0002row14_col0,#T_b187d76e_75d2_11eb_bd19_0242ac1c0002row14_col1,#T_b187d76e_75d2_11eb_bd19_0242ac1c0002row14_col2,#T_b187d76e_75d2_11eb_bd19_0242ac1c0002row14_col3,#T_b187d76e_75d2_11eb_bd19_0242ac1c0002row14_col4,#T_b187d76e_75d2_11eb_bd19_0242ac1c0002row14_col5,#T_b187d76e_75d2_11eb_bd19_0242ac1c0002row14_col6,#T_b187d76e_75d2_11eb_bd19_0242ac1c0002row14_col7,#T_b187d76e_75d2_11eb_bd19_0242ac1c0002row14_col8,#T_b187d76e_75d2_11eb_bd19_0242ac1c0002row14_col9,#T_b187d76e_75d2_11eb_bd19_0242ac1c0002row14_col10,#T_b187d76e_75d2_11eb_bd19_0242ac1c0002row14_col21,#T_b187d76e_75d2_11eb_bd19_0242ac1c0002row14_col22,#T_b187d76e_75d2_11eb_bd19_0242ac1c0002row14_col23,#T_b187d76e_75d2_11eb_bd19_0242ac1c0002row14_col24,#T_b187d76e_75d2_11eb_bd19_0242ac1c0002row14_col25,#T_b187d76e_75d2_11eb_bd19_0242ac1c0002row14_col26,#T_b187d76e_75d2_11eb_bd19_0242ac1c0002row14_col27,#T_b187d76e_75d2_11eb_bd19_0242ac1c0002row15_col0,#T_b187d76e_75d2_11eb_bd19_0242ac1c0002row15_col1,#T_b187d76e_75d2_11eb_bd19_0242ac1c0002row15_col2,#T_b187d76e_75d2_11eb_bd19_0242ac1c0002row15_col3,#T_b187d76e_75d2_11eb_bd19_0242ac1c0002row15_col4,#T_b187d76e_75d2_11eb_bd19_0242ac1c0002row15_col5,#T_b187d76e_75d2_11eb_bd19_0242ac1c0002row15_col6,#T_b187d76e_75d2_11eb_bd19_0242ac1c0002row15_col7,#T_b187d76e_75d2_11eb_bd19_0242ac1c0002row15_col8,#T_b187d76e_75d2_11eb_bd19_0242ac1c0002row15_col9,#T_b187d76e_75d2_11eb_bd19_0242ac1c0002row15_col10,#T_b187d76e_75d2_11eb_bd19_0242ac1c0002row15_col11,#T_b187d76e_75d2_11eb_bd19_0242ac1c0002row15_col12,#T_b187d76e_75d2_11eb_bd19_0242ac1c0002row15_col13,#T_b187d76e_75d2_11eb_bd19_0242ac1c0002row15_col21,#T_b187d76e_75d2_11eb_bd19_0242ac1c0002row15_col22,#T_b187d76e_75d2_11eb_bd19_0242ac1c0002row15_col23,#T_b187d76e_75d2_11eb_bd19_0242ac1c0002row15_col24,#T_b187d76e_75d2_11eb_bd19_0242ac1c0002row15_col25,#T_b187d76e_75d2_11eb_bd19_0242ac1c0002row15_col26,#T_b187d76e_75d2_11eb_bd19_0242ac1c0002row15_col27,#T_b187d76e_75d2_11eb_bd19_0242ac1c0002row16_col0,#T_b187d76e_75d2_11eb_bd19_0242ac1c0002row16_col1,#T_b187d76e_75d2_11eb_bd19_0242ac1c0002row16_col2,#T_b187d76e_75d2_11eb_bd19_0242ac1c0002row16_col3,#T_b187d76e_75d2_11eb_bd19_0242ac1c0002row16_col4,#T_b187d76e_75d2_11eb_bd19_0242ac1c0002row16_col5,#T_b187d76e_75d2_11eb_bd19_0242ac1c0002row16_col6,#T_b187d76e_75d2_11eb_bd19_0242ac1c0002row16_col7,#T_b187d76e_75d2_11eb_bd19_0242ac1c0002row16_col8,#T_b187d76e_75d2_11eb_bd19_0242ac1c0002row16_col9,#T_b187d76e_75d2_11eb_bd19_0242ac1c0002row16_col10,#T_b187d76e_75d2_11eb_bd19_0242ac1c0002row16_col11,#T_b187d76e_75d2_11eb_bd19_0242ac1c0002row16_col12,#T_b187d76e_75d2_11eb_bd19_0242ac1c0002row16_col13,#T_b187d76e_75d2_11eb_bd19_0242ac1c0002row16_col14,#T_b187d76e_75d2_11eb_bd19_0242ac1c0002row16_col15,#T_b187d76e_75d2_11eb_bd19_0242ac1c0002row16_col16,#T_b187d76e_75d2_11eb_bd19_0242ac1c0002row16_col21,#T_b187d76e_75d2_11eb_bd19_0242ac1c0002row16_col22,#T_b187d76e_75d2_11eb_bd19_0242ac1c0002row16_col23,#T_b187d76e_75d2_11eb_bd19_0242ac1c0002row16_col24,#T_b187d76e_75d2_11eb_bd19_0242ac1c0002row16_col25,#T_b187d76e_75d2_11eb_bd19_0242ac1c0002row16_col26,#T_b187d76e_75d2_11eb_bd19_0242ac1c0002row16_col27,#T_b187d76e_75d2_11eb_bd19_0242ac1c0002row17_col0,#T_b187d76e_75d2_11eb_bd19_0242ac1c0002row17_col1,#T_b187d76e_75d2_11eb_bd19_0242ac1c0002row17_col2,#T_b187d76e_75d2_11eb_bd19_0242ac1c0002row17_col3,#T_b187d76e_75d2_11eb_bd19_0242ac1c0002row17_col4,#T_b187d76e_75d2_11eb_bd19_0242ac1c0002row17_col5,#T_b187d76e_75d2_11eb_bd19_0242ac1c0002row17_col6,#T_b187d76e_75d2_11eb_bd19_0242ac1c0002row17_col7,#T_b187d76e_75d2_11eb_bd19_0242ac1c0002row17_col8,#T_b187d76e_75d2_11eb_bd19_0242ac1c0002row17_col9,#T_b187d76e_75d2_11eb_bd19_0242ac1c0002row17_col10,#T_b187d76e_75d2_11eb_bd19_0242ac1c0002row17_col11,#T_b187d76e_75d2_11eb_bd19_0242ac1c0002row17_col12,#T_b187d76e_75d2_11eb_bd19_0242ac1c0002row17_col13,#T_b187d76e_75d2_11eb_bd19_0242ac1c0002row17_col14,#T_b187d76e_75d2_11eb_bd19_0242ac1c0002row17_col15,#T_b187d76e_75d2_11eb_bd19_0242ac1c0002row17_col16,#T_b187d76e_75d2_11eb_bd19_0242ac1c0002row17_col21,#T_b187d76e_75d2_11eb_bd19_0242ac1c0002row17_col22,#T_b187d76e_75d2_11eb_bd19_0242ac1c0002row17_col23,#T_b187d76e_75d2_11eb_bd19_0242ac1c0002row17_col24,#T_b187d76e_75d2_11eb_bd19_0242ac1c0002row17_col25,#T_b187d76e_75d2_11eb_bd19_0242ac1c0002row17_col26,#T_b187d76e_75d2_11eb_bd19_0242ac1c0002row17_col27,#T_b187d76e_75d2_11eb_bd19_0242ac1c0002row18_col0,#T_b187d76e_75d2_11eb_bd19_0242ac1c0002row18_col1,#T_b187d76e_75d2_11eb_bd19_0242ac1c0002row18_col2,#T_b187d76e_75d2_11eb_bd19_0242ac1c0002row18_col3,#T_b187d76e_75d2_11eb_bd19_0242ac1c0002row18_col4,#T_b187d76e_75d2_11eb_bd19_0242ac1c0002row18_col5,#T_b187d76e_75d2_11eb_bd19_0242ac1c0002row18_col6,#T_b187d76e_75d2_11eb_bd19_0242ac1c0002row18_col7,#T_b187d76e_75d2_11eb_bd19_0242ac1c0002row18_col8,#T_b187d76e_75d2_11eb_bd19_0242ac1c0002row18_col9,#T_b187d76e_75d2_11eb_bd19_0242ac1c0002row18_col10,#T_b187d76e_75d2_11eb_bd19_0242ac1c0002row18_col11,#T_b187d76e_75d2_11eb_bd19_0242ac1c0002row18_col12,#T_b187d76e_75d2_11eb_bd19_0242ac1c0002row18_col13,#T_b187d76e_75d2_11eb_bd19_0242ac1c0002row18_col14,#T_b187d76e_75d2_11eb_bd19_0242ac1c0002row18_col15,#T_b187d76e_75d2_11eb_bd19_0242ac1c0002row18_col21,#T_b187d76e_75d2_11eb_bd19_0242ac1c0002row18_col22,#T_b187d76e_75d2_11eb_bd19_0242ac1c0002row18_col23,#T_b187d76e_75d2_11eb_bd19_0242ac1c0002row18_col24,#T_b187d76e_75d2_11eb_bd19_0242ac1c0002row18_col25,#T_b187d76e_75d2_11eb_bd19_0242ac1c0002row18_col26,#T_b187d76e_75d2_11eb_bd19_0242ac1c0002row18_col27,#T_b187d76e_75d2_11eb_bd19_0242ac1c0002row19_col0,#T_b187d76e_75d2_11eb_bd19_0242ac1c0002row19_col1,#T_b187d76e_75d2_11eb_bd19_0242ac1c0002row19_col2,#T_b187d76e_75d2_11eb_bd19_0242ac1c0002row19_col3,#T_b187d76e_75d2_11eb_bd19_0242ac1c0002row19_col4,#T_b187d76e_75d2_11eb_bd19_0242ac1c0002row19_col5,#T_b187d76e_75d2_11eb_bd19_0242ac1c0002row19_col6,#T_b187d76e_75d2_11eb_bd19_0242ac1c0002row19_col7,#T_b187d76e_75d2_11eb_bd19_0242ac1c0002row19_col8,#T_b187d76e_75d2_11eb_bd19_0242ac1c0002row19_col9,#T_b187d76e_75d2_11eb_bd19_0242ac1c0002row19_col10,#T_b187d76e_75d2_11eb_bd19_0242ac1c0002row19_col11,#T_b187d76e_75d2_11eb_bd19_0242ac1c0002row19_col12,#T_b187d76e_75d2_11eb_bd19_0242ac1c0002row19_col13,#T_b187d76e_75d2_11eb_bd19_0242ac1c0002row19_col14,#T_b187d76e_75d2_11eb_bd19_0242ac1c0002row19_col21,#T_b187d76e_75d2_11eb_bd19_0242ac1c0002row19_col22,#T_b187d76e_75d2_11eb_bd19_0242ac1c0002row19_col23,#T_b187d76e_75d2_11eb_bd19_0242ac1c0002row19_col24,#T_b187d76e_75d2_11eb_bd19_0242ac1c0002row19_col25,#T_b187d76e_75d2_11eb_bd19_0242ac1c0002row19_col26,#T_b187d76e_75d2_11eb_bd19_0242ac1c0002row19_col27,#T_b187d76e_75d2_11eb_bd19_0242ac1c0002row20_col0,#T_b187d76e_75d2_11eb_bd19_0242ac1c0002row20_col1,#T_b187d76e_75d2_11eb_bd19_0242ac1c0002row20_col2,#T_b187d76e_75d2_11eb_bd19_0242ac1c0002row20_col3,#T_b187d76e_75d2_11eb_bd19_0242ac1c0002row20_col4,#T_b187d76e_75d2_11eb_bd19_0242ac1c0002row20_col5,#T_b187d76e_75d2_11eb_bd19_0242ac1c0002row20_col6,#T_b187d76e_75d2_11eb_bd19_0242ac1c0002row20_col7,#T_b187d76e_75d2_11eb_bd19_0242ac1c0002row20_col8,#T_b187d76e_75d2_11eb_bd19_0242ac1c0002row20_col9,#T_b187d76e_75d2_11eb_bd19_0242ac1c0002row20_col10,#T_b187d76e_75d2_11eb_bd19_0242ac1c0002row20_col11,#T_b187d76e_75d2_11eb_bd19_0242ac1c0002row20_col12,#T_b187d76e_75d2_11eb_bd19_0242ac1c0002row20_col13,#T_b187d76e_75d2_11eb_bd19_0242ac1c0002row20_col20,#T_b187d76e_75d2_11eb_bd19_0242ac1c0002row20_col21,#T_b187d76e_75d2_11eb_bd19_0242ac1c0002row20_col22,#T_b187d76e_75d2_11eb_bd19_0242ac1c0002row20_col23,#T_b187d76e_75d2_11eb_bd19_0242ac1c0002row20_col24,#T_b187d76e_75d2_11eb_bd19_0242ac1c0002row20_col25,#T_b187d76e_75d2_11eb_bd19_0242ac1c0002row20_col26,#T_b187d76e_75d2_11eb_bd19_0242ac1c0002row20_col27,#T_b187d76e_75d2_11eb_bd19_0242ac1c0002row21_col0,#T_b187d76e_75d2_11eb_bd19_0242ac1c0002row21_col1,#T_b187d76e_75d2_11eb_bd19_0242ac1c0002row21_col2,#T_b187d76e_75d2_11eb_bd19_0242ac1c0002row21_col3,#T_b187d76e_75d2_11eb_bd19_0242ac1c0002row21_col4,#T_b187d76e_75d2_11eb_bd19_0242ac1c0002row21_col5,#T_b187d76e_75d2_11eb_bd19_0242ac1c0002row21_col6,#T_b187d76e_75d2_11eb_bd19_0242ac1c0002row21_col7,#T_b187d76e_75d2_11eb_bd19_0242ac1c0002row21_col8,#T_b187d76e_75d2_11eb_bd19_0242ac1c0002row21_col9,#T_b187d76e_75d2_11eb_bd19_0242ac1c0002row21_col10,#T_b187d76e_75d2_11eb_bd19_0242ac1c0002row21_col11,#T_b187d76e_75d2_11eb_bd19_0242ac1c0002row21_col19,#T_b187d76e_75d2_11eb_bd19_0242ac1c0002row21_col20,#T_b187d76e_75d2_11eb_bd19_0242ac1c0002row21_col21,#T_b187d76e_75d2_11eb_bd19_0242ac1c0002row21_col22,#T_b187d76e_75d2_11eb_bd19_0242ac1c0002row21_col23,#T_b187d76e_75d2_11eb_bd19_0242ac1c0002row21_col24,#T_b187d76e_75d2_11eb_bd19_0242ac1c0002row21_col25,#T_b187d76e_75d2_11eb_bd19_0242ac1c0002row21_col26,#T_b187d76e_75d2_11eb_bd19_0242ac1c0002row21_col27,#T_b187d76e_75d2_11eb_bd19_0242ac1c0002row22_col0,#T_b187d76e_75d2_11eb_bd19_0242ac1c0002row22_col1,#T_b187d76e_75d2_11eb_bd19_0242ac1c0002row22_col2,#T_b187d76e_75d2_11eb_bd19_0242ac1c0002row22_col3,#T_b187d76e_75d2_11eb_bd19_0242ac1c0002row22_col4,#T_b187d76e_75d2_11eb_bd19_0242ac1c0002row22_col5,#T_b187d76e_75d2_11eb_bd19_0242ac1c0002row22_col18,#T_b187d76e_75d2_11eb_bd19_0242ac1c0002row22_col19,#T_b187d76e_75d2_11eb_bd19_0242ac1c0002row22_col20,#T_b187d76e_75d2_11eb_bd19_0242ac1c0002row22_col21,#T_b187d76e_75d2_11eb_bd19_0242ac1c0002row22_col22,#T_b187d76e_75d2_11eb_bd19_0242ac1c0002row22_col23,#T_b187d76e_75d2_11eb_bd19_0242ac1c0002row22_col24,#T_b187d76e_75d2_11eb_bd19_0242ac1c0002row22_col25,#T_b187d76e_75d2_11eb_bd19_0242ac1c0002row22_col26,#T_b187d76e_75d2_11eb_bd19_0242ac1c0002row22_col27,#T_b187d76e_75d2_11eb_bd19_0242ac1c0002row23_col0,#T_b187d76e_75d2_11eb_bd19_0242ac1c0002row23_col1,#T_b187d76e_75d2_11eb_bd19_0242ac1c0002row23_col2,#T_b187d76e_75d2_11eb_bd19_0242ac1c0002row23_col3,#T_b187d76e_75d2_11eb_bd19_0242ac1c0002row23_col4,#T_b187d76e_75d2_11eb_bd19_0242ac1c0002row23_col5,#T_b187d76e_75d2_11eb_bd19_0242ac1c0002row23_col16,#T_b187d76e_75d2_11eb_bd19_0242ac1c0002row23_col17,#T_b187d76e_75d2_11eb_bd19_0242ac1c0002row23_col18,#T_b187d76e_75d2_11eb_bd19_0242ac1c0002row23_col19,#T_b187d76e_75d2_11eb_bd19_0242ac1c0002row23_col20,#T_b187d76e_75d2_11eb_bd19_0242ac1c0002row23_col21,#T_b187d76e_75d2_11eb_bd19_0242ac1c0002row23_col22,#T_b187d76e_75d2_11eb_bd19_0242ac1c0002row23_col23,#T_b187d76e_75d2_11eb_bd19_0242ac1c0002row23_col24,#T_b187d76e_75d2_11eb_bd19_0242ac1c0002row23_col25,#T_b187d76e_75d2_11eb_bd19_0242ac1c0002row23_col26,#T_b187d76e_75d2_11eb_bd19_0242ac1c0002row23_col27,#T_b187d76e_75d2_11eb_bd19_0242ac1c0002row24_col0,#T_b187d76e_75d2_11eb_bd19_0242ac1c0002row24_col1,#T_b187d76e_75d2_11eb_bd19_0242ac1c0002row24_col2,#T_b187d76e_75d2_11eb_bd19_0242ac1c0002row24_col3,#T_b187d76e_75d2_11eb_bd19_0242ac1c0002row24_col4,#T_b187d76e_75d2_11eb_bd19_0242ac1c0002row24_col5,#T_b187d76e_75d2_11eb_bd19_0242ac1c0002row24_col14,#T_b187d76e_75d2_11eb_bd19_0242ac1c0002row24_col15,#T_b187d76e_75d2_11eb_bd19_0242ac1c0002row24_col16,#T_b187d76e_75d2_11eb_bd19_0242ac1c0002row24_col17,#T_b187d76e_75d2_11eb_bd19_0242ac1c0002row24_col18,#T_b187d76e_75d2_11eb_bd19_0242ac1c0002row24_col19,#T_b187d76e_75d2_11eb_bd19_0242ac1c0002row24_col20,#T_b187d76e_75d2_11eb_bd19_0242ac1c0002row24_col21,#T_b187d76e_75d2_11eb_bd19_0242ac1c0002row24_col22,#T_b187d76e_75d2_11eb_bd19_0242ac1c0002row24_col23,#T_b187d76e_75d2_11eb_bd19_0242ac1c0002row24_col24,#T_b187d76e_75d2_11eb_bd19_0242ac1c0002row24_col25,#T_b187d76e_75d2_11eb_bd19_0242ac1c0002row24_col26,#T_b187d76e_75d2_11eb_bd19_0242ac1c0002row24_col27,#T_b187d76e_75d2_11eb_bd19_0242ac1c0002row25_col0,#T_b187d76e_75d2_11eb_bd19_0242ac1c0002row25_col1,#T_b187d76e_75d2_11eb_bd19_0242ac1c0002row25_col2,#T_b187d76e_75d2_11eb_bd19_0242ac1c0002row25_col3,#T_b187d76e_75d2_11eb_bd19_0242ac1c0002row25_col4,#T_b187d76e_75d2_11eb_bd19_0242ac1c0002row25_col5,#T_b187d76e_75d2_11eb_bd19_0242ac1c0002row25_col6,#T_b187d76e_75d2_11eb_bd19_0242ac1c0002row25_col7,#T_b187d76e_75d2_11eb_bd19_0242ac1c0002row25_col8,#T_b187d76e_75d2_11eb_bd19_0242ac1c0002row25_col9,#T_b187d76e_75d2_11eb_bd19_0242ac1c0002row25_col10,#T_b187d76e_75d2_11eb_bd19_0242ac1c0002row25_col11,#T_b187d76e_75d2_11eb_bd19_0242ac1c0002row25_col12,#T_b187d76e_75d2_11eb_bd19_0242ac1c0002row25_col13,#T_b187d76e_75d2_11eb_bd19_0242ac1c0002row25_col14,#T_b187d76e_75d2_11eb_bd19_0242ac1c0002row25_col15,#T_b187d76e_75d2_11eb_bd19_0242ac1c0002row25_col16,#T_b187d76e_75d2_11eb_bd19_0242ac1c0002row25_col17,#T_b187d76e_75d2_11eb_bd19_0242ac1c0002row25_col18,#T_b187d76e_75d2_11eb_bd19_0242ac1c0002row25_col19,#T_b187d76e_75d2_11eb_bd19_0242ac1c0002row25_col20,#T_b187d76e_75d2_11eb_bd19_0242ac1c0002row25_col21,#T_b187d76e_75d2_11eb_bd19_0242ac1c0002row25_col22,#T_b187d76e_75d2_11eb_bd19_0242ac1c0002row25_col23,#T_b187d76e_75d2_11eb_bd19_0242ac1c0002row25_col24,#T_b187d76e_75d2_11eb_bd19_0242ac1c0002row25_col25,#T_b187d76e_75d2_11eb_bd19_0242ac1c0002row25_col26,#T_b187d76e_75d2_11eb_bd19_0242ac1c0002row25_col27,#T_b187d76e_75d2_11eb_bd19_0242ac1c0002row26_col0,#T_b187d76e_75d2_11eb_bd19_0242ac1c0002row26_col1,#T_b187d76e_75d2_11eb_bd19_0242ac1c0002row26_col2,#T_b187d76e_75d2_11eb_bd19_0242ac1c0002row26_col3,#T_b187d76e_75d2_11eb_bd19_0242ac1c0002row26_col4,#T_b187d76e_75d2_11eb_bd19_0242ac1c0002row26_col5,#T_b187d76e_75d2_11eb_bd19_0242ac1c0002row26_col6,#T_b187d76e_75d2_11eb_bd19_0242ac1c0002row26_col7,#T_b187d76e_75d2_11eb_bd19_0242ac1c0002row26_col8,#T_b187d76e_75d2_11eb_bd19_0242ac1c0002row26_col9,#T_b187d76e_75d2_11eb_bd19_0242ac1c0002row26_col10,#T_b187d76e_75d2_11eb_bd19_0242ac1c0002row26_col11,#T_b187d76e_75d2_11eb_bd19_0242ac1c0002row26_col12,#T_b187d76e_75d2_11eb_bd19_0242ac1c0002row26_col13,#T_b187d76e_75d2_11eb_bd19_0242ac1c0002row26_col14,#T_b187d76e_75d2_11eb_bd19_0242ac1c0002row26_col15,#T_b187d76e_75d2_11eb_bd19_0242ac1c0002row26_col16,#T_b187d76e_75d2_11eb_bd19_0242ac1c0002row26_col17,#T_b187d76e_75d2_11eb_bd19_0242ac1c0002row26_col18,#T_b187d76e_75d2_11eb_bd19_0242ac1c0002row26_col19,#T_b187d76e_75d2_11eb_bd19_0242ac1c0002row26_col20,#T_b187d76e_75d2_11eb_bd19_0242ac1c0002row26_col21,#T_b187d76e_75d2_11eb_bd19_0242ac1c0002row26_col22,#T_b187d76e_75d2_11eb_bd19_0242ac1c0002row26_col23,#T_b187d76e_75d2_11eb_bd19_0242ac1c0002row26_col24,#T_b187d76e_75d2_11eb_bd19_0242ac1c0002row26_col25,#T_b187d76e_75d2_11eb_bd19_0242ac1c0002row26_col26,#T_b187d76e_75d2_11eb_bd19_0242ac1c0002row26_col27,#T_b187d76e_75d2_11eb_bd19_0242ac1c0002row27_col0,#T_b187d76e_75d2_11eb_bd19_0242ac1c0002row27_col1,#T_b187d76e_75d2_11eb_bd19_0242ac1c0002row27_col2,#T_b187d76e_75d2_11eb_bd19_0242ac1c0002row27_col3,#T_b187d76e_75d2_11eb_bd19_0242ac1c0002row27_col4,#T_b187d76e_75d2_11eb_bd19_0242ac1c0002row27_col5,#T_b187d76e_75d2_11eb_bd19_0242ac1c0002row27_col6,#T_b187d76e_75d2_11eb_bd19_0242ac1c0002row27_col7,#T_b187d76e_75d2_11eb_bd19_0242ac1c0002row27_col8,#T_b187d76e_75d2_11eb_bd19_0242ac1c0002row27_col9,#T_b187d76e_75d2_11eb_bd19_0242ac1c0002row27_col10,#T_b187d76e_75d2_11eb_bd19_0242ac1c0002row27_col11,#T_b187d76e_75d2_11eb_bd19_0242ac1c0002row27_col12,#T_b187d76e_75d2_11eb_bd19_0242ac1c0002row27_col13,#T_b187d76e_75d2_11eb_bd19_0242ac1c0002row27_col14,#T_b187d76e_75d2_11eb_bd19_0242ac1c0002row27_col15,#T_b187d76e_75d2_11eb_bd19_0242ac1c0002row27_col16,#T_b187d76e_75d2_11eb_bd19_0242ac1c0002row27_col17,#T_b187d76e_75d2_11eb_bd19_0242ac1c0002row27_col18,#T_b187d76e_75d2_11eb_bd19_0242ac1c0002row27_col19,#T_b187d76e_75d2_11eb_bd19_0242ac1c0002row27_col20,#T_b187d76e_75d2_11eb_bd19_0242ac1c0002row27_col21,#T_b187d76e_75d2_11eb_bd19_0242ac1c0002row27_col22,#T_b187d76e_75d2_11eb_bd19_0242ac1c0002row27_col23,#T_b187d76e_75d2_11eb_bd19_0242ac1c0002row27_col24,#T_b187d76e_75d2_11eb_bd19_0242ac1c0002row27_col25,#T_b187d76e_75d2_11eb_bd19_0242ac1c0002row27_col26,#T_b187d76e_75d2_11eb_bd19_0242ac1c0002row27_col27{\n",
              "            font-size:  6pt;\n",
              "            background-color:  #ffffff;\n",
              "            color:  #000000;\n",
              "        }#T_b187d76e_75d2_11eb_bd19_0242ac1c0002row5_col9,#T_b187d76e_75d2_11eb_bd19_0242ac1c0002row12_col16{\n",
              "            font-size:  6pt;\n",
              "            background-color:  #f1f1f1;\n",
              "            color:  #000000;\n",
              "        }#T_b187d76e_75d2_11eb_bd19_0242ac1c0002row5_col10,#T_b187d76e_75d2_11eb_bd19_0242ac1c0002row5_col17{\n",
              "            font-size:  6pt;\n",
              "            background-color:  #7c7c7c;\n",
              "            color:  #000000;\n",
              "        }#T_b187d76e_75d2_11eb_bd19_0242ac1c0002row5_col11{\n",
              "            font-size:  6pt;\n",
              "            background-color:  #4a4a4a;\n",
              "            color:  #f1f1f1;\n",
              "        }#T_b187d76e_75d2_11eb_bd19_0242ac1c0002row5_col12,#T_b187d76e_75d2_11eb_bd19_0242ac1c0002row5_col13,#T_b187d76e_75d2_11eb_bd19_0242ac1c0002row5_col14,#T_b187d76e_75d2_11eb_bd19_0242ac1c0002row6_col10,#T_b187d76e_75d2_11eb_bd19_0242ac1c0002row6_col11,#T_b187d76e_75d2_11eb_bd19_0242ac1c0002row6_col15,#T_b187d76e_75d2_11eb_bd19_0242ac1c0002row6_col16,#T_b187d76e_75d2_11eb_bd19_0242ac1c0002row6_col17,#T_b187d76e_75d2_11eb_bd19_0242ac1c0002row7_col8,#T_b187d76e_75d2_11eb_bd19_0242ac1c0002row7_col16,#T_b187d76e_75d2_11eb_bd19_0242ac1c0002row7_col17,#T_b187d76e_75d2_11eb_bd19_0242ac1c0002row8_col5,#T_b187d76e_75d2_11eb_bd19_0242ac1c0002row8_col6,#T_b187d76e_75d2_11eb_bd19_0242ac1c0002row8_col7,#T_b187d76e_75d2_11eb_bd19_0242ac1c0002row8_col16,#T_b187d76e_75d2_11eb_bd19_0242ac1c0002row8_col17,#T_b187d76e_75d2_11eb_bd19_0242ac1c0002row9_col16,#T_b187d76e_75d2_11eb_bd19_0242ac1c0002row10_col15,#T_b187d76e_75d2_11eb_bd19_0242ac1c0002row13_col15,#T_b187d76e_75d2_11eb_bd19_0242ac1c0002row14_col15,#T_b187d76e_75d2_11eb_bd19_0242ac1c0002row14_col16,#T_b187d76e_75d2_11eb_bd19_0242ac1c0002row14_col17,#T_b187d76e_75d2_11eb_bd19_0242ac1c0002row14_col18,#T_b187d76e_75d2_11eb_bd19_0242ac1c0002row15_col17,#T_b187d76e_75d2_11eb_bd19_0242ac1c0002row15_col18,#T_b187d76e_75d2_11eb_bd19_0242ac1c0002row15_col19,#T_b187d76e_75d2_11eb_bd19_0242ac1c0002row16_col18,#T_b187d76e_75d2_11eb_bd19_0242ac1c0002row16_col19,#T_b187d76e_75d2_11eb_bd19_0242ac1c0002row16_col20,#T_b187d76e_75d2_11eb_bd19_0242ac1c0002row17_col18,#T_b187d76e_75d2_11eb_bd19_0242ac1c0002row17_col19,#T_b187d76e_75d2_11eb_bd19_0242ac1c0002row18_col18,#T_b187d76e_75d2_11eb_bd19_0242ac1c0002row18_col19,#T_b187d76e_75d2_11eb_bd19_0242ac1c0002row19_col17,#T_b187d76e_75d2_11eb_bd19_0242ac1c0002row19_col18,#T_b187d76e_75d2_11eb_bd19_0242ac1c0002row20_col16,#T_b187d76e_75d2_11eb_bd19_0242ac1c0002row20_col17,#T_b187d76e_75d2_11eb_bd19_0242ac1c0002row21_col15,#T_b187d76e_75d2_11eb_bd19_0242ac1c0002row21_col16,#T_b187d76e_75d2_11eb_bd19_0242ac1c0002row23_col7,#T_b187d76e_75d2_11eb_bd19_0242ac1c0002row23_col8,#T_b187d76e_75d2_11eb_bd19_0242ac1c0002row23_col9,#T_b187d76e_75d2_11eb_bd19_0242ac1c0002row23_col10,#T_b187d76e_75d2_11eb_bd19_0242ac1c0002row23_col11,#T_b187d76e_75d2_11eb_bd19_0242ac1c0002row24_col7,#T_b187d76e_75d2_11eb_bd19_0242ac1c0002row24_col8,#T_b187d76e_75d2_11eb_bd19_0242ac1c0002row24_col9,#T_b187d76e_75d2_11eb_bd19_0242ac1c0002row24_col10,#T_b187d76e_75d2_11eb_bd19_0242ac1c0002row24_col11{\n",
              "            font-size:  6pt;\n",
              "            background-color:  #000000;\n",
              "            color:  #f1f1f1;\n",
              "        }#T_b187d76e_75d2_11eb_bd19_0242ac1c0002row5_col15{\n",
              "            font-size:  6pt;\n",
              "            background-color:  #606060;\n",
              "            color:  #f1f1f1;\n",
              "        }#T_b187d76e_75d2_11eb_bd19_0242ac1c0002row5_col16{\n",
              "            font-size:  6pt;\n",
              "            background-color:  #4d4d4d;\n",
              "            color:  #f1f1f1;\n",
              "        }#T_b187d76e_75d2_11eb_bd19_0242ac1c0002row5_col18{\n",
              "            font-size:  6pt;\n",
              "            background-color:  #bbbbbb;\n",
              "            color:  #000000;\n",
              "        }#T_b187d76e_75d2_11eb_bd19_0242ac1c0002row6_col7,#T_b187d76e_75d2_11eb_bd19_0242ac1c0002row8_col9{\n",
              "            font-size:  6pt;\n",
              "            background-color:  #e4e4e4;\n",
              "            color:  #000000;\n",
              "        }#T_b187d76e_75d2_11eb_bd19_0242ac1c0002row6_col8,#T_b187d76e_75d2_11eb_bd19_0242ac1c0002row12_col10{\n",
              "            font-size:  6pt;\n",
              "            background-color:  #6b6b6b;\n",
              "            color:  #000000;\n",
              "        }#T_b187d76e_75d2_11eb_bd19_0242ac1c0002row6_col9,#T_b187d76e_75d2_11eb_bd19_0242ac1c0002row9_col15{\n",
              "            font-size:  6pt;\n",
              "            background-color:  #222222;\n",
              "            color:  #f1f1f1;\n",
              "        }#T_b187d76e_75d2_11eb_bd19_0242ac1c0002row6_col12,#T_b187d76e_75d2_11eb_bd19_0242ac1c0002row6_col18,#T_b187d76e_75d2_11eb_bd19_0242ac1c0002row7_col18,#T_b187d76e_75d2_11eb_bd19_0242ac1c0002row21_col17{\n",
              "            font-size:  6pt;\n",
              "            background-color:  #171717;\n",
              "            color:  #f1f1f1;\n",
              "        }#T_b187d76e_75d2_11eb_bd19_0242ac1c0002row6_col13,#T_b187d76e_75d2_11eb_bd19_0242ac1c0002row7_col15{\n",
              "            font-size:  6pt;\n",
              "            background-color:  #4b4b4b;\n",
              "            color:  #f1f1f1;\n",
              "        }#T_b187d76e_75d2_11eb_bd19_0242ac1c0002row6_col14,#T_b187d76e_75d2_11eb_bd19_0242ac1c0002row11_col14,#T_b187d76e_75d2_11eb_bd19_0242ac1c0002row12_col12,#T_b187d76e_75d2_11eb_bd19_0242ac1c0002row12_col14,#T_b187d76e_75d2_11eb_bd19_0242ac1c0002row13_col12,#T_b187d76e_75d2_11eb_bd19_0242ac1c0002row13_col14,#T_b187d76e_75d2_11eb_bd19_0242ac1c0002row22_col14,#T_b187d76e_75d2_11eb_bd19_0242ac1c0002row23_col12{\n",
              "            font-size:  6pt;\n",
              "            background-color:  #010101;\n",
              "            color:  #f1f1f1;\n",
              "        }#T_b187d76e_75d2_11eb_bd19_0242ac1c0002row7_col5{\n",
              "            font-size:  6pt;\n",
              "            background-color:  #272727;\n",
              "            color:  #f1f1f1;\n",
              "        }#T_b187d76e_75d2_11eb_bd19_0242ac1c0002row7_col6{\n",
              "            font-size:  6pt;\n",
              "            background-color:  #0a0a0a;\n",
              "            color:  #f1f1f1;\n",
              "        }#T_b187d76e_75d2_11eb_bd19_0242ac1c0002row7_col7,#T_b187d76e_75d2_11eb_bd19_0242ac1c0002row18_col17{\n",
              "            font-size:  6pt;\n",
              "            background-color:  #050505;\n",
              "            color:  #f1f1f1;\n",
              "        }#T_b187d76e_75d2_11eb_bd19_0242ac1c0002row7_col9,#T_b187d76e_75d2_11eb_bd19_0242ac1c0002row12_col15,#T_b187d76e_75d2_11eb_bd19_0242ac1c0002row14_col19,#T_b187d76e_75d2_11eb_bd19_0242ac1c0002row23_col6{\n",
              "            font-size:  6pt;\n",
              "            background-color:  #545454;\n",
              "            color:  #f1f1f1;\n",
              "        }#T_b187d76e_75d2_11eb_bd19_0242ac1c0002row7_col10{\n",
              "            font-size:  6pt;\n",
              "            background-color:  #e6e6e6;\n",
              "            color:  #000000;\n",
              "        }#T_b187d76e_75d2_11eb_bd19_0242ac1c0002row7_col11,#T_b187d76e_75d2_11eb_bd19_0242ac1c0002row7_col14,#T_b187d76e_75d2_11eb_bd19_0242ac1c0002row12_col9{\n",
              "            font-size:  6pt;\n",
              "            background-color:  #fafafa;\n",
              "            color:  #000000;\n",
              "        }#T_b187d76e_75d2_11eb_bd19_0242ac1c0002row7_col12,#T_b187d76e_75d2_11eb_bd19_0242ac1c0002row15_col14,#T_b187d76e_75d2_11eb_bd19_0242ac1c0002row20_col19{\n",
              "            font-size:  6pt;\n",
              "            background-color:  #fbfbfb;\n",
              "            color:  #000000;\n",
              "        }#T_b187d76e_75d2_11eb_bd19_0242ac1c0002row7_col13{\n",
              "            font-size:  6pt;\n",
              "            background-color:  #fdfdfd;\n",
              "            color:  #000000;\n",
              "        }#T_b187d76e_75d2_11eb_bd19_0242ac1c0002row8_col8{\n",
              "            font-size:  6pt;\n",
              "            background-color:  #1b1b1b;\n",
              "            color:  #f1f1f1;\n",
              "        }#T_b187d76e_75d2_11eb_bd19_0242ac1c0002row8_col15{\n",
              "            font-size:  6pt;\n",
              "            background-color:  #4e4e4e;\n",
              "            color:  #f1f1f1;\n",
              "        }#T_b187d76e_75d2_11eb_bd19_0242ac1c0002row8_col18{\n",
              "            font-size:  6pt;\n",
              "            background-color:  #767676;\n",
              "            color:  #000000;\n",
              "        }#T_b187d76e_75d2_11eb_bd19_0242ac1c0002row9_col5{\n",
              "            font-size:  6pt;\n",
              "            background-color:  #fcfcfc;\n",
              "            color:  #000000;\n",
              "        }#T_b187d76e_75d2_11eb_bd19_0242ac1c0002row9_col6,#T_b187d76e_75d2_11eb_bd19_0242ac1c0002row9_col7,#T_b187d76e_75d2_11eb_bd19_0242ac1c0002row19_col20{\n",
              "            font-size:  6pt;\n",
              "            background-color:  #f6f6f6;\n",
              "            color:  #000000;\n",
              "        }#T_b187d76e_75d2_11eb_bd19_0242ac1c0002row9_col8,#T_b187d76e_75d2_11eb_bd19_0242ac1c0002row11_col11{\n",
              "            font-size:  6pt;\n",
              "            background-color:  #f8f8f8;\n",
              "            color:  #000000;\n",
              "        }#T_b187d76e_75d2_11eb_bd19_0242ac1c0002row9_col14,#T_b187d76e_75d2_11eb_bd19_0242ac1c0002row14_col11{\n",
              "            font-size:  6pt;\n",
              "            background-color:  #e8e8e8;\n",
              "            color:  #000000;\n",
              "        }#T_b187d76e_75d2_11eb_bd19_0242ac1c0002row9_col17,#T_b187d76e_75d2_11eb_bd19_0242ac1c0002row10_col16{\n",
              "            font-size:  6pt;\n",
              "            background-color:  #090909;\n",
              "            color:  #f1f1f1;\n",
              "        }#T_b187d76e_75d2_11eb_bd19_0242ac1c0002row9_col18{\n",
              "            font-size:  6pt;\n",
              "            background-color:  #d0d0d0;\n",
              "            color:  #000000;\n",
              "        }#T_b187d76e_75d2_11eb_bd19_0242ac1c0002row10_col14,#T_b187d76e_75d2_11eb_bd19_0242ac1c0002row11_col15,#T_b187d76e_75d2_11eb_bd19_0242ac1c0002row13_col10{\n",
              "            font-size:  6pt;\n",
              "            background-color:  #060606;\n",
              "            color:  #f1f1f1;\n",
              "        }#T_b187d76e_75d2_11eb_bd19_0242ac1c0002row10_col17{\n",
              "            font-size:  6pt;\n",
              "            background-color:  #979797;\n",
              "            color:  #000000;\n",
              "        }#T_b187d76e_75d2_11eb_bd19_0242ac1c0002row11_col12{\n",
              "            font-size:  6pt;\n",
              "            background-color:  #b6b6b6;\n",
              "            color:  #000000;\n",
              "        }#T_b187d76e_75d2_11eb_bd19_0242ac1c0002row11_col13{\n",
              "            font-size:  6pt;\n",
              "            background-color:  #252525;\n",
              "            color:  #f1f1f1;\n",
              "        }#T_b187d76e_75d2_11eb_bd19_0242ac1c0002row11_col16{\n",
              "            font-size:  6pt;\n",
              "            background-color:  #999999;\n",
              "            color:  #000000;\n",
              "        }#T_b187d76e_75d2_11eb_bd19_0242ac1c0002row12_col11,#T_b187d76e_75d2_11eb_bd19_0242ac1c0002row22_col12{\n",
              "            font-size:  6pt;\n",
              "            background-color:  #101010;\n",
              "            color:  #f1f1f1;\n",
              "        }#T_b187d76e_75d2_11eb_bd19_0242ac1c0002row12_col13,#T_b187d76e_75d2_11eb_bd19_0242ac1c0002row13_col13,#T_b187d76e_75d2_11eb_bd19_0242ac1c0002row21_col14,#T_b187d76e_75d2_11eb_bd19_0242ac1c0002row22_col13,#T_b187d76e_75d2_11eb_bd19_0242ac1c0002row23_col13{\n",
              "            font-size:  6pt;\n",
              "            background-color:  #020202;\n",
              "            color:  #f1f1f1;\n",
              "        }#T_b187d76e_75d2_11eb_bd19_0242ac1c0002row13_col9{\n",
              "            font-size:  6pt;\n",
              "            background-color:  #f7f7f7;\n",
              "            color:  #000000;\n",
              "        }#T_b187d76e_75d2_11eb_bd19_0242ac1c0002row13_col11,#T_b187d76e_75d2_11eb_bd19_0242ac1c0002row22_col15{\n",
              "            font-size:  6pt;\n",
              "            background-color:  #030303;\n",
              "            color:  #f1f1f1;\n",
              "        }#T_b187d76e_75d2_11eb_bd19_0242ac1c0002row13_col16{\n",
              "            font-size:  6pt;\n",
              "            background-color:  #181818;\n",
              "            color:  #f1f1f1;\n",
              "        }#T_b187d76e_75d2_11eb_bd19_0242ac1c0002row13_col17{\n",
              "            font-size:  6pt;\n",
              "            background-color:  #303030;\n",
              "            color:  #f1f1f1;\n",
              "        }#T_b187d76e_75d2_11eb_bd19_0242ac1c0002row13_col18{\n",
              "            font-size:  6pt;\n",
              "            background-color:  #a9a9a9;\n",
              "            color:  #000000;\n",
              "        }#T_b187d76e_75d2_11eb_bd19_0242ac1c0002row13_col19{\n",
              "            font-size:  6pt;\n",
              "            background-color:  #fefefe;\n",
              "            color:  #000000;\n",
              "        }#T_b187d76e_75d2_11eb_bd19_0242ac1c0002row14_col12,#T_b187d76e_75d2_11eb_bd19_0242ac1c0002row14_col13,#T_b187d76e_75d2_11eb_bd19_0242ac1c0002row20_col14{\n",
              "            font-size:  6pt;\n",
              "            background-color:  #bababa;\n",
              "            color:  #000000;\n",
              "        }#T_b187d76e_75d2_11eb_bd19_0242ac1c0002row14_col14{\n",
              "            font-size:  6pt;\n",
              "            background-color:  #393939;\n",
              "            color:  #f1f1f1;\n",
              "        }#T_b187d76e_75d2_11eb_bd19_0242ac1c0002row14_col20{\n",
              "            font-size:  6pt;\n",
              "            background-color:  #eaeaea;\n",
              "            color:  #000000;\n",
              "        }#T_b187d76e_75d2_11eb_bd19_0242ac1c0002row15_col15{\n",
              "            font-size:  6pt;\n",
              "            background-color:  #e2e2e2;\n",
              "            color:  #000000;\n",
              "        }#T_b187d76e_75d2_11eb_bd19_0242ac1c0002row15_col16{\n",
              "            font-size:  6pt;\n",
              "            background-color:  #9f9f9f;\n",
              "            color:  #000000;\n",
              "        }#T_b187d76e_75d2_11eb_bd19_0242ac1c0002row15_col20{\n",
              "            font-size:  6pt;\n",
              "            background-color:  #898989;\n",
              "            color:  #000000;\n",
              "        }#T_b187d76e_75d2_11eb_bd19_0242ac1c0002row16_col17{\n",
              "            font-size:  6pt;\n",
              "            background-color:  #585858;\n",
              "            color:  #f1f1f1;\n",
              "        }#T_b187d76e_75d2_11eb_bd19_0242ac1c0002row17_col17{\n",
              "            font-size:  6pt;\n",
              "            background-color:  #5a5a5a;\n",
              "            color:  #f1f1f1;\n",
              "        }#T_b187d76e_75d2_11eb_bd19_0242ac1c0002row17_col20{\n",
              "            font-size:  6pt;\n",
              "            background-color:  #525252;\n",
              "            color:  #f1f1f1;\n",
              "        }#T_b187d76e_75d2_11eb_bd19_0242ac1c0002row18_col16,#T_b187d76e_75d2_11eb_bd19_0242ac1c0002row23_col15{\n",
              "            font-size:  6pt;\n",
              "            background-color:  #c5c5c5;\n",
              "            color:  #000000;\n",
              "        }#T_b187d76e_75d2_11eb_bd19_0242ac1c0002row18_col20{\n",
              "            font-size:  6pt;\n",
              "            background-color:  #d7d7d7;\n",
              "            color:  #000000;\n",
              "        }#T_b187d76e_75d2_11eb_bd19_0242ac1c0002row19_col15,#T_b187d76e_75d2_11eb_bd19_0242ac1c0002row22_col9{\n",
              "            font-size:  6pt;\n",
              "            background-color:  #dcdcdc;\n",
              "            color:  #000000;\n",
              "        }#T_b187d76e_75d2_11eb_bd19_0242ac1c0002row19_col16{\n",
              "            font-size:  6pt;\n",
              "            background-color:  #2f2f2f;\n",
              "            color:  #f1f1f1;\n",
              "        }#T_b187d76e_75d2_11eb_bd19_0242ac1c0002row19_col19{\n",
              "            font-size:  6pt;\n",
              "            background-color:  #636363;\n",
              "            color:  #f1f1f1;\n",
              "        }#T_b187d76e_75d2_11eb_bd19_0242ac1c0002row20_col15{\n",
              "            font-size:  6pt;\n",
              "            background-color:  #070707;\n",
              "            color:  #f1f1f1;\n",
              "        }#T_b187d76e_75d2_11eb_bd19_0242ac1c0002row20_col18{\n",
              "            font-size:  6pt;\n",
              "            background-color:  #1f1f1f;\n",
              "            color:  #f1f1f1;\n",
              "        }#T_b187d76e_75d2_11eb_bd19_0242ac1c0002row21_col12,#T_b187d76e_75d2_11eb_bd19_0242ac1c0002row22_col6,#T_b187d76e_75d2_11eb_bd19_0242ac1c0002row22_col8{\n",
              "            font-size:  6pt;\n",
              "            background-color:  #e9e9e9;\n",
              "            color:  #000000;\n",
              "        }#T_b187d76e_75d2_11eb_bd19_0242ac1c0002row21_col13{\n",
              "            font-size:  6pt;\n",
              "            background-color:  #7d7d7d;\n",
              "            color:  #000000;\n",
              "        }#T_b187d76e_75d2_11eb_bd19_0242ac1c0002row21_col18{\n",
              "            font-size:  6pt;\n",
              "            background-color:  #e1e1e1;\n",
              "            color:  #000000;\n",
              "        }#T_b187d76e_75d2_11eb_bd19_0242ac1c0002row22_col7,#T_b187d76e_75d2_11eb_bd19_0242ac1c0002row22_col10{\n",
              "            font-size:  6pt;\n",
              "            background-color:  #a4a4a4;\n",
              "            color:  #000000;\n",
              "        }#T_b187d76e_75d2_11eb_bd19_0242ac1c0002row22_col11{\n",
              "            font-size:  6pt;\n",
              "            background-color:  #727272;\n",
              "            color:  #000000;\n",
              "        }#T_b187d76e_75d2_11eb_bd19_0242ac1c0002row22_col16{\n",
              "            font-size:  6pt;\n",
              "            background-color:  #616161;\n",
              "            color:  #f1f1f1;\n",
              "        }#T_b187d76e_75d2_11eb_bd19_0242ac1c0002row22_col17{\n",
              "            font-size:  6pt;\n",
              "            background-color:  #f3f3f3;\n",
              "            color:  #000000;\n",
              "        }#T_b187d76e_75d2_11eb_bd19_0242ac1c0002row23_col14{\n",
              "            font-size:  6pt;\n",
              "            background-color:  #484848;\n",
              "            color:  #f1f1f1;\n",
              "        }#T_b187d76e_75d2_11eb_bd19_0242ac1c0002row24_col6{\n",
              "            font-size:  6pt;\n",
              "            background-color:  #b3b3b3;\n",
              "            color:  #000000;\n",
              "        }#T_b187d76e_75d2_11eb_bd19_0242ac1c0002row24_col12{\n",
              "            font-size:  6pt;\n",
              "            background-color:  #1a1a1a;\n",
              "            color:  #f1f1f1;\n",
              "        }#T_b187d76e_75d2_11eb_bd19_0242ac1c0002row24_col13{\n",
              "            font-size:  6pt;\n",
              "            background-color:  #d6d6d6;\n",
              "            color:  #000000;\n",
              "        }</style><table id=\"T_b187d76e_75d2_11eb_bd19_0242ac1c0002\" ><thead>    <tr>        <th class=\"blank level0\" ></th>        <th class=\"col_heading level0 col0\" >0</th>        <th class=\"col_heading level0 col1\" >1</th>        <th class=\"col_heading level0 col2\" >2</th>        <th class=\"col_heading level0 col3\" >3</th>        <th class=\"col_heading level0 col4\" >4</th>        <th class=\"col_heading level0 col5\" >5</th>        <th class=\"col_heading level0 col6\" >6</th>        <th class=\"col_heading level0 col7\" >7</th>        <th class=\"col_heading level0 col8\" >8</th>        <th class=\"col_heading level0 col9\" >9</th>        <th class=\"col_heading level0 col10\" >10</th>        <th class=\"col_heading level0 col11\" >11</th>        <th class=\"col_heading level0 col12\" >12</th>        <th class=\"col_heading level0 col13\" >13</th>        <th class=\"col_heading level0 col14\" >14</th>        <th class=\"col_heading level0 col15\" >15</th>        <th class=\"col_heading level0 col16\" >16</th>        <th class=\"col_heading level0 col17\" >17</th>        <th class=\"col_heading level0 col18\" >18</th>        <th class=\"col_heading level0 col19\" >19</th>        <th class=\"col_heading level0 col20\" >20</th>        <th class=\"col_heading level0 col21\" >21</th>        <th class=\"col_heading level0 col22\" >22</th>        <th class=\"col_heading level0 col23\" >23</th>        <th class=\"col_heading level0 col24\" >24</th>        <th class=\"col_heading level0 col25\" >25</th>        <th class=\"col_heading level0 col26\" >26</th>        <th class=\"col_heading level0 col27\" >27</th>    </tr></thead><tbody>\n",
              "                <tr>\n",
              "                        <th id=\"T_b187d76e_75d2_11eb_bd19_0242ac1c0002level0_row0\" class=\"row_heading level0 row0\" >0</th>\n",
              "                        <td id=\"T_b187d76e_75d2_11eb_bd19_0242ac1c0002row0_col0\" class=\"data row0 col0\" >0</td>\n",
              "                        <td id=\"T_b187d76e_75d2_11eb_bd19_0242ac1c0002row0_col1\" class=\"data row0 col1\" >0</td>\n",
              "                        <td id=\"T_b187d76e_75d2_11eb_bd19_0242ac1c0002row0_col2\" class=\"data row0 col2\" >0</td>\n",
              "                        <td id=\"T_b187d76e_75d2_11eb_bd19_0242ac1c0002row0_col3\" class=\"data row0 col3\" >0</td>\n",
              "                        <td id=\"T_b187d76e_75d2_11eb_bd19_0242ac1c0002row0_col4\" class=\"data row0 col4\" >0</td>\n",
              "                        <td id=\"T_b187d76e_75d2_11eb_bd19_0242ac1c0002row0_col5\" class=\"data row0 col5\" >0</td>\n",
              "                        <td id=\"T_b187d76e_75d2_11eb_bd19_0242ac1c0002row0_col6\" class=\"data row0 col6\" >0</td>\n",
              "                        <td id=\"T_b187d76e_75d2_11eb_bd19_0242ac1c0002row0_col7\" class=\"data row0 col7\" >0</td>\n",
              "                        <td id=\"T_b187d76e_75d2_11eb_bd19_0242ac1c0002row0_col8\" class=\"data row0 col8\" >0</td>\n",
              "                        <td id=\"T_b187d76e_75d2_11eb_bd19_0242ac1c0002row0_col9\" class=\"data row0 col9\" >0</td>\n",
              "                        <td id=\"T_b187d76e_75d2_11eb_bd19_0242ac1c0002row0_col10\" class=\"data row0 col10\" >0</td>\n",
              "                        <td id=\"T_b187d76e_75d2_11eb_bd19_0242ac1c0002row0_col11\" class=\"data row0 col11\" >0</td>\n",
              "                        <td id=\"T_b187d76e_75d2_11eb_bd19_0242ac1c0002row0_col12\" class=\"data row0 col12\" >0</td>\n",
              "                        <td id=\"T_b187d76e_75d2_11eb_bd19_0242ac1c0002row0_col13\" class=\"data row0 col13\" >0</td>\n",
              "                        <td id=\"T_b187d76e_75d2_11eb_bd19_0242ac1c0002row0_col14\" class=\"data row0 col14\" >0</td>\n",
              "                        <td id=\"T_b187d76e_75d2_11eb_bd19_0242ac1c0002row0_col15\" class=\"data row0 col15\" >0</td>\n",
              "                        <td id=\"T_b187d76e_75d2_11eb_bd19_0242ac1c0002row0_col16\" class=\"data row0 col16\" >0</td>\n",
              "                        <td id=\"T_b187d76e_75d2_11eb_bd19_0242ac1c0002row0_col17\" class=\"data row0 col17\" >0</td>\n",
              "                        <td id=\"T_b187d76e_75d2_11eb_bd19_0242ac1c0002row0_col18\" class=\"data row0 col18\" >0</td>\n",
              "                        <td id=\"T_b187d76e_75d2_11eb_bd19_0242ac1c0002row0_col19\" class=\"data row0 col19\" >0</td>\n",
              "                        <td id=\"T_b187d76e_75d2_11eb_bd19_0242ac1c0002row0_col20\" class=\"data row0 col20\" >0</td>\n",
              "                        <td id=\"T_b187d76e_75d2_11eb_bd19_0242ac1c0002row0_col21\" class=\"data row0 col21\" >0</td>\n",
              "                        <td id=\"T_b187d76e_75d2_11eb_bd19_0242ac1c0002row0_col22\" class=\"data row0 col22\" >0</td>\n",
              "                        <td id=\"T_b187d76e_75d2_11eb_bd19_0242ac1c0002row0_col23\" class=\"data row0 col23\" >0</td>\n",
              "                        <td id=\"T_b187d76e_75d2_11eb_bd19_0242ac1c0002row0_col24\" class=\"data row0 col24\" >0</td>\n",
              "                        <td id=\"T_b187d76e_75d2_11eb_bd19_0242ac1c0002row0_col25\" class=\"data row0 col25\" >0</td>\n",
              "                        <td id=\"T_b187d76e_75d2_11eb_bd19_0242ac1c0002row0_col26\" class=\"data row0 col26\" >0</td>\n",
              "                        <td id=\"T_b187d76e_75d2_11eb_bd19_0242ac1c0002row0_col27\" class=\"data row0 col27\" >0</td>\n",
              "            </tr>\n",
              "            <tr>\n",
              "                        <th id=\"T_b187d76e_75d2_11eb_bd19_0242ac1c0002level0_row1\" class=\"row_heading level0 row1\" >1</th>\n",
              "                        <td id=\"T_b187d76e_75d2_11eb_bd19_0242ac1c0002row1_col0\" class=\"data row1 col0\" >0</td>\n",
              "                        <td id=\"T_b187d76e_75d2_11eb_bd19_0242ac1c0002row1_col1\" class=\"data row1 col1\" >0</td>\n",
              "                        <td id=\"T_b187d76e_75d2_11eb_bd19_0242ac1c0002row1_col2\" class=\"data row1 col2\" >0</td>\n",
              "                        <td id=\"T_b187d76e_75d2_11eb_bd19_0242ac1c0002row1_col3\" class=\"data row1 col3\" >0</td>\n",
              "                        <td id=\"T_b187d76e_75d2_11eb_bd19_0242ac1c0002row1_col4\" class=\"data row1 col4\" >0</td>\n",
              "                        <td id=\"T_b187d76e_75d2_11eb_bd19_0242ac1c0002row1_col5\" class=\"data row1 col5\" >0</td>\n",
              "                        <td id=\"T_b187d76e_75d2_11eb_bd19_0242ac1c0002row1_col6\" class=\"data row1 col6\" >0</td>\n",
              "                        <td id=\"T_b187d76e_75d2_11eb_bd19_0242ac1c0002row1_col7\" class=\"data row1 col7\" >0</td>\n",
              "                        <td id=\"T_b187d76e_75d2_11eb_bd19_0242ac1c0002row1_col8\" class=\"data row1 col8\" >0</td>\n",
              "                        <td id=\"T_b187d76e_75d2_11eb_bd19_0242ac1c0002row1_col9\" class=\"data row1 col9\" >0</td>\n",
              "                        <td id=\"T_b187d76e_75d2_11eb_bd19_0242ac1c0002row1_col10\" class=\"data row1 col10\" >0</td>\n",
              "                        <td id=\"T_b187d76e_75d2_11eb_bd19_0242ac1c0002row1_col11\" class=\"data row1 col11\" >0</td>\n",
              "                        <td id=\"T_b187d76e_75d2_11eb_bd19_0242ac1c0002row1_col12\" class=\"data row1 col12\" >0</td>\n",
              "                        <td id=\"T_b187d76e_75d2_11eb_bd19_0242ac1c0002row1_col13\" class=\"data row1 col13\" >0</td>\n",
              "                        <td id=\"T_b187d76e_75d2_11eb_bd19_0242ac1c0002row1_col14\" class=\"data row1 col14\" >0</td>\n",
              "                        <td id=\"T_b187d76e_75d2_11eb_bd19_0242ac1c0002row1_col15\" class=\"data row1 col15\" >0</td>\n",
              "                        <td id=\"T_b187d76e_75d2_11eb_bd19_0242ac1c0002row1_col16\" class=\"data row1 col16\" >0</td>\n",
              "                        <td id=\"T_b187d76e_75d2_11eb_bd19_0242ac1c0002row1_col17\" class=\"data row1 col17\" >0</td>\n",
              "                        <td id=\"T_b187d76e_75d2_11eb_bd19_0242ac1c0002row1_col18\" class=\"data row1 col18\" >0</td>\n",
              "                        <td id=\"T_b187d76e_75d2_11eb_bd19_0242ac1c0002row1_col19\" class=\"data row1 col19\" >0</td>\n",
              "                        <td id=\"T_b187d76e_75d2_11eb_bd19_0242ac1c0002row1_col20\" class=\"data row1 col20\" >0</td>\n",
              "                        <td id=\"T_b187d76e_75d2_11eb_bd19_0242ac1c0002row1_col21\" class=\"data row1 col21\" >0</td>\n",
              "                        <td id=\"T_b187d76e_75d2_11eb_bd19_0242ac1c0002row1_col22\" class=\"data row1 col22\" >0</td>\n",
              "                        <td id=\"T_b187d76e_75d2_11eb_bd19_0242ac1c0002row1_col23\" class=\"data row1 col23\" >0</td>\n",
              "                        <td id=\"T_b187d76e_75d2_11eb_bd19_0242ac1c0002row1_col24\" class=\"data row1 col24\" >0</td>\n",
              "                        <td id=\"T_b187d76e_75d2_11eb_bd19_0242ac1c0002row1_col25\" class=\"data row1 col25\" >0</td>\n",
              "                        <td id=\"T_b187d76e_75d2_11eb_bd19_0242ac1c0002row1_col26\" class=\"data row1 col26\" >0</td>\n",
              "                        <td id=\"T_b187d76e_75d2_11eb_bd19_0242ac1c0002row1_col27\" class=\"data row1 col27\" >0</td>\n",
              "            </tr>\n",
              "            <tr>\n",
              "                        <th id=\"T_b187d76e_75d2_11eb_bd19_0242ac1c0002level0_row2\" class=\"row_heading level0 row2\" >2</th>\n",
              "                        <td id=\"T_b187d76e_75d2_11eb_bd19_0242ac1c0002row2_col0\" class=\"data row2 col0\" >0</td>\n",
              "                        <td id=\"T_b187d76e_75d2_11eb_bd19_0242ac1c0002row2_col1\" class=\"data row2 col1\" >0</td>\n",
              "                        <td id=\"T_b187d76e_75d2_11eb_bd19_0242ac1c0002row2_col2\" class=\"data row2 col2\" >0</td>\n",
              "                        <td id=\"T_b187d76e_75d2_11eb_bd19_0242ac1c0002row2_col3\" class=\"data row2 col3\" >0</td>\n",
              "                        <td id=\"T_b187d76e_75d2_11eb_bd19_0242ac1c0002row2_col4\" class=\"data row2 col4\" >0</td>\n",
              "                        <td id=\"T_b187d76e_75d2_11eb_bd19_0242ac1c0002row2_col5\" class=\"data row2 col5\" >0</td>\n",
              "                        <td id=\"T_b187d76e_75d2_11eb_bd19_0242ac1c0002row2_col6\" class=\"data row2 col6\" >0</td>\n",
              "                        <td id=\"T_b187d76e_75d2_11eb_bd19_0242ac1c0002row2_col7\" class=\"data row2 col7\" >0</td>\n",
              "                        <td id=\"T_b187d76e_75d2_11eb_bd19_0242ac1c0002row2_col8\" class=\"data row2 col8\" >0</td>\n",
              "                        <td id=\"T_b187d76e_75d2_11eb_bd19_0242ac1c0002row2_col9\" class=\"data row2 col9\" >0</td>\n",
              "                        <td id=\"T_b187d76e_75d2_11eb_bd19_0242ac1c0002row2_col10\" class=\"data row2 col10\" >0</td>\n",
              "                        <td id=\"T_b187d76e_75d2_11eb_bd19_0242ac1c0002row2_col11\" class=\"data row2 col11\" >0</td>\n",
              "                        <td id=\"T_b187d76e_75d2_11eb_bd19_0242ac1c0002row2_col12\" class=\"data row2 col12\" >0</td>\n",
              "                        <td id=\"T_b187d76e_75d2_11eb_bd19_0242ac1c0002row2_col13\" class=\"data row2 col13\" >0</td>\n",
              "                        <td id=\"T_b187d76e_75d2_11eb_bd19_0242ac1c0002row2_col14\" class=\"data row2 col14\" >0</td>\n",
              "                        <td id=\"T_b187d76e_75d2_11eb_bd19_0242ac1c0002row2_col15\" class=\"data row2 col15\" >0</td>\n",
              "                        <td id=\"T_b187d76e_75d2_11eb_bd19_0242ac1c0002row2_col16\" class=\"data row2 col16\" >0</td>\n",
              "                        <td id=\"T_b187d76e_75d2_11eb_bd19_0242ac1c0002row2_col17\" class=\"data row2 col17\" >0</td>\n",
              "                        <td id=\"T_b187d76e_75d2_11eb_bd19_0242ac1c0002row2_col18\" class=\"data row2 col18\" >0</td>\n",
              "                        <td id=\"T_b187d76e_75d2_11eb_bd19_0242ac1c0002row2_col19\" class=\"data row2 col19\" >0</td>\n",
              "                        <td id=\"T_b187d76e_75d2_11eb_bd19_0242ac1c0002row2_col20\" class=\"data row2 col20\" >0</td>\n",
              "                        <td id=\"T_b187d76e_75d2_11eb_bd19_0242ac1c0002row2_col21\" class=\"data row2 col21\" >0</td>\n",
              "                        <td id=\"T_b187d76e_75d2_11eb_bd19_0242ac1c0002row2_col22\" class=\"data row2 col22\" >0</td>\n",
              "                        <td id=\"T_b187d76e_75d2_11eb_bd19_0242ac1c0002row2_col23\" class=\"data row2 col23\" >0</td>\n",
              "                        <td id=\"T_b187d76e_75d2_11eb_bd19_0242ac1c0002row2_col24\" class=\"data row2 col24\" >0</td>\n",
              "                        <td id=\"T_b187d76e_75d2_11eb_bd19_0242ac1c0002row2_col25\" class=\"data row2 col25\" >0</td>\n",
              "                        <td id=\"T_b187d76e_75d2_11eb_bd19_0242ac1c0002row2_col26\" class=\"data row2 col26\" >0</td>\n",
              "                        <td id=\"T_b187d76e_75d2_11eb_bd19_0242ac1c0002row2_col27\" class=\"data row2 col27\" >0</td>\n",
              "            </tr>\n",
              "            <tr>\n",
              "                        <th id=\"T_b187d76e_75d2_11eb_bd19_0242ac1c0002level0_row3\" class=\"row_heading level0 row3\" >3</th>\n",
              "                        <td id=\"T_b187d76e_75d2_11eb_bd19_0242ac1c0002row3_col0\" class=\"data row3 col0\" >0</td>\n",
              "                        <td id=\"T_b187d76e_75d2_11eb_bd19_0242ac1c0002row3_col1\" class=\"data row3 col1\" >0</td>\n",
              "                        <td id=\"T_b187d76e_75d2_11eb_bd19_0242ac1c0002row3_col2\" class=\"data row3 col2\" >0</td>\n",
              "                        <td id=\"T_b187d76e_75d2_11eb_bd19_0242ac1c0002row3_col3\" class=\"data row3 col3\" >0</td>\n",
              "                        <td id=\"T_b187d76e_75d2_11eb_bd19_0242ac1c0002row3_col4\" class=\"data row3 col4\" >0</td>\n",
              "                        <td id=\"T_b187d76e_75d2_11eb_bd19_0242ac1c0002row3_col5\" class=\"data row3 col5\" >0</td>\n",
              "                        <td id=\"T_b187d76e_75d2_11eb_bd19_0242ac1c0002row3_col6\" class=\"data row3 col6\" >0</td>\n",
              "                        <td id=\"T_b187d76e_75d2_11eb_bd19_0242ac1c0002row3_col7\" class=\"data row3 col7\" >0</td>\n",
              "                        <td id=\"T_b187d76e_75d2_11eb_bd19_0242ac1c0002row3_col8\" class=\"data row3 col8\" >0</td>\n",
              "                        <td id=\"T_b187d76e_75d2_11eb_bd19_0242ac1c0002row3_col9\" class=\"data row3 col9\" >0</td>\n",
              "                        <td id=\"T_b187d76e_75d2_11eb_bd19_0242ac1c0002row3_col10\" class=\"data row3 col10\" >0</td>\n",
              "                        <td id=\"T_b187d76e_75d2_11eb_bd19_0242ac1c0002row3_col11\" class=\"data row3 col11\" >0</td>\n",
              "                        <td id=\"T_b187d76e_75d2_11eb_bd19_0242ac1c0002row3_col12\" class=\"data row3 col12\" >0</td>\n",
              "                        <td id=\"T_b187d76e_75d2_11eb_bd19_0242ac1c0002row3_col13\" class=\"data row3 col13\" >0</td>\n",
              "                        <td id=\"T_b187d76e_75d2_11eb_bd19_0242ac1c0002row3_col14\" class=\"data row3 col14\" >0</td>\n",
              "                        <td id=\"T_b187d76e_75d2_11eb_bd19_0242ac1c0002row3_col15\" class=\"data row3 col15\" >0</td>\n",
              "                        <td id=\"T_b187d76e_75d2_11eb_bd19_0242ac1c0002row3_col16\" class=\"data row3 col16\" >0</td>\n",
              "                        <td id=\"T_b187d76e_75d2_11eb_bd19_0242ac1c0002row3_col17\" class=\"data row3 col17\" >0</td>\n",
              "                        <td id=\"T_b187d76e_75d2_11eb_bd19_0242ac1c0002row3_col18\" class=\"data row3 col18\" >0</td>\n",
              "                        <td id=\"T_b187d76e_75d2_11eb_bd19_0242ac1c0002row3_col19\" class=\"data row3 col19\" >0</td>\n",
              "                        <td id=\"T_b187d76e_75d2_11eb_bd19_0242ac1c0002row3_col20\" class=\"data row3 col20\" >0</td>\n",
              "                        <td id=\"T_b187d76e_75d2_11eb_bd19_0242ac1c0002row3_col21\" class=\"data row3 col21\" >0</td>\n",
              "                        <td id=\"T_b187d76e_75d2_11eb_bd19_0242ac1c0002row3_col22\" class=\"data row3 col22\" >0</td>\n",
              "                        <td id=\"T_b187d76e_75d2_11eb_bd19_0242ac1c0002row3_col23\" class=\"data row3 col23\" >0</td>\n",
              "                        <td id=\"T_b187d76e_75d2_11eb_bd19_0242ac1c0002row3_col24\" class=\"data row3 col24\" >0</td>\n",
              "                        <td id=\"T_b187d76e_75d2_11eb_bd19_0242ac1c0002row3_col25\" class=\"data row3 col25\" >0</td>\n",
              "                        <td id=\"T_b187d76e_75d2_11eb_bd19_0242ac1c0002row3_col26\" class=\"data row3 col26\" >0</td>\n",
              "                        <td id=\"T_b187d76e_75d2_11eb_bd19_0242ac1c0002row3_col27\" class=\"data row3 col27\" >0</td>\n",
              "            </tr>\n",
              "            <tr>\n",
              "                        <th id=\"T_b187d76e_75d2_11eb_bd19_0242ac1c0002level0_row4\" class=\"row_heading level0 row4\" >4</th>\n",
              "                        <td id=\"T_b187d76e_75d2_11eb_bd19_0242ac1c0002row4_col0\" class=\"data row4 col0\" >0</td>\n",
              "                        <td id=\"T_b187d76e_75d2_11eb_bd19_0242ac1c0002row4_col1\" class=\"data row4 col1\" >0</td>\n",
              "                        <td id=\"T_b187d76e_75d2_11eb_bd19_0242ac1c0002row4_col2\" class=\"data row4 col2\" >0</td>\n",
              "                        <td id=\"T_b187d76e_75d2_11eb_bd19_0242ac1c0002row4_col3\" class=\"data row4 col3\" >0</td>\n",
              "                        <td id=\"T_b187d76e_75d2_11eb_bd19_0242ac1c0002row4_col4\" class=\"data row4 col4\" >0</td>\n",
              "                        <td id=\"T_b187d76e_75d2_11eb_bd19_0242ac1c0002row4_col5\" class=\"data row4 col5\" >0</td>\n",
              "                        <td id=\"T_b187d76e_75d2_11eb_bd19_0242ac1c0002row4_col6\" class=\"data row4 col6\" >0</td>\n",
              "                        <td id=\"T_b187d76e_75d2_11eb_bd19_0242ac1c0002row4_col7\" class=\"data row4 col7\" >0</td>\n",
              "                        <td id=\"T_b187d76e_75d2_11eb_bd19_0242ac1c0002row4_col8\" class=\"data row4 col8\" >0</td>\n",
              "                        <td id=\"T_b187d76e_75d2_11eb_bd19_0242ac1c0002row4_col9\" class=\"data row4 col9\" >0</td>\n",
              "                        <td id=\"T_b187d76e_75d2_11eb_bd19_0242ac1c0002row4_col10\" class=\"data row4 col10\" >0</td>\n",
              "                        <td id=\"T_b187d76e_75d2_11eb_bd19_0242ac1c0002row4_col11\" class=\"data row4 col11\" >0</td>\n",
              "                        <td id=\"T_b187d76e_75d2_11eb_bd19_0242ac1c0002row4_col12\" class=\"data row4 col12\" >0</td>\n",
              "                        <td id=\"T_b187d76e_75d2_11eb_bd19_0242ac1c0002row4_col13\" class=\"data row4 col13\" >0</td>\n",
              "                        <td id=\"T_b187d76e_75d2_11eb_bd19_0242ac1c0002row4_col14\" class=\"data row4 col14\" >0</td>\n",
              "                        <td id=\"T_b187d76e_75d2_11eb_bd19_0242ac1c0002row4_col15\" class=\"data row4 col15\" >0</td>\n",
              "                        <td id=\"T_b187d76e_75d2_11eb_bd19_0242ac1c0002row4_col16\" class=\"data row4 col16\" >0</td>\n",
              "                        <td id=\"T_b187d76e_75d2_11eb_bd19_0242ac1c0002row4_col17\" class=\"data row4 col17\" >0</td>\n",
              "                        <td id=\"T_b187d76e_75d2_11eb_bd19_0242ac1c0002row4_col18\" class=\"data row4 col18\" >0</td>\n",
              "                        <td id=\"T_b187d76e_75d2_11eb_bd19_0242ac1c0002row4_col19\" class=\"data row4 col19\" >0</td>\n",
              "                        <td id=\"T_b187d76e_75d2_11eb_bd19_0242ac1c0002row4_col20\" class=\"data row4 col20\" >0</td>\n",
              "                        <td id=\"T_b187d76e_75d2_11eb_bd19_0242ac1c0002row4_col21\" class=\"data row4 col21\" >0</td>\n",
              "                        <td id=\"T_b187d76e_75d2_11eb_bd19_0242ac1c0002row4_col22\" class=\"data row4 col22\" >0</td>\n",
              "                        <td id=\"T_b187d76e_75d2_11eb_bd19_0242ac1c0002row4_col23\" class=\"data row4 col23\" >0</td>\n",
              "                        <td id=\"T_b187d76e_75d2_11eb_bd19_0242ac1c0002row4_col24\" class=\"data row4 col24\" >0</td>\n",
              "                        <td id=\"T_b187d76e_75d2_11eb_bd19_0242ac1c0002row4_col25\" class=\"data row4 col25\" >0</td>\n",
              "                        <td id=\"T_b187d76e_75d2_11eb_bd19_0242ac1c0002row4_col26\" class=\"data row4 col26\" >0</td>\n",
              "                        <td id=\"T_b187d76e_75d2_11eb_bd19_0242ac1c0002row4_col27\" class=\"data row4 col27\" >0</td>\n",
              "            </tr>\n",
              "            <tr>\n",
              "                        <th id=\"T_b187d76e_75d2_11eb_bd19_0242ac1c0002level0_row5\" class=\"row_heading level0 row5\" >5</th>\n",
              "                        <td id=\"T_b187d76e_75d2_11eb_bd19_0242ac1c0002row5_col0\" class=\"data row5 col0\" >0</td>\n",
              "                        <td id=\"T_b187d76e_75d2_11eb_bd19_0242ac1c0002row5_col1\" class=\"data row5 col1\" >0</td>\n",
              "                        <td id=\"T_b187d76e_75d2_11eb_bd19_0242ac1c0002row5_col2\" class=\"data row5 col2\" >0</td>\n",
              "                        <td id=\"T_b187d76e_75d2_11eb_bd19_0242ac1c0002row5_col3\" class=\"data row5 col3\" >0</td>\n",
              "                        <td id=\"T_b187d76e_75d2_11eb_bd19_0242ac1c0002row5_col4\" class=\"data row5 col4\" >0</td>\n",
              "                        <td id=\"T_b187d76e_75d2_11eb_bd19_0242ac1c0002row5_col5\" class=\"data row5 col5\" >0</td>\n",
              "                        <td id=\"T_b187d76e_75d2_11eb_bd19_0242ac1c0002row5_col6\" class=\"data row5 col6\" >0</td>\n",
              "                        <td id=\"T_b187d76e_75d2_11eb_bd19_0242ac1c0002row5_col7\" class=\"data row5 col7\" >0</td>\n",
              "                        <td id=\"T_b187d76e_75d2_11eb_bd19_0242ac1c0002row5_col8\" class=\"data row5 col8\" >0</td>\n",
              "                        <td id=\"T_b187d76e_75d2_11eb_bd19_0242ac1c0002row5_col9\" class=\"data row5 col9\" >29</td>\n",
              "                        <td id=\"T_b187d76e_75d2_11eb_bd19_0242ac1c0002row5_col10\" class=\"data row5 col10\" >150</td>\n",
              "                        <td id=\"T_b187d76e_75d2_11eb_bd19_0242ac1c0002row5_col11\" class=\"data row5 col11\" >195</td>\n",
              "                        <td id=\"T_b187d76e_75d2_11eb_bd19_0242ac1c0002row5_col12\" class=\"data row5 col12\" >254</td>\n",
              "                        <td id=\"T_b187d76e_75d2_11eb_bd19_0242ac1c0002row5_col13\" class=\"data row5 col13\" >255</td>\n",
              "                        <td id=\"T_b187d76e_75d2_11eb_bd19_0242ac1c0002row5_col14\" class=\"data row5 col14\" >254</td>\n",
              "                        <td id=\"T_b187d76e_75d2_11eb_bd19_0242ac1c0002row5_col15\" class=\"data row5 col15\" >176</td>\n",
              "                        <td id=\"T_b187d76e_75d2_11eb_bd19_0242ac1c0002row5_col16\" class=\"data row5 col16\" >193</td>\n",
              "                        <td id=\"T_b187d76e_75d2_11eb_bd19_0242ac1c0002row5_col17\" class=\"data row5 col17\" >150</td>\n",
              "                        <td id=\"T_b187d76e_75d2_11eb_bd19_0242ac1c0002row5_col18\" class=\"data row5 col18\" >96</td>\n",
              "                        <td id=\"T_b187d76e_75d2_11eb_bd19_0242ac1c0002row5_col19\" class=\"data row5 col19\" >0</td>\n",
              "                        <td id=\"T_b187d76e_75d2_11eb_bd19_0242ac1c0002row5_col20\" class=\"data row5 col20\" >0</td>\n",
              "                        <td id=\"T_b187d76e_75d2_11eb_bd19_0242ac1c0002row5_col21\" class=\"data row5 col21\" >0</td>\n",
              "                        <td id=\"T_b187d76e_75d2_11eb_bd19_0242ac1c0002row5_col22\" class=\"data row5 col22\" >0</td>\n",
              "                        <td id=\"T_b187d76e_75d2_11eb_bd19_0242ac1c0002row5_col23\" class=\"data row5 col23\" >0</td>\n",
              "                        <td id=\"T_b187d76e_75d2_11eb_bd19_0242ac1c0002row5_col24\" class=\"data row5 col24\" >0</td>\n",
              "                        <td id=\"T_b187d76e_75d2_11eb_bd19_0242ac1c0002row5_col25\" class=\"data row5 col25\" >0</td>\n",
              "                        <td id=\"T_b187d76e_75d2_11eb_bd19_0242ac1c0002row5_col26\" class=\"data row5 col26\" >0</td>\n",
              "                        <td id=\"T_b187d76e_75d2_11eb_bd19_0242ac1c0002row5_col27\" class=\"data row5 col27\" >0</td>\n",
              "            </tr>\n",
              "            <tr>\n",
              "                        <th id=\"T_b187d76e_75d2_11eb_bd19_0242ac1c0002level0_row6\" class=\"row_heading level0 row6\" >6</th>\n",
              "                        <td id=\"T_b187d76e_75d2_11eb_bd19_0242ac1c0002row6_col0\" class=\"data row6 col0\" >0</td>\n",
              "                        <td id=\"T_b187d76e_75d2_11eb_bd19_0242ac1c0002row6_col1\" class=\"data row6 col1\" >0</td>\n",
              "                        <td id=\"T_b187d76e_75d2_11eb_bd19_0242ac1c0002row6_col2\" class=\"data row6 col2\" >0</td>\n",
              "                        <td id=\"T_b187d76e_75d2_11eb_bd19_0242ac1c0002row6_col3\" class=\"data row6 col3\" >0</td>\n",
              "                        <td id=\"T_b187d76e_75d2_11eb_bd19_0242ac1c0002row6_col4\" class=\"data row6 col4\" >0</td>\n",
              "                        <td id=\"T_b187d76e_75d2_11eb_bd19_0242ac1c0002row6_col5\" class=\"data row6 col5\" >0</td>\n",
              "                        <td id=\"T_b187d76e_75d2_11eb_bd19_0242ac1c0002row6_col6\" class=\"data row6 col6\" >0</td>\n",
              "                        <td id=\"T_b187d76e_75d2_11eb_bd19_0242ac1c0002row6_col7\" class=\"data row6 col7\" >48</td>\n",
              "                        <td id=\"T_b187d76e_75d2_11eb_bd19_0242ac1c0002row6_col8\" class=\"data row6 col8\" >166</td>\n",
              "                        <td id=\"T_b187d76e_75d2_11eb_bd19_0242ac1c0002row6_col9\" class=\"data row6 col9\" >224</td>\n",
              "                        <td id=\"T_b187d76e_75d2_11eb_bd19_0242ac1c0002row6_col10\" class=\"data row6 col10\" >253</td>\n",
              "                        <td id=\"T_b187d76e_75d2_11eb_bd19_0242ac1c0002row6_col11\" class=\"data row6 col11\" >253</td>\n",
              "                        <td id=\"T_b187d76e_75d2_11eb_bd19_0242ac1c0002row6_col12\" class=\"data row6 col12\" >234</td>\n",
              "                        <td id=\"T_b187d76e_75d2_11eb_bd19_0242ac1c0002row6_col13\" class=\"data row6 col13\" >196</td>\n",
              "                        <td id=\"T_b187d76e_75d2_11eb_bd19_0242ac1c0002row6_col14\" class=\"data row6 col14\" >253</td>\n",
              "                        <td id=\"T_b187d76e_75d2_11eb_bd19_0242ac1c0002row6_col15\" class=\"data row6 col15\" >253</td>\n",
              "                        <td id=\"T_b187d76e_75d2_11eb_bd19_0242ac1c0002row6_col16\" class=\"data row6 col16\" >253</td>\n",
              "                        <td id=\"T_b187d76e_75d2_11eb_bd19_0242ac1c0002row6_col17\" class=\"data row6 col17\" >253</td>\n",
              "                        <td id=\"T_b187d76e_75d2_11eb_bd19_0242ac1c0002row6_col18\" class=\"data row6 col18\" >233</td>\n",
              "                        <td id=\"T_b187d76e_75d2_11eb_bd19_0242ac1c0002row6_col19\" class=\"data row6 col19\" >0</td>\n",
              "                        <td id=\"T_b187d76e_75d2_11eb_bd19_0242ac1c0002row6_col20\" class=\"data row6 col20\" >0</td>\n",
              "                        <td id=\"T_b187d76e_75d2_11eb_bd19_0242ac1c0002row6_col21\" class=\"data row6 col21\" >0</td>\n",
              "                        <td id=\"T_b187d76e_75d2_11eb_bd19_0242ac1c0002row6_col22\" class=\"data row6 col22\" >0</td>\n",
              "                        <td id=\"T_b187d76e_75d2_11eb_bd19_0242ac1c0002row6_col23\" class=\"data row6 col23\" >0</td>\n",
              "                        <td id=\"T_b187d76e_75d2_11eb_bd19_0242ac1c0002row6_col24\" class=\"data row6 col24\" >0</td>\n",
              "                        <td id=\"T_b187d76e_75d2_11eb_bd19_0242ac1c0002row6_col25\" class=\"data row6 col25\" >0</td>\n",
              "                        <td id=\"T_b187d76e_75d2_11eb_bd19_0242ac1c0002row6_col26\" class=\"data row6 col26\" >0</td>\n",
              "                        <td id=\"T_b187d76e_75d2_11eb_bd19_0242ac1c0002row6_col27\" class=\"data row6 col27\" >0</td>\n",
              "            </tr>\n",
              "            <tr>\n",
              "                        <th id=\"T_b187d76e_75d2_11eb_bd19_0242ac1c0002level0_row7\" class=\"row_heading level0 row7\" >7</th>\n",
              "                        <td id=\"T_b187d76e_75d2_11eb_bd19_0242ac1c0002row7_col0\" class=\"data row7 col0\" >0</td>\n",
              "                        <td id=\"T_b187d76e_75d2_11eb_bd19_0242ac1c0002row7_col1\" class=\"data row7 col1\" >0</td>\n",
              "                        <td id=\"T_b187d76e_75d2_11eb_bd19_0242ac1c0002row7_col2\" class=\"data row7 col2\" >0</td>\n",
              "                        <td id=\"T_b187d76e_75d2_11eb_bd19_0242ac1c0002row7_col3\" class=\"data row7 col3\" >0</td>\n",
              "                        <td id=\"T_b187d76e_75d2_11eb_bd19_0242ac1c0002row7_col4\" class=\"data row7 col4\" >0</td>\n",
              "                        <td id=\"T_b187d76e_75d2_11eb_bd19_0242ac1c0002row7_col5\" class=\"data row7 col5\" >93</td>\n",
              "                        <td id=\"T_b187d76e_75d2_11eb_bd19_0242ac1c0002row7_col6\" class=\"data row7 col6\" >244</td>\n",
              "                        <td id=\"T_b187d76e_75d2_11eb_bd19_0242ac1c0002row7_col7\" class=\"data row7 col7\" >249</td>\n",
              "                        <td id=\"T_b187d76e_75d2_11eb_bd19_0242ac1c0002row7_col8\" class=\"data row7 col8\" >253</td>\n",
              "                        <td id=\"T_b187d76e_75d2_11eb_bd19_0242ac1c0002row7_col9\" class=\"data row7 col9\" >187</td>\n",
              "                        <td id=\"T_b187d76e_75d2_11eb_bd19_0242ac1c0002row7_col10\" class=\"data row7 col10\" >46</td>\n",
              "                        <td id=\"T_b187d76e_75d2_11eb_bd19_0242ac1c0002row7_col11\" class=\"data row7 col11\" >10</td>\n",
              "                        <td id=\"T_b187d76e_75d2_11eb_bd19_0242ac1c0002row7_col12\" class=\"data row7 col12\" >8</td>\n",
              "                        <td id=\"T_b187d76e_75d2_11eb_bd19_0242ac1c0002row7_col13\" class=\"data row7 col13\" >4</td>\n",
              "                        <td id=\"T_b187d76e_75d2_11eb_bd19_0242ac1c0002row7_col14\" class=\"data row7 col14\" >10</td>\n",
              "                        <td id=\"T_b187d76e_75d2_11eb_bd19_0242ac1c0002row7_col15\" class=\"data row7 col15\" >194</td>\n",
              "                        <td id=\"T_b187d76e_75d2_11eb_bd19_0242ac1c0002row7_col16\" class=\"data row7 col16\" >253</td>\n",
              "                        <td id=\"T_b187d76e_75d2_11eb_bd19_0242ac1c0002row7_col17\" class=\"data row7 col17\" >253</td>\n",
              "                        <td id=\"T_b187d76e_75d2_11eb_bd19_0242ac1c0002row7_col18\" class=\"data row7 col18\" >233</td>\n",
              "                        <td id=\"T_b187d76e_75d2_11eb_bd19_0242ac1c0002row7_col19\" class=\"data row7 col19\" >0</td>\n",
              "                        <td id=\"T_b187d76e_75d2_11eb_bd19_0242ac1c0002row7_col20\" class=\"data row7 col20\" >0</td>\n",
              "                        <td id=\"T_b187d76e_75d2_11eb_bd19_0242ac1c0002row7_col21\" class=\"data row7 col21\" >0</td>\n",
              "                        <td id=\"T_b187d76e_75d2_11eb_bd19_0242ac1c0002row7_col22\" class=\"data row7 col22\" >0</td>\n",
              "                        <td id=\"T_b187d76e_75d2_11eb_bd19_0242ac1c0002row7_col23\" class=\"data row7 col23\" >0</td>\n",
              "                        <td id=\"T_b187d76e_75d2_11eb_bd19_0242ac1c0002row7_col24\" class=\"data row7 col24\" >0</td>\n",
              "                        <td id=\"T_b187d76e_75d2_11eb_bd19_0242ac1c0002row7_col25\" class=\"data row7 col25\" >0</td>\n",
              "                        <td id=\"T_b187d76e_75d2_11eb_bd19_0242ac1c0002row7_col26\" class=\"data row7 col26\" >0</td>\n",
              "                        <td id=\"T_b187d76e_75d2_11eb_bd19_0242ac1c0002row7_col27\" class=\"data row7 col27\" >0</td>\n",
              "            </tr>\n",
              "            <tr>\n",
              "                        <th id=\"T_b187d76e_75d2_11eb_bd19_0242ac1c0002level0_row8\" class=\"row_heading level0 row8\" >8</th>\n",
              "                        <td id=\"T_b187d76e_75d2_11eb_bd19_0242ac1c0002row8_col0\" class=\"data row8 col0\" >0</td>\n",
              "                        <td id=\"T_b187d76e_75d2_11eb_bd19_0242ac1c0002row8_col1\" class=\"data row8 col1\" >0</td>\n",
              "                        <td id=\"T_b187d76e_75d2_11eb_bd19_0242ac1c0002row8_col2\" class=\"data row8 col2\" >0</td>\n",
              "                        <td id=\"T_b187d76e_75d2_11eb_bd19_0242ac1c0002row8_col3\" class=\"data row8 col3\" >0</td>\n",
              "                        <td id=\"T_b187d76e_75d2_11eb_bd19_0242ac1c0002row8_col4\" class=\"data row8 col4\" >0</td>\n",
              "                        <td id=\"T_b187d76e_75d2_11eb_bd19_0242ac1c0002row8_col5\" class=\"data row8 col5\" >107</td>\n",
              "                        <td id=\"T_b187d76e_75d2_11eb_bd19_0242ac1c0002row8_col6\" class=\"data row8 col6\" >253</td>\n",
              "                        <td id=\"T_b187d76e_75d2_11eb_bd19_0242ac1c0002row8_col7\" class=\"data row8 col7\" >253</td>\n",
              "                        <td id=\"T_b187d76e_75d2_11eb_bd19_0242ac1c0002row8_col8\" class=\"data row8 col8\" >230</td>\n",
              "                        <td id=\"T_b187d76e_75d2_11eb_bd19_0242ac1c0002row8_col9\" class=\"data row8 col9\" >48</td>\n",
              "                        <td id=\"T_b187d76e_75d2_11eb_bd19_0242ac1c0002row8_col10\" class=\"data row8 col10\" >0</td>\n",
              "                        <td id=\"T_b187d76e_75d2_11eb_bd19_0242ac1c0002row8_col11\" class=\"data row8 col11\" >0</td>\n",
              "                        <td id=\"T_b187d76e_75d2_11eb_bd19_0242ac1c0002row8_col12\" class=\"data row8 col12\" >0</td>\n",
              "                        <td id=\"T_b187d76e_75d2_11eb_bd19_0242ac1c0002row8_col13\" class=\"data row8 col13\" >0</td>\n",
              "                        <td id=\"T_b187d76e_75d2_11eb_bd19_0242ac1c0002row8_col14\" class=\"data row8 col14\" >0</td>\n",
              "                        <td id=\"T_b187d76e_75d2_11eb_bd19_0242ac1c0002row8_col15\" class=\"data row8 col15\" >192</td>\n",
              "                        <td id=\"T_b187d76e_75d2_11eb_bd19_0242ac1c0002row8_col16\" class=\"data row8 col16\" >253</td>\n",
              "                        <td id=\"T_b187d76e_75d2_11eb_bd19_0242ac1c0002row8_col17\" class=\"data row8 col17\" >253</td>\n",
              "                        <td id=\"T_b187d76e_75d2_11eb_bd19_0242ac1c0002row8_col18\" class=\"data row8 col18\" >156</td>\n",
              "                        <td id=\"T_b187d76e_75d2_11eb_bd19_0242ac1c0002row8_col19\" class=\"data row8 col19\" >0</td>\n",
              "                        <td id=\"T_b187d76e_75d2_11eb_bd19_0242ac1c0002row8_col20\" class=\"data row8 col20\" >0</td>\n",
              "                        <td id=\"T_b187d76e_75d2_11eb_bd19_0242ac1c0002row8_col21\" class=\"data row8 col21\" >0</td>\n",
              "                        <td id=\"T_b187d76e_75d2_11eb_bd19_0242ac1c0002row8_col22\" class=\"data row8 col22\" >0</td>\n",
              "                        <td id=\"T_b187d76e_75d2_11eb_bd19_0242ac1c0002row8_col23\" class=\"data row8 col23\" >0</td>\n",
              "                        <td id=\"T_b187d76e_75d2_11eb_bd19_0242ac1c0002row8_col24\" class=\"data row8 col24\" >0</td>\n",
              "                        <td id=\"T_b187d76e_75d2_11eb_bd19_0242ac1c0002row8_col25\" class=\"data row8 col25\" >0</td>\n",
              "                        <td id=\"T_b187d76e_75d2_11eb_bd19_0242ac1c0002row8_col26\" class=\"data row8 col26\" >0</td>\n",
              "                        <td id=\"T_b187d76e_75d2_11eb_bd19_0242ac1c0002row8_col27\" class=\"data row8 col27\" >0</td>\n",
              "            </tr>\n",
              "            <tr>\n",
              "                        <th id=\"T_b187d76e_75d2_11eb_bd19_0242ac1c0002level0_row9\" class=\"row_heading level0 row9\" >9</th>\n",
              "                        <td id=\"T_b187d76e_75d2_11eb_bd19_0242ac1c0002row9_col0\" class=\"data row9 col0\" >0</td>\n",
              "                        <td id=\"T_b187d76e_75d2_11eb_bd19_0242ac1c0002row9_col1\" class=\"data row9 col1\" >0</td>\n",
              "                        <td id=\"T_b187d76e_75d2_11eb_bd19_0242ac1c0002row9_col2\" class=\"data row9 col2\" >0</td>\n",
              "                        <td id=\"T_b187d76e_75d2_11eb_bd19_0242ac1c0002row9_col3\" class=\"data row9 col3\" >0</td>\n",
              "                        <td id=\"T_b187d76e_75d2_11eb_bd19_0242ac1c0002row9_col4\" class=\"data row9 col4\" >0</td>\n",
              "                        <td id=\"T_b187d76e_75d2_11eb_bd19_0242ac1c0002row9_col5\" class=\"data row9 col5\" >3</td>\n",
              "                        <td id=\"T_b187d76e_75d2_11eb_bd19_0242ac1c0002row9_col6\" class=\"data row9 col6\" >20</td>\n",
              "                        <td id=\"T_b187d76e_75d2_11eb_bd19_0242ac1c0002row9_col7\" class=\"data row9 col7\" >20</td>\n",
              "                        <td id=\"T_b187d76e_75d2_11eb_bd19_0242ac1c0002row9_col8\" class=\"data row9 col8\" >15</td>\n",
              "                        <td id=\"T_b187d76e_75d2_11eb_bd19_0242ac1c0002row9_col9\" class=\"data row9 col9\" >0</td>\n",
              "                        <td id=\"T_b187d76e_75d2_11eb_bd19_0242ac1c0002row9_col10\" class=\"data row9 col10\" >0</td>\n",
              "                        <td id=\"T_b187d76e_75d2_11eb_bd19_0242ac1c0002row9_col11\" class=\"data row9 col11\" >0</td>\n",
              "                        <td id=\"T_b187d76e_75d2_11eb_bd19_0242ac1c0002row9_col12\" class=\"data row9 col12\" >0</td>\n",
              "                        <td id=\"T_b187d76e_75d2_11eb_bd19_0242ac1c0002row9_col13\" class=\"data row9 col13\" >0</td>\n",
              "                        <td id=\"T_b187d76e_75d2_11eb_bd19_0242ac1c0002row9_col14\" class=\"data row9 col14\" >43</td>\n",
              "                        <td id=\"T_b187d76e_75d2_11eb_bd19_0242ac1c0002row9_col15\" class=\"data row9 col15\" >224</td>\n",
              "                        <td id=\"T_b187d76e_75d2_11eb_bd19_0242ac1c0002row9_col16\" class=\"data row9 col16\" >253</td>\n",
              "                        <td id=\"T_b187d76e_75d2_11eb_bd19_0242ac1c0002row9_col17\" class=\"data row9 col17\" >245</td>\n",
              "                        <td id=\"T_b187d76e_75d2_11eb_bd19_0242ac1c0002row9_col18\" class=\"data row9 col18\" >74</td>\n",
              "                        <td id=\"T_b187d76e_75d2_11eb_bd19_0242ac1c0002row9_col19\" class=\"data row9 col19\" >0</td>\n",
              "                        <td id=\"T_b187d76e_75d2_11eb_bd19_0242ac1c0002row9_col20\" class=\"data row9 col20\" >0</td>\n",
              "                        <td id=\"T_b187d76e_75d2_11eb_bd19_0242ac1c0002row9_col21\" class=\"data row9 col21\" >0</td>\n",
              "                        <td id=\"T_b187d76e_75d2_11eb_bd19_0242ac1c0002row9_col22\" class=\"data row9 col22\" >0</td>\n",
              "                        <td id=\"T_b187d76e_75d2_11eb_bd19_0242ac1c0002row9_col23\" class=\"data row9 col23\" >0</td>\n",
              "                        <td id=\"T_b187d76e_75d2_11eb_bd19_0242ac1c0002row9_col24\" class=\"data row9 col24\" >0</td>\n",
              "                        <td id=\"T_b187d76e_75d2_11eb_bd19_0242ac1c0002row9_col25\" class=\"data row9 col25\" >0</td>\n",
              "                        <td id=\"T_b187d76e_75d2_11eb_bd19_0242ac1c0002row9_col26\" class=\"data row9 col26\" >0</td>\n",
              "                        <td id=\"T_b187d76e_75d2_11eb_bd19_0242ac1c0002row9_col27\" class=\"data row9 col27\" >0</td>\n",
              "            </tr>\n",
              "            <tr>\n",
              "                        <th id=\"T_b187d76e_75d2_11eb_bd19_0242ac1c0002level0_row10\" class=\"row_heading level0 row10\" >10</th>\n",
              "                        <td id=\"T_b187d76e_75d2_11eb_bd19_0242ac1c0002row10_col0\" class=\"data row10 col0\" >0</td>\n",
              "                        <td id=\"T_b187d76e_75d2_11eb_bd19_0242ac1c0002row10_col1\" class=\"data row10 col1\" >0</td>\n",
              "                        <td id=\"T_b187d76e_75d2_11eb_bd19_0242ac1c0002row10_col2\" class=\"data row10 col2\" >0</td>\n",
              "                        <td id=\"T_b187d76e_75d2_11eb_bd19_0242ac1c0002row10_col3\" class=\"data row10 col3\" >0</td>\n",
              "                        <td id=\"T_b187d76e_75d2_11eb_bd19_0242ac1c0002row10_col4\" class=\"data row10 col4\" >0</td>\n",
              "                        <td id=\"T_b187d76e_75d2_11eb_bd19_0242ac1c0002row10_col5\" class=\"data row10 col5\" >0</td>\n",
              "                        <td id=\"T_b187d76e_75d2_11eb_bd19_0242ac1c0002row10_col6\" class=\"data row10 col6\" >0</td>\n",
              "                        <td id=\"T_b187d76e_75d2_11eb_bd19_0242ac1c0002row10_col7\" class=\"data row10 col7\" >0</td>\n",
              "                        <td id=\"T_b187d76e_75d2_11eb_bd19_0242ac1c0002row10_col8\" class=\"data row10 col8\" >0</td>\n",
              "                        <td id=\"T_b187d76e_75d2_11eb_bd19_0242ac1c0002row10_col9\" class=\"data row10 col9\" >0</td>\n",
              "                        <td id=\"T_b187d76e_75d2_11eb_bd19_0242ac1c0002row10_col10\" class=\"data row10 col10\" >0</td>\n",
              "                        <td id=\"T_b187d76e_75d2_11eb_bd19_0242ac1c0002row10_col11\" class=\"data row10 col11\" >0</td>\n",
              "                        <td id=\"T_b187d76e_75d2_11eb_bd19_0242ac1c0002row10_col12\" class=\"data row10 col12\" >0</td>\n",
              "                        <td id=\"T_b187d76e_75d2_11eb_bd19_0242ac1c0002row10_col13\" class=\"data row10 col13\" >0</td>\n",
              "                        <td id=\"T_b187d76e_75d2_11eb_bd19_0242ac1c0002row10_col14\" class=\"data row10 col14\" >249</td>\n",
              "                        <td id=\"T_b187d76e_75d2_11eb_bd19_0242ac1c0002row10_col15\" class=\"data row10 col15\" >253</td>\n",
              "                        <td id=\"T_b187d76e_75d2_11eb_bd19_0242ac1c0002row10_col16\" class=\"data row10 col16\" >245</td>\n",
              "                        <td id=\"T_b187d76e_75d2_11eb_bd19_0242ac1c0002row10_col17\" class=\"data row10 col17\" >126</td>\n",
              "                        <td id=\"T_b187d76e_75d2_11eb_bd19_0242ac1c0002row10_col18\" class=\"data row10 col18\" >0</td>\n",
              "                        <td id=\"T_b187d76e_75d2_11eb_bd19_0242ac1c0002row10_col19\" class=\"data row10 col19\" >0</td>\n",
              "                        <td id=\"T_b187d76e_75d2_11eb_bd19_0242ac1c0002row10_col20\" class=\"data row10 col20\" >0</td>\n",
              "                        <td id=\"T_b187d76e_75d2_11eb_bd19_0242ac1c0002row10_col21\" class=\"data row10 col21\" >0</td>\n",
              "                        <td id=\"T_b187d76e_75d2_11eb_bd19_0242ac1c0002row10_col22\" class=\"data row10 col22\" >0</td>\n",
              "                        <td id=\"T_b187d76e_75d2_11eb_bd19_0242ac1c0002row10_col23\" class=\"data row10 col23\" >0</td>\n",
              "                        <td id=\"T_b187d76e_75d2_11eb_bd19_0242ac1c0002row10_col24\" class=\"data row10 col24\" >0</td>\n",
              "                        <td id=\"T_b187d76e_75d2_11eb_bd19_0242ac1c0002row10_col25\" class=\"data row10 col25\" >0</td>\n",
              "                        <td id=\"T_b187d76e_75d2_11eb_bd19_0242ac1c0002row10_col26\" class=\"data row10 col26\" >0</td>\n",
              "                        <td id=\"T_b187d76e_75d2_11eb_bd19_0242ac1c0002row10_col27\" class=\"data row10 col27\" >0</td>\n",
              "            </tr>\n",
              "            <tr>\n",
              "                        <th id=\"T_b187d76e_75d2_11eb_bd19_0242ac1c0002level0_row11\" class=\"row_heading level0 row11\" >11</th>\n",
              "                        <td id=\"T_b187d76e_75d2_11eb_bd19_0242ac1c0002row11_col0\" class=\"data row11 col0\" >0</td>\n",
              "                        <td id=\"T_b187d76e_75d2_11eb_bd19_0242ac1c0002row11_col1\" class=\"data row11 col1\" >0</td>\n",
              "                        <td id=\"T_b187d76e_75d2_11eb_bd19_0242ac1c0002row11_col2\" class=\"data row11 col2\" >0</td>\n",
              "                        <td id=\"T_b187d76e_75d2_11eb_bd19_0242ac1c0002row11_col3\" class=\"data row11 col3\" >0</td>\n",
              "                        <td id=\"T_b187d76e_75d2_11eb_bd19_0242ac1c0002row11_col4\" class=\"data row11 col4\" >0</td>\n",
              "                        <td id=\"T_b187d76e_75d2_11eb_bd19_0242ac1c0002row11_col5\" class=\"data row11 col5\" >0</td>\n",
              "                        <td id=\"T_b187d76e_75d2_11eb_bd19_0242ac1c0002row11_col6\" class=\"data row11 col6\" >0</td>\n",
              "                        <td id=\"T_b187d76e_75d2_11eb_bd19_0242ac1c0002row11_col7\" class=\"data row11 col7\" >0</td>\n",
              "                        <td id=\"T_b187d76e_75d2_11eb_bd19_0242ac1c0002row11_col8\" class=\"data row11 col8\" >0</td>\n",
              "                        <td id=\"T_b187d76e_75d2_11eb_bd19_0242ac1c0002row11_col9\" class=\"data row11 col9\" >0</td>\n",
              "                        <td id=\"T_b187d76e_75d2_11eb_bd19_0242ac1c0002row11_col10\" class=\"data row11 col10\" >0</td>\n",
              "                        <td id=\"T_b187d76e_75d2_11eb_bd19_0242ac1c0002row11_col11\" class=\"data row11 col11\" >14</td>\n",
              "                        <td id=\"T_b187d76e_75d2_11eb_bd19_0242ac1c0002row11_col12\" class=\"data row11 col12\" >101</td>\n",
              "                        <td id=\"T_b187d76e_75d2_11eb_bd19_0242ac1c0002row11_col13\" class=\"data row11 col13\" >223</td>\n",
              "                        <td id=\"T_b187d76e_75d2_11eb_bd19_0242ac1c0002row11_col14\" class=\"data row11 col14\" >253</td>\n",
              "                        <td id=\"T_b187d76e_75d2_11eb_bd19_0242ac1c0002row11_col15\" class=\"data row11 col15\" >248</td>\n",
              "                        <td id=\"T_b187d76e_75d2_11eb_bd19_0242ac1c0002row11_col16\" class=\"data row11 col16\" >124</td>\n",
              "                        <td id=\"T_b187d76e_75d2_11eb_bd19_0242ac1c0002row11_col17\" class=\"data row11 col17\" >0</td>\n",
              "                        <td id=\"T_b187d76e_75d2_11eb_bd19_0242ac1c0002row11_col18\" class=\"data row11 col18\" >0</td>\n",
              "                        <td id=\"T_b187d76e_75d2_11eb_bd19_0242ac1c0002row11_col19\" class=\"data row11 col19\" >0</td>\n",
              "                        <td id=\"T_b187d76e_75d2_11eb_bd19_0242ac1c0002row11_col20\" class=\"data row11 col20\" >0</td>\n",
              "                        <td id=\"T_b187d76e_75d2_11eb_bd19_0242ac1c0002row11_col21\" class=\"data row11 col21\" >0</td>\n",
              "                        <td id=\"T_b187d76e_75d2_11eb_bd19_0242ac1c0002row11_col22\" class=\"data row11 col22\" >0</td>\n",
              "                        <td id=\"T_b187d76e_75d2_11eb_bd19_0242ac1c0002row11_col23\" class=\"data row11 col23\" >0</td>\n",
              "                        <td id=\"T_b187d76e_75d2_11eb_bd19_0242ac1c0002row11_col24\" class=\"data row11 col24\" >0</td>\n",
              "                        <td id=\"T_b187d76e_75d2_11eb_bd19_0242ac1c0002row11_col25\" class=\"data row11 col25\" >0</td>\n",
              "                        <td id=\"T_b187d76e_75d2_11eb_bd19_0242ac1c0002row11_col26\" class=\"data row11 col26\" >0</td>\n",
              "                        <td id=\"T_b187d76e_75d2_11eb_bd19_0242ac1c0002row11_col27\" class=\"data row11 col27\" >0</td>\n",
              "            </tr>\n",
              "            <tr>\n",
              "                        <th id=\"T_b187d76e_75d2_11eb_bd19_0242ac1c0002level0_row12\" class=\"row_heading level0 row12\" >12</th>\n",
              "                        <td id=\"T_b187d76e_75d2_11eb_bd19_0242ac1c0002row12_col0\" class=\"data row12 col0\" >0</td>\n",
              "                        <td id=\"T_b187d76e_75d2_11eb_bd19_0242ac1c0002row12_col1\" class=\"data row12 col1\" >0</td>\n",
              "                        <td id=\"T_b187d76e_75d2_11eb_bd19_0242ac1c0002row12_col2\" class=\"data row12 col2\" >0</td>\n",
              "                        <td id=\"T_b187d76e_75d2_11eb_bd19_0242ac1c0002row12_col3\" class=\"data row12 col3\" >0</td>\n",
              "                        <td id=\"T_b187d76e_75d2_11eb_bd19_0242ac1c0002row12_col4\" class=\"data row12 col4\" >0</td>\n",
              "                        <td id=\"T_b187d76e_75d2_11eb_bd19_0242ac1c0002row12_col5\" class=\"data row12 col5\" >0</td>\n",
              "                        <td id=\"T_b187d76e_75d2_11eb_bd19_0242ac1c0002row12_col6\" class=\"data row12 col6\" >0</td>\n",
              "                        <td id=\"T_b187d76e_75d2_11eb_bd19_0242ac1c0002row12_col7\" class=\"data row12 col7\" >0</td>\n",
              "                        <td id=\"T_b187d76e_75d2_11eb_bd19_0242ac1c0002row12_col8\" class=\"data row12 col8\" >0</td>\n",
              "                        <td id=\"T_b187d76e_75d2_11eb_bd19_0242ac1c0002row12_col9\" class=\"data row12 col9\" >11</td>\n",
              "                        <td id=\"T_b187d76e_75d2_11eb_bd19_0242ac1c0002row12_col10\" class=\"data row12 col10\" >166</td>\n",
              "                        <td id=\"T_b187d76e_75d2_11eb_bd19_0242ac1c0002row12_col11\" class=\"data row12 col11\" >239</td>\n",
              "                        <td id=\"T_b187d76e_75d2_11eb_bd19_0242ac1c0002row12_col12\" class=\"data row12 col12\" >253</td>\n",
              "                        <td id=\"T_b187d76e_75d2_11eb_bd19_0242ac1c0002row12_col13\" class=\"data row12 col13\" >253</td>\n",
              "                        <td id=\"T_b187d76e_75d2_11eb_bd19_0242ac1c0002row12_col14\" class=\"data row12 col14\" >253</td>\n",
              "                        <td id=\"T_b187d76e_75d2_11eb_bd19_0242ac1c0002row12_col15\" class=\"data row12 col15\" >187</td>\n",
              "                        <td id=\"T_b187d76e_75d2_11eb_bd19_0242ac1c0002row12_col16\" class=\"data row12 col16\" >30</td>\n",
              "                        <td id=\"T_b187d76e_75d2_11eb_bd19_0242ac1c0002row12_col17\" class=\"data row12 col17\" >0</td>\n",
              "                        <td id=\"T_b187d76e_75d2_11eb_bd19_0242ac1c0002row12_col18\" class=\"data row12 col18\" >0</td>\n",
              "                        <td id=\"T_b187d76e_75d2_11eb_bd19_0242ac1c0002row12_col19\" class=\"data row12 col19\" >0</td>\n",
              "                        <td id=\"T_b187d76e_75d2_11eb_bd19_0242ac1c0002row12_col20\" class=\"data row12 col20\" >0</td>\n",
              "                        <td id=\"T_b187d76e_75d2_11eb_bd19_0242ac1c0002row12_col21\" class=\"data row12 col21\" >0</td>\n",
              "                        <td id=\"T_b187d76e_75d2_11eb_bd19_0242ac1c0002row12_col22\" class=\"data row12 col22\" >0</td>\n",
              "                        <td id=\"T_b187d76e_75d2_11eb_bd19_0242ac1c0002row12_col23\" class=\"data row12 col23\" >0</td>\n",
              "                        <td id=\"T_b187d76e_75d2_11eb_bd19_0242ac1c0002row12_col24\" class=\"data row12 col24\" >0</td>\n",
              "                        <td id=\"T_b187d76e_75d2_11eb_bd19_0242ac1c0002row12_col25\" class=\"data row12 col25\" >0</td>\n",
              "                        <td id=\"T_b187d76e_75d2_11eb_bd19_0242ac1c0002row12_col26\" class=\"data row12 col26\" >0</td>\n",
              "                        <td id=\"T_b187d76e_75d2_11eb_bd19_0242ac1c0002row12_col27\" class=\"data row12 col27\" >0</td>\n",
              "            </tr>\n",
              "            <tr>\n",
              "                        <th id=\"T_b187d76e_75d2_11eb_bd19_0242ac1c0002level0_row13\" class=\"row_heading level0 row13\" >13</th>\n",
              "                        <td id=\"T_b187d76e_75d2_11eb_bd19_0242ac1c0002row13_col0\" class=\"data row13 col0\" >0</td>\n",
              "                        <td id=\"T_b187d76e_75d2_11eb_bd19_0242ac1c0002row13_col1\" class=\"data row13 col1\" >0</td>\n",
              "                        <td id=\"T_b187d76e_75d2_11eb_bd19_0242ac1c0002row13_col2\" class=\"data row13 col2\" >0</td>\n",
              "                        <td id=\"T_b187d76e_75d2_11eb_bd19_0242ac1c0002row13_col3\" class=\"data row13 col3\" >0</td>\n",
              "                        <td id=\"T_b187d76e_75d2_11eb_bd19_0242ac1c0002row13_col4\" class=\"data row13 col4\" >0</td>\n",
              "                        <td id=\"T_b187d76e_75d2_11eb_bd19_0242ac1c0002row13_col5\" class=\"data row13 col5\" >0</td>\n",
              "                        <td id=\"T_b187d76e_75d2_11eb_bd19_0242ac1c0002row13_col6\" class=\"data row13 col6\" >0</td>\n",
              "                        <td id=\"T_b187d76e_75d2_11eb_bd19_0242ac1c0002row13_col7\" class=\"data row13 col7\" >0</td>\n",
              "                        <td id=\"T_b187d76e_75d2_11eb_bd19_0242ac1c0002row13_col8\" class=\"data row13 col8\" >0</td>\n",
              "                        <td id=\"T_b187d76e_75d2_11eb_bd19_0242ac1c0002row13_col9\" class=\"data row13 col9\" >16</td>\n",
              "                        <td id=\"T_b187d76e_75d2_11eb_bd19_0242ac1c0002row13_col10\" class=\"data row13 col10\" >248</td>\n",
              "                        <td id=\"T_b187d76e_75d2_11eb_bd19_0242ac1c0002row13_col11\" class=\"data row13 col11\" >250</td>\n",
              "                        <td id=\"T_b187d76e_75d2_11eb_bd19_0242ac1c0002row13_col12\" class=\"data row13 col12\" >253</td>\n",
              "                        <td id=\"T_b187d76e_75d2_11eb_bd19_0242ac1c0002row13_col13\" class=\"data row13 col13\" >253</td>\n",
              "                        <td id=\"T_b187d76e_75d2_11eb_bd19_0242ac1c0002row13_col14\" class=\"data row13 col14\" >253</td>\n",
              "                        <td id=\"T_b187d76e_75d2_11eb_bd19_0242ac1c0002row13_col15\" class=\"data row13 col15\" >253</td>\n",
              "                        <td id=\"T_b187d76e_75d2_11eb_bd19_0242ac1c0002row13_col16\" class=\"data row13 col16\" >232</td>\n",
              "                        <td id=\"T_b187d76e_75d2_11eb_bd19_0242ac1c0002row13_col17\" class=\"data row13 col17\" >213</td>\n",
              "                        <td id=\"T_b187d76e_75d2_11eb_bd19_0242ac1c0002row13_col18\" class=\"data row13 col18\" >111</td>\n",
              "                        <td id=\"T_b187d76e_75d2_11eb_bd19_0242ac1c0002row13_col19\" class=\"data row13 col19\" >2</td>\n",
              "                        <td id=\"T_b187d76e_75d2_11eb_bd19_0242ac1c0002row13_col20\" class=\"data row13 col20\" >0</td>\n",
              "                        <td id=\"T_b187d76e_75d2_11eb_bd19_0242ac1c0002row13_col21\" class=\"data row13 col21\" >0</td>\n",
              "                        <td id=\"T_b187d76e_75d2_11eb_bd19_0242ac1c0002row13_col22\" class=\"data row13 col22\" >0</td>\n",
              "                        <td id=\"T_b187d76e_75d2_11eb_bd19_0242ac1c0002row13_col23\" class=\"data row13 col23\" >0</td>\n",
              "                        <td id=\"T_b187d76e_75d2_11eb_bd19_0242ac1c0002row13_col24\" class=\"data row13 col24\" >0</td>\n",
              "                        <td id=\"T_b187d76e_75d2_11eb_bd19_0242ac1c0002row13_col25\" class=\"data row13 col25\" >0</td>\n",
              "                        <td id=\"T_b187d76e_75d2_11eb_bd19_0242ac1c0002row13_col26\" class=\"data row13 col26\" >0</td>\n",
              "                        <td id=\"T_b187d76e_75d2_11eb_bd19_0242ac1c0002row13_col27\" class=\"data row13 col27\" >0</td>\n",
              "            </tr>\n",
              "            <tr>\n",
              "                        <th id=\"T_b187d76e_75d2_11eb_bd19_0242ac1c0002level0_row14\" class=\"row_heading level0 row14\" >14</th>\n",
              "                        <td id=\"T_b187d76e_75d2_11eb_bd19_0242ac1c0002row14_col0\" class=\"data row14 col0\" >0</td>\n",
              "                        <td id=\"T_b187d76e_75d2_11eb_bd19_0242ac1c0002row14_col1\" class=\"data row14 col1\" >0</td>\n",
              "                        <td id=\"T_b187d76e_75d2_11eb_bd19_0242ac1c0002row14_col2\" class=\"data row14 col2\" >0</td>\n",
              "                        <td id=\"T_b187d76e_75d2_11eb_bd19_0242ac1c0002row14_col3\" class=\"data row14 col3\" >0</td>\n",
              "                        <td id=\"T_b187d76e_75d2_11eb_bd19_0242ac1c0002row14_col4\" class=\"data row14 col4\" >0</td>\n",
              "                        <td id=\"T_b187d76e_75d2_11eb_bd19_0242ac1c0002row14_col5\" class=\"data row14 col5\" >0</td>\n",
              "                        <td id=\"T_b187d76e_75d2_11eb_bd19_0242ac1c0002row14_col6\" class=\"data row14 col6\" >0</td>\n",
              "                        <td id=\"T_b187d76e_75d2_11eb_bd19_0242ac1c0002row14_col7\" class=\"data row14 col7\" >0</td>\n",
              "                        <td id=\"T_b187d76e_75d2_11eb_bd19_0242ac1c0002row14_col8\" class=\"data row14 col8\" >0</td>\n",
              "                        <td id=\"T_b187d76e_75d2_11eb_bd19_0242ac1c0002row14_col9\" class=\"data row14 col9\" >0</td>\n",
              "                        <td id=\"T_b187d76e_75d2_11eb_bd19_0242ac1c0002row14_col10\" class=\"data row14 col10\" >0</td>\n",
              "                        <td id=\"T_b187d76e_75d2_11eb_bd19_0242ac1c0002row14_col11\" class=\"data row14 col11\" >43</td>\n",
              "                        <td id=\"T_b187d76e_75d2_11eb_bd19_0242ac1c0002row14_col12\" class=\"data row14 col12\" >98</td>\n",
              "                        <td id=\"T_b187d76e_75d2_11eb_bd19_0242ac1c0002row14_col13\" class=\"data row14 col13\" >98</td>\n",
              "                        <td id=\"T_b187d76e_75d2_11eb_bd19_0242ac1c0002row14_col14\" class=\"data row14 col14\" >208</td>\n",
              "                        <td id=\"T_b187d76e_75d2_11eb_bd19_0242ac1c0002row14_col15\" class=\"data row14 col15\" >253</td>\n",
              "                        <td id=\"T_b187d76e_75d2_11eb_bd19_0242ac1c0002row14_col16\" class=\"data row14 col16\" >253</td>\n",
              "                        <td id=\"T_b187d76e_75d2_11eb_bd19_0242ac1c0002row14_col17\" class=\"data row14 col17\" >253</td>\n",
              "                        <td id=\"T_b187d76e_75d2_11eb_bd19_0242ac1c0002row14_col18\" class=\"data row14 col18\" >253</td>\n",
              "                        <td id=\"T_b187d76e_75d2_11eb_bd19_0242ac1c0002row14_col19\" class=\"data row14 col19\" >187</td>\n",
              "                        <td id=\"T_b187d76e_75d2_11eb_bd19_0242ac1c0002row14_col20\" class=\"data row14 col20\" >22</td>\n",
              "                        <td id=\"T_b187d76e_75d2_11eb_bd19_0242ac1c0002row14_col21\" class=\"data row14 col21\" >0</td>\n",
              "                        <td id=\"T_b187d76e_75d2_11eb_bd19_0242ac1c0002row14_col22\" class=\"data row14 col22\" >0</td>\n",
              "                        <td id=\"T_b187d76e_75d2_11eb_bd19_0242ac1c0002row14_col23\" class=\"data row14 col23\" >0</td>\n",
              "                        <td id=\"T_b187d76e_75d2_11eb_bd19_0242ac1c0002row14_col24\" class=\"data row14 col24\" >0</td>\n",
              "                        <td id=\"T_b187d76e_75d2_11eb_bd19_0242ac1c0002row14_col25\" class=\"data row14 col25\" >0</td>\n",
              "                        <td id=\"T_b187d76e_75d2_11eb_bd19_0242ac1c0002row14_col26\" class=\"data row14 col26\" >0</td>\n",
              "                        <td id=\"T_b187d76e_75d2_11eb_bd19_0242ac1c0002row14_col27\" class=\"data row14 col27\" >0</td>\n",
              "            </tr>\n",
              "            <tr>\n",
              "                        <th id=\"T_b187d76e_75d2_11eb_bd19_0242ac1c0002level0_row15\" class=\"row_heading level0 row15\" >15</th>\n",
              "                        <td id=\"T_b187d76e_75d2_11eb_bd19_0242ac1c0002row15_col0\" class=\"data row15 col0\" >0</td>\n",
              "                        <td id=\"T_b187d76e_75d2_11eb_bd19_0242ac1c0002row15_col1\" class=\"data row15 col1\" >0</td>\n",
              "                        <td id=\"T_b187d76e_75d2_11eb_bd19_0242ac1c0002row15_col2\" class=\"data row15 col2\" >0</td>\n",
              "                        <td id=\"T_b187d76e_75d2_11eb_bd19_0242ac1c0002row15_col3\" class=\"data row15 col3\" >0</td>\n",
              "                        <td id=\"T_b187d76e_75d2_11eb_bd19_0242ac1c0002row15_col4\" class=\"data row15 col4\" >0</td>\n",
              "                        <td id=\"T_b187d76e_75d2_11eb_bd19_0242ac1c0002row15_col5\" class=\"data row15 col5\" >0</td>\n",
              "                        <td id=\"T_b187d76e_75d2_11eb_bd19_0242ac1c0002row15_col6\" class=\"data row15 col6\" >0</td>\n",
              "                        <td id=\"T_b187d76e_75d2_11eb_bd19_0242ac1c0002row15_col7\" class=\"data row15 col7\" >0</td>\n",
              "                        <td id=\"T_b187d76e_75d2_11eb_bd19_0242ac1c0002row15_col8\" class=\"data row15 col8\" >0</td>\n",
              "                        <td id=\"T_b187d76e_75d2_11eb_bd19_0242ac1c0002row15_col9\" class=\"data row15 col9\" >0</td>\n",
              "                        <td id=\"T_b187d76e_75d2_11eb_bd19_0242ac1c0002row15_col10\" class=\"data row15 col10\" >0</td>\n",
              "                        <td id=\"T_b187d76e_75d2_11eb_bd19_0242ac1c0002row15_col11\" class=\"data row15 col11\" >0</td>\n",
              "                        <td id=\"T_b187d76e_75d2_11eb_bd19_0242ac1c0002row15_col12\" class=\"data row15 col12\" >0</td>\n",
              "                        <td id=\"T_b187d76e_75d2_11eb_bd19_0242ac1c0002row15_col13\" class=\"data row15 col13\" >0</td>\n",
              "                        <td id=\"T_b187d76e_75d2_11eb_bd19_0242ac1c0002row15_col14\" class=\"data row15 col14\" >9</td>\n",
              "                        <td id=\"T_b187d76e_75d2_11eb_bd19_0242ac1c0002row15_col15\" class=\"data row15 col15\" >51</td>\n",
              "                        <td id=\"T_b187d76e_75d2_11eb_bd19_0242ac1c0002row15_col16\" class=\"data row15 col16\" >119</td>\n",
              "                        <td id=\"T_b187d76e_75d2_11eb_bd19_0242ac1c0002row15_col17\" class=\"data row15 col17\" >253</td>\n",
              "                        <td id=\"T_b187d76e_75d2_11eb_bd19_0242ac1c0002row15_col18\" class=\"data row15 col18\" >253</td>\n",
              "                        <td id=\"T_b187d76e_75d2_11eb_bd19_0242ac1c0002row15_col19\" class=\"data row15 col19\" >253</td>\n",
              "                        <td id=\"T_b187d76e_75d2_11eb_bd19_0242ac1c0002row15_col20\" class=\"data row15 col20\" >76</td>\n",
              "                        <td id=\"T_b187d76e_75d2_11eb_bd19_0242ac1c0002row15_col21\" class=\"data row15 col21\" >0</td>\n",
              "                        <td id=\"T_b187d76e_75d2_11eb_bd19_0242ac1c0002row15_col22\" class=\"data row15 col22\" >0</td>\n",
              "                        <td id=\"T_b187d76e_75d2_11eb_bd19_0242ac1c0002row15_col23\" class=\"data row15 col23\" >0</td>\n",
              "                        <td id=\"T_b187d76e_75d2_11eb_bd19_0242ac1c0002row15_col24\" class=\"data row15 col24\" >0</td>\n",
              "                        <td id=\"T_b187d76e_75d2_11eb_bd19_0242ac1c0002row15_col25\" class=\"data row15 col25\" >0</td>\n",
              "                        <td id=\"T_b187d76e_75d2_11eb_bd19_0242ac1c0002row15_col26\" class=\"data row15 col26\" >0</td>\n",
              "                        <td id=\"T_b187d76e_75d2_11eb_bd19_0242ac1c0002row15_col27\" class=\"data row15 col27\" >0</td>\n",
              "            </tr>\n",
              "            <tr>\n",
              "                        <th id=\"T_b187d76e_75d2_11eb_bd19_0242ac1c0002level0_row16\" class=\"row_heading level0 row16\" >16</th>\n",
              "                        <td id=\"T_b187d76e_75d2_11eb_bd19_0242ac1c0002row16_col0\" class=\"data row16 col0\" >0</td>\n",
              "                        <td id=\"T_b187d76e_75d2_11eb_bd19_0242ac1c0002row16_col1\" class=\"data row16 col1\" >0</td>\n",
              "                        <td id=\"T_b187d76e_75d2_11eb_bd19_0242ac1c0002row16_col2\" class=\"data row16 col2\" >0</td>\n",
              "                        <td id=\"T_b187d76e_75d2_11eb_bd19_0242ac1c0002row16_col3\" class=\"data row16 col3\" >0</td>\n",
              "                        <td id=\"T_b187d76e_75d2_11eb_bd19_0242ac1c0002row16_col4\" class=\"data row16 col4\" >0</td>\n",
              "                        <td id=\"T_b187d76e_75d2_11eb_bd19_0242ac1c0002row16_col5\" class=\"data row16 col5\" >0</td>\n",
              "                        <td id=\"T_b187d76e_75d2_11eb_bd19_0242ac1c0002row16_col6\" class=\"data row16 col6\" >0</td>\n",
              "                        <td id=\"T_b187d76e_75d2_11eb_bd19_0242ac1c0002row16_col7\" class=\"data row16 col7\" >0</td>\n",
              "                        <td id=\"T_b187d76e_75d2_11eb_bd19_0242ac1c0002row16_col8\" class=\"data row16 col8\" >0</td>\n",
              "                        <td id=\"T_b187d76e_75d2_11eb_bd19_0242ac1c0002row16_col9\" class=\"data row16 col9\" >0</td>\n",
              "                        <td id=\"T_b187d76e_75d2_11eb_bd19_0242ac1c0002row16_col10\" class=\"data row16 col10\" >0</td>\n",
              "                        <td id=\"T_b187d76e_75d2_11eb_bd19_0242ac1c0002row16_col11\" class=\"data row16 col11\" >0</td>\n",
              "                        <td id=\"T_b187d76e_75d2_11eb_bd19_0242ac1c0002row16_col12\" class=\"data row16 col12\" >0</td>\n",
              "                        <td id=\"T_b187d76e_75d2_11eb_bd19_0242ac1c0002row16_col13\" class=\"data row16 col13\" >0</td>\n",
              "                        <td id=\"T_b187d76e_75d2_11eb_bd19_0242ac1c0002row16_col14\" class=\"data row16 col14\" >0</td>\n",
              "                        <td id=\"T_b187d76e_75d2_11eb_bd19_0242ac1c0002row16_col15\" class=\"data row16 col15\" >0</td>\n",
              "                        <td id=\"T_b187d76e_75d2_11eb_bd19_0242ac1c0002row16_col16\" class=\"data row16 col16\" >1</td>\n",
              "                        <td id=\"T_b187d76e_75d2_11eb_bd19_0242ac1c0002row16_col17\" class=\"data row16 col17\" >183</td>\n",
              "                        <td id=\"T_b187d76e_75d2_11eb_bd19_0242ac1c0002row16_col18\" class=\"data row16 col18\" >253</td>\n",
              "                        <td id=\"T_b187d76e_75d2_11eb_bd19_0242ac1c0002row16_col19\" class=\"data row16 col19\" >253</td>\n",
              "                        <td id=\"T_b187d76e_75d2_11eb_bd19_0242ac1c0002row16_col20\" class=\"data row16 col20\" >139</td>\n",
              "                        <td id=\"T_b187d76e_75d2_11eb_bd19_0242ac1c0002row16_col21\" class=\"data row16 col21\" >0</td>\n",
              "                        <td id=\"T_b187d76e_75d2_11eb_bd19_0242ac1c0002row16_col22\" class=\"data row16 col22\" >0</td>\n",
              "                        <td id=\"T_b187d76e_75d2_11eb_bd19_0242ac1c0002row16_col23\" class=\"data row16 col23\" >0</td>\n",
              "                        <td id=\"T_b187d76e_75d2_11eb_bd19_0242ac1c0002row16_col24\" class=\"data row16 col24\" >0</td>\n",
              "                        <td id=\"T_b187d76e_75d2_11eb_bd19_0242ac1c0002row16_col25\" class=\"data row16 col25\" >0</td>\n",
              "                        <td id=\"T_b187d76e_75d2_11eb_bd19_0242ac1c0002row16_col26\" class=\"data row16 col26\" >0</td>\n",
              "                        <td id=\"T_b187d76e_75d2_11eb_bd19_0242ac1c0002row16_col27\" class=\"data row16 col27\" >0</td>\n",
              "            </tr>\n",
              "            <tr>\n",
              "                        <th id=\"T_b187d76e_75d2_11eb_bd19_0242ac1c0002level0_row17\" class=\"row_heading level0 row17\" >17</th>\n",
              "                        <td id=\"T_b187d76e_75d2_11eb_bd19_0242ac1c0002row17_col0\" class=\"data row17 col0\" >0</td>\n",
              "                        <td id=\"T_b187d76e_75d2_11eb_bd19_0242ac1c0002row17_col1\" class=\"data row17 col1\" >0</td>\n",
              "                        <td id=\"T_b187d76e_75d2_11eb_bd19_0242ac1c0002row17_col2\" class=\"data row17 col2\" >0</td>\n",
              "                        <td id=\"T_b187d76e_75d2_11eb_bd19_0242ac1c0002row17_col3\" class=\"data row17 col3\" >0</td>\n",
              "                        <td id=\"T_b187d76e_75d2_11eb_bd19_0242ac1c0002row17_col4\" class=\"data row17 col4\" >0</td>\n",
              "                        <td id=\"T_b187d76e_75d2_11eb_bd19_0242ac1c0002row17_col5\" class=\"data row17 col5\" >0</td>\n",
              "                        <td id=\"T_b187d76e_75d2_11eb_bd19_0242ac1c0002row17_col6\" class=\"data row17 col6\" >0</td>\n",
              "                        <td id=\"T_b187d76e_75d2_11eb_bd19_0242ac1c0002row17_col7\" class=\"data row17 col7\" >0</td>\n",
              "                        <td id=\"T_b187d76e_75d2_11eb_bd19_0242ac1c0002row17_col8\" class=\"data row17 col8\" >0</td>\n",
              "                        <td id=\"T_b187d76e_75d2_11eb_bd19_0242ac1c0002row17_col9\" class=\"data row17 col9\" >0</td>\n",
              "                        <td id=\"T_b187d76e_75d2_11eb_bd19_0242ac1c0002row17_col10\" class=\"data row17 col10\" >0</td>\n",
              "                        <td id=\"T_b187d76e_75d2_11eb_bd19_0242ac1c0002row17_col11\" class=\"data row17 col11\" >0</td>\n",
              "                        <td id=\"T_b187d76e_75d2_11eb_bd19_0242ac1c0002row17_col12\" class=\"data row17 col12\" >0</td>\n",
              "                        <td id=\"T_b187d76e_75d2_11eb_bd19_0242ac1c0002row17_col13\" class=\"data row17 col13\" >0</td>\n",
              "                        <td id=\"T_b187d76e_75d2_11eb_bd19_0242ac1c0002row17_col14\" class=\"data row17 col14\" >0</td>\n",
              "                        <td id=\"T_b187d76e_75d2_11eb_bd19_0242ac1c0002row17_col15\" class=\"data row17 col15\" >0</td>\n",
              "                        <td id=\"T_b187d76e_75d2_11eb_bd19_0242ac1c0002row17_col16\" class=\"data row17 col16\" >0</td>\n",
              "                        <td id=\"T_b187d76e_75d2_11eb_bd19_0242ac1c0002row17_col17\" class=\"data row17 col17\" >182</td>\n",
              "                        <td id=\"T_b187d76e_75d2_11eb_bd19_0242ac1c0002row17_col18\" class=\"data row17 col18\" >253</td>\n",
              "                        <td id=\"T_b187d76e_75d2_11eb_bd19_0242ac1c0002row17_col19\" class=\"data row17 col19\" >253</td>\n",
              "                        <td id=\"T_b187d76e_75d2_11eb_bd19_0242ac1c0002row17_col20\" class=\"data row17 col20\" >104</td>\n",
              "                        <td id=\"T_b187d76e_75d2_11eb_bd19_0242ac1c0002row17_col21\" class=\"data row17 col21\" >0</td>\n",
              "                        <td id=\"T_b187d76e_75d2_11eb_bd19_0242ac1c0002row17_col22\" class=\"data row17 col22\" >0</td>\n",
              "                        <td id=\"T_b187d76e_75d2_11eb_bd19_0242ac1c0002row17_col23\" class=\"data row17 col23\" >0</td>\n",
              "                        <td id=\"T_b187d76e_75d2_11eb_bd19_0242ac1c0002row17_col24\" class=\"data row17 col24\" >0</td>\n",
              "                        <td id=\"T_b187d76e_75d2_11eb_bd19_0242ac1c0002row17_col25\" class=\"data row17 col25\" >0</td>\n",
              "                        <td id=\"T_b187d76e_75d2_11eb_bd19_0242ac1c0002row17_col26\" class=\"data row17 col26\" >0</td>\n",
              "                        <td id=\"T_b187d76e_75d2_11eb_bd19_0242ac1c0002row17_col27\" class=\"data row17 col27\" >0</td>\n",
              "            </tr>\n",
              "            <tr>\n",
              "                        <th id=\"T_b187d76e_75d2_11eb_bd19_0242ac1c0002level0_row18\" class=\"row_heading level0 row18\" >18</th>\n",
              "                        <td id=\"T_b187d76e_75d2_11eb_bd19_0242ac1c0002row18_col0\" class=\"data row18 col0\" >0</td>\n",
              "                        <td id=\"T_b187d76e_75d2_11eb_bd19_0242ac1c0002row18_col1\" class=\"data row18 col1\" >0</td>\n",
              "                        <td id=\"T_b187d76e_75d2_11eb_bd19_0242ac1c0002row18_col2\" class=\"data row18 col2\" >0</td>\n",
              "                        <td id=\"T_b187d76e_75d2_11eb_bd19_0242ac1c0002row18_col3\" class=\"data row18 col3\" >0</td>\n",
              "                        <td id=\"T_b187d76e_75d2_11eb_bd19_0242ac1c0002row18_col4\" class=\"data row18 col4\" >0</td>\n",
              "                        <td id=\"T_b187d76e_75d2_11eb_bd19_0242ac1c0002row18_col5\" class=\"data row18 col5\" >0</td>\n",
              "                        <td id=\"T_b187d76e_75d2_11eb_bd19_0242ac1c0002row18_col6\" class=\"data row18 col6\" >0</td>\n",
              "                        <td id=\"T_b187d76e_75d2_11eb_bd19_0242ac1c0002row18_col7\" class=\"data row18 col7\" >0</td>\n",
              "                        <td id=\"T_b187d76e_75d2_11eb_bd19_0242ac1c0002row18_col8\" class=\"data row18 col8\" >0</td>\n",
              "                        <td id=\"T_b187d76e_75d2_11eb_bd19_0242ac1c0002row18_col9\" class=\"data row18 col9\" >0</td>\n",
              "                        <td id=\"T_b187d76e_75d2_11eb_bd19_0242ac1c0002row18_col10\" class=\"data row18 col10\" >0</td>\n",
              "                        <td id=\"T_b187d76e_75d2_11eb_bd19_0242ac1c0002row18_col11\" class=\"data row18 col11\" >0</td>\n",
              "                        <td id=\"T_b187d76e_75d2_11eb_bd19_0242ac1c0002row18_col12\" class=\"data row18 col12\" >0</td>\n",
              "                        <td id=\"T_b187d76e_75d2_11eb_bd19_0242ac1c0002row18_col13\" class=\"data row18 col13\" >0</td>\n",
              "                        <td id=\"T_b187d76e_75d2_11eb_bd19_0242ac1c0002row18_col14\" class=\"data row18 col14\" >0</td>\n",
              "                        <td id=\"T_b187d76e_75d2_11eb_bd19_0242ac1c0002row18_col15\" class=\"data row18 col15\" >0</td>\n",
              "                        <td id=\"T_b187d76e_75d2_11eb_bd19_0242ac1c0002row18_col16\" class=\"data row18 col16\" >85</td>\n",
              "                        <td id=\"T_b187d76e_75d2_11eb_bd19_0242ac1c0002row18_col17\" class=\"data row18 col17\" >249</td>\n",
              "                        <td id=\"T_b187d76e_75d2_11eb_bd19_0242ac1c0002row18_col18\" class=\"data row18 col18\" >253</td>\n",
              "                        <td id=\"T_b187d76e_75d2_11eb_bd19_0242ac1c0002row18_col19\" class=\"data row18 col19\" >253</td>\n",
              "                        <td id=\"T_b187d76e_75d2_11eb_bd19_0242ac1c0002row18_col20\" class=\"data row18 col20\" >36</td>\n",
              "                        <td id=\"T_b187d76e_75d2_11eb_bd19_0242ac1c0002row18_col21\" class=\"data row18 col21\" >0</td>\n",
              "                        <td id=\"T_b187d76e_75d2_11eb_bd19_0242ac1c0002row18_col22\" class=\"data row18 col22\" >0</td>\n",
              "                        <td id=\"T_b187d76e_75d2_11eb_bd19_0242ac1c0002row18_col23\" class=\"data row18 col23\" >0</td>\n",
              "                        <td id=\"T_b187d76e_75d2_11eb_bd19_0242ac1c0002row18_col24\" class=\"data row18 col24\" >0</td>\n",
              "                        <td id=\"T_b187d76e_75d2_11eb_bd19_0242ac1c0002row18_col25\" class=\"data row18 col25\" >0</td>\n",
              "                        <td id=\"T_b187d76e_75d2_11eb_bd19_0242ac1c0002row18_col26\" class=\"data row18 col26\" >0</td>\n",
              "                        <td id=\"T_b187d76e_75d2_11eb_bd19_0242ac1c0002row18_col27\" class=\"data row18 col27\" >0</td>\n",
              "            </tr>\n",
              "            <tr>\n",
              "                        <th id=\"T_b187d76e_75d2_11eb_bd19_0242ac1c0002level0_row19\" class=\"row_heading level0 row19\" >19</th>\n",
              "                        <td id=\"T_b187d76e_75d2_11eb_bd19_0242ac1c0002row19_col0\" class=\"data row19 col0\" >0</td>\n",
              "                        <td id=\"T_b187d76e_75d2_11eb_bd19_0242ac1c0002row19_col1\" class=\"data row19 col1\" >0</td>\n",
              "                        <td id=\"T_b187d76e_75d2_11eb_bd19_0242ac1c0002row19_col2\" class=\"data row19 col2\" >0</td>\n",
              "                        <td id=\"T_b187d76e_75d2_11eb_bd19_0242ac1c0002row19_col3\" class=\"data row19 col3\" >0</td>\n",
              "                        <td id=\"T_b187d76e_75d2_11eb_bd19_0242ac1c0002row19_col4\" class=\"data row19 col4\" >0</td>\n",
              "                        <td id=\"T_b187d76e_75d2_11eb_bd19_0242ac1c0002row19_col5\" class=\"data row19 col5\" >0</td>\n",
              "                        <td id=\"T_b187d76e_75d2_11eb_bd19_0242ac1c0002row19_col6\" class=\"data row19 col6\" >0</td>\n",
              "                        <td id=\"T_b187d76e_75d2_11eb_bd19_0242ac1c0002row19_col7\" class=\"data row19 col7\" >0</td>\n",
              "                        <td id=\"T_b187d76e_75d2_11eb_bd19_0242ac1c0002row19_col8\" class=\"data row19 col8\" >0</td>\n",
              "                        <td id=\"T_b187d76e_75d2_11eb_bd19_0242ac1c0002row19_col9\" class=\"data row19 col9\" >0</td>\n",
              "                        <td id=\"T_b187d76e_75d2_11eb_bd19_0242ac1c0002row19_col10\" class=\"data row19 col10\" >0</td>\n",
              "                        <td id=\"T_b187d76e_75d2_11eb_bd19_0242ac1c0002row19_col11\" class=\"data row19 col11\" >0</td>\n",
              "                        <td id=\"T_b187d76e_75d2_11eb_bd19_0242ac1c0002row19_col12\" class=\"data row19 col12\" >0</td>\n",
              "                        <td id=\"T_b187d76e_75d2_11eb_bd19_0242ac1c0002row19_col13\" class=\"data row19 col13\" >0</td>\n",
              "                        <td id=\"T_b187d76e_75d2_11eb_bd19_0242ac1c0002row19_col14\" class=\"data row19 col14\" >0</td>\n",
              "                        <td id=\"T_b187d76e_75d2_11eb_bd19_0242ac1c0002row19_col15\" class=\"data row19 col15\" >60</td>\n",
              "                        <td id=\"T_b187d76e_75d2_11eb_bd19_0242ac1c0002row19_col16\" class=\"data row19 col16\" >214</td>\n",
              "                        <td id=\"T_b187d76e_75d2_11eb_bd19_0242ac1c0002row19_col17\" class=\"data row19 col17\" >253</td>\n",
              "                        <td id=\"T_b187d76e_75d2_11eb_bd19_0242ac1c0002row19_col18\" class=\"data row19 col18\" >253</td>\n",
              "                        <td id=\"T_b187d76e_75d2_11eb_bd19_0242ac1c0002row19_col19\" class=\"data row19 col19\" >173</td>\n",
              "                        <td id=\"T_b187d76e_75d2_11eb_bd19_0242ac1c0002row19_col20\" class=\"data row19 col20\" >11</td>\n",
              "                        <td id=\"T_b187d76e_75d2_11eb_bd19_0242ac1c0002row19_col21\" class=\"data row19 col21\" >0</td>\n",
              "                        <td id=\"T_b187d76e_75d2_11eb_bd19_0242ac1c0002row19_col22\" class=\"data row19 col22\" >0</td>\n",
              "                        <td id=\"T_b187d76e_75d2_11eb_bd19_0242ac1c0002row19_col23\" class=\"data row19 col23\" >0</td>\n",
              "                        <td id=\"T_b187d76e_75d2_11eb_bd19_0242ac1c0002row19_col24\" class=\"data row19 col24\" >0</td>\n",
              "                        <td id=\"T_b187d76e_75d2_11eb_bd19_0242ac1c0002row19_col25\" class=\"data row19 col25\" >0</td>\n",
              "                        <td id=\"T_b187d76e_75d2_11eb_bd19_0242ac1c0002row19_col26\" class=\"data row19 col26\" >0</td>\n",
              "                        <td id=\"T_b187d76e_75d2_11eb_bd19_0242ac1c0002row19_col27\" class=\"data row19 col27\" >0</td>\n",
              "            </tr>\n",
              "            <tr>\n",
              "                        <th id=\"T_b187d76e_75d2_11eb_bd19_0242ac1c0002level0_row20\" class=\"row_heading level0 row20\" >20</th>\n",
              "                        <td id=\"T_b187d76e_75d2_11eb_bd19_0242ac1c0002row20_col0\" class=\"data row20 col0\" >0</td>\n",
              "                        <td id=\"T_b187d76e_75d2_11eb_bd19_0242ac1c0002row20_col1\" class=\"data row20 col1\" >0</td>\n",
              "                        <td id=\"T_b187d76e_75d2_11eb_bd19_0242ac1c0002row20_col2\" class=\"data row20 col2\" >0</td>\n",
              "                        <td id=\"T_b187d76e_75d2_11eb_bd19_0242ac1c0002row20_col3\" class=\"data row20 col3\" >0</td>\n",
              "                        <td id=\"T_b187d76e_75d2_11eb_bd19_0242ac1c0002row20_col4\" class=\"data row20 col4\" >0</td>\n",
              "                        <td id=\"T_b187d76e_75d2_11eb_bd19_0242ac1c0002row20_col5\" class=\"data row20 col5\" >0</td>\n",
              "                        <td id=\"T_b187d76e_75d2_11eb_bd19_0242ac1c0002row20_col6\" class=\"data row20 col6\" >0</td>\n",
              "                        <td id=\"T_b187d76e_75d2_11eb_bd19_0242ac1c0002row20_col7\" class=\"data row20 col7\" >0</td>\n",
              "                        <td id=\"T_b187d76e_75d2_11eb_bd19_0242ac1c0002row20_col8\" class=\"data row20 col8\" >0</td>\n",
              "                        <td id=\"T_b187d76e_75d2_11eb_bd19_0242ac1c0002row20_col9\" class=\"data row20 col9\" >0</td>\n",
              "                        <td id=\"T_b187d76e_75d2_11eb_bd19_0242ac1c0002row20_col10\" class=\"data row20 col10\" >0</td>\n",
              "                        <td id=\"T_b187d76e_75d2_11eb_bd19_0242ac1c0002row20_col11\" class=\"data row20 col11\" >0</td>\n",
              "                        <td id=\"T_b187d76e_75d2_11eb_bd19_0242ac1c0002row20_col12\" class=\"data row20 col12\" >0</td>\n",
              "                        <td id=\"T_b187d76e_75d2_11eb_bd19_0242ac1c0002row20_col13\" class=\"data row20 col13\" >0</td>\n",
              "                        <td id=\"T_b187d76e_75d2_11eb_bd19_0242ac1c0002row20_col14\" class=\"data row20 col14\" >98</td>\n",
              "                        <td id=\"T_b187d76e_75d2_11eb_bd19_0242ac1c0002row20_col15\" class=\"data row20 col15\" >247</td>\n",
              "                        <td id=\"T_b187d76e_75d2_11eb_bd19_0242ac1c0002row20_col16\" class=\"data row20 col16\" >253</td>\n",
              "                        <td id=\"T_b187d76e_75d2_11eb_bd19_0242ac1c0002row20_col17\" class=\"data row20 col17\" >253</td>\n",
              "                        <td id=\"T_b187d76e_75d2_11eb_bd19_0242ac1c0002row20_col18\" class=\"data row20 col18\" >226</td>\n",
              "                        <td id=\"T_b187d76e_75d2_11eb_bd19_0242ac1c0002row20_col19\" class=\"data row20 col19\" >9</td>\n",
              "                        <td id=\"T_b187d76e_75d2_11eb_bd19_0242ac1c0002row20_col20\" class=\"data row20 col20\" >0</td>\n",
              "                        <td id=\"T_b187d76e_75d2_11eb_bd19_0242ac1c0002row20_col21\" class=\"data row20 col21\" >0</td>\n",
              "                        <td id=\"T_b187d76e_75d2_11eb_bd19_0242ac1c0002row20_col22\" class=\"data row20 col22\" >0</td>\n",
              "                        <td id=\"T_b187d76e_75d2_11eb_bd19_0242ac1c0002row20_col23\" class=\"data row20 col23\" >0</td>\n",
              "                        <td id=\"T_b187d76e_75d2_11eb_bd19_0242ac1c0002row20_col24\" class=\"data row20 col24\" >0</td>\n",
              "                        <td id=\"T_b187d76e_75d2_11eb_bd19_0242ac1c0002row20_col25\" class=\"data row20 col25\" >0</td>\n",
              "                        <td id=\"T_b187d76e_75d2_11eb_bd19_0242ac1c0002row20_col26\" class=\"data row20 col26\" >0</td>\n",
              "                        <td id=\"T_b187d76e_75d2_11eb_bd19_0242ac1c0002row20_col27\" class=\"data row20 col27\" >0</td>\n",
              "            </tr>\n",
              "            <tr>\n",
              "                        <th id=\"T_b187d76e_75d2_11eb_bd19_0242ac1c0002level0_row21\" class=\"row_heading level0 row21\" >21</th>\n",
              "                        <td id=\"T_b187d76e_75d2_11eb_bd19_0242ac1c0002row21_col0\" class=\"data row21 col0\" >0</td>\n",
              "                        <td id=\"T_b187d76e_75d2_11eb_bd19_0242ac1c0002row21_col1\" class=\"data row21 col1\" >0</td>\n",
              "                        <td id=\"T_b187d76e_75d2_11eb_bd19_0242ac1c0002row21_col2\" class=\"data row21 col2\" >0</td>\n",
              "                        <td id=\"T_b187d76e_75d2_11eb_bd19_0242ac1c0002row21_col3\" class=\"data row21 col3\" >0</td>\n",
              "                        <td id=\"T_b187d76e_75d2_11eb_bd19_0242ac1c0002row21_col4\" class=\"data row21 col4\" >0</td>\n",
              "                        <td id=\"T_b187d76e_75d2_11eb_bd19_0242ac1c0002row21_col5\" class=\"data row21 col5\" >0</td>\n",
              "                        <td id=\"T_b187d76e_75d2_11eb_bd19_0242ac1c0002row21_col6\" class=\"data row21 col6\" >0</td>\n",
              "                        <td id=\"T_b187d76e_75d2_11eb_bd19_0242ac1c0002row21_col7\" class=\"data row21 col7\" >0</td>\n",
              "                        <td id=\"T_b187d76e_75d2_11eb_bd19_0242ac1c0002row21_col8\" class=\"data row21 col8\" >0</td>\n",
              "                        <td id=\"T_b187d76e_75d2_11eb_bd19_0242ac1c0002row21_col9\" class=\"data row21 col9\" >0</td>\n",
              "                        <td id=\"T_b187d76e_75d2_11eb_bd19_0242ac1c0002row21_col10\" class=\"data row21 col10\" >0</td>\n",
              "                        <td id=\"T_b187d76e_75d2_11eb_bd19_0242ac1c0002row21_col11\" class=\"data row21 col11\" >0</td>\n",
              "                        <td id=\"T_b187d76e_75d2_11eb_bd19_0242ac1c0002row21_col12\" class=\"data row21 col12\" >42</td>\n",
              "                        <td id=\"T_b187d76e_75d2_11eb_bd19_0242ac1c0002row21_col13\" class=\"data row21 col13\" >150</td>\n",
              "                        <td id=\"T_b187d76e_75d2_11eb_bd19_0242ac1c0002row21_col14\" class=\"data row21 col14\" >252</td>\n",
              "                        <td id=\"T_b187d76e_75d2_11eb_bd19_0242ac1c0002row21_col15\" class=\"data row21 col15\" >253</td>\n",
              "                        <td id=\"T_b187d76e_75d2_11eb_bd19_0242ac1c0002row21_col16\" class=\"data row21 col16\" >253</td>\n",
              "                        <td id=\"T_b187d76e_75d2_11eb_bd19_0242ac1c0002row21_col17\" class=\"data row21 col17\" >233</td>\n",
              "                        <td id=\"T_b187d76e_75d2_11eb_bd19_0242ac1c0002row21_col18\" class=\"data row21 col18\" >53</td>\n",
              "                        <td id=\"T_b187d76e_75d2_11eb_bd19_0242ac1c0002row21_col19\" class=\"data row21 col19\" >0</td>\n",
              "                        <td id=\"T_b187d76e_75d2_11eb_bd19_0242ac1c0002row21_col20\" class=\"data row21 col20\" >0</td>\n",
              "                        <td id=\"T_b187d76e_75d2_11eb_bd19_0242ac1c0002row21_col21\" class=\"data row21 col21\" >0</td>\n",
              "                        <td id=\"T_b187d76e_75d2_11eb_bd19_0242ac1c0002row21_col22\" class=\"data row21 col22\" >0</td>\n",
              "                        <td id=\"T_b187d76e_75d2_11eb_bd19_0242ac1c0002row21_col23\" class=\"data row21 col23\" >0</td>\n",
              "                        <td id=\"T_b187d76e_75d2_11eb_bd19_0242ac1c0002row21_col24\" class=\"data row21 col24\" >0</td>\n",
              "                        <td id=\"T_b187d76e_75d2_11eb_bd19_0242ac1c0002row21_col25\" class=\"data row21 col25\" >0</td>\n",
              "                        <td id=\"T_b187d76e_75d2_11eb_bd19_0242ac1c0002row21_col26\" class=\"data row21 col26\" >0</td>\n",
              "                        <td id=\"T_b187d76e_75d2_11eb_bd19_0242ac1c0002row21_col27\" class=\"data row21 col27\" >0</td>\n",
              "            </tr>\n",
              "            <tr>\n",
              "                        <th id=\"T_b187d76e_75d2_11eb_bd19_0242ac1c0002level0_row22\" class=\"row_heading level0 row22\" >22</th>\n",
              "                        <td id=\"T_b187d76e_75d2_11eb_bd19_0242ac1c0002row22_col0\" class=\"data row22 col0\" >0</td>\n",
              "                        <td id=\"T_b187d76e_75d2_11eb_bd19_0242ac1c0002row22_col1\" class=\"data row22 col1\" >0</td>\n",
              "                        <td id=\"T_b187d76e_75d2_11eb_bd19_0242ac1c0002row22_col2\" class=\"data row22 col2\" >0</td>\n",
              "                        <td id=\"T_b187d76e_75d2_11eb_bd19_0242ac1c0002row22_col3\" class=\"data row22 col3\" >0</td>\n",
              "                        <td id=\"T_b187d76e_75d2_11eb_bd19_0242ac1c0002row22_col4\" class=\"data row22 col4\" >0</td>\n",
              "                        <td id=\"T_b187d76e_75d2_11eb_bd19_0242ac1c0002row22_col5\" class=\"data row22 col5\" >0</td>\n",
              "                        <td id=\"T_b187d76e_75d2_11eb_bd19_0242ac1c0002row22_col6\" class=\"data row22 col6\" >42</td>\n",
              "                        <td id=\"T_b187d76e_75d2_11eb_bd19_0242ac1c0002row22_col7\" class=\"data row22 col7\" >115</td>\n",
              "                        <td id=\"T_b187d76e_75d2_11eb_bd19_0242ac1c0002row22_col8\" class=\"data row22 col8\" >42</td>\n",
              "                        <td id=\"T_b187d76e_75d2_11eb_bd19_0242ac1c0002row22_col9\" class=\"data row22 col9\" >60</td>\n",
              "                        <td id=\"T_b187d76e_75d2_11eb_bd19_0242ac1c0002row22_col10\" class=\"data row22 col10\" >115</td>\n",
              "                        <td id=\"T_b187d76e_75d2_11eb_bd19_0242ac1c0002row22_col11\" class=\"data row22 col11\" >159</td>\n",
              "                        <td id=\"T_b187d76e_75d2_11eb_bd19_0242ac1c0002row22_col12\" class=\"data row22 col12\" >240</td>\n",
              "                        <td id=\"T_b187d76e_75d2_11eb_bd19_0242ac1c0002row22_col13\" class=\"data row22 col13\" >253</td>\n",
              "                        <td id=\"T_b187d76e_75d2_11eb_bd19_0242ac1c0002row22_col14\" class=\"data row22 col14\" >253</td>\n",
              "                        <td id=\"T_b187d76e_75d2_11eb_bd19_0242ac1c0002row22_col15\" class=\"data row22 col15\" >250</td>\n",
              "                        <td id=\"T_b187d76e_75d2_11eb_bd19_0242ac1c0002row22_col16\" class=\"data row22 col16\" >175</td>\n",
              "                        <td id=\"T_b187d76e_75d2_11eb_bd19_0242ac1c0002row22_col17\" class=\"data row22 col17\" >25</td>\n",
              "                        <td id=\"T_b187d76e_75d2_11eb_bd19_0242ac1c0002row22_col18\" class=\"data row22 col18\" >0</td>\n",
              "                        <td id=\"T_b187d76e_75d2_11eb_bd19_0242ac1c0002row22_col19\" class=\"data row22 col19\" >0</td>\n",
              "                        <td id=\"T_b187d76e_75d2_11eb_bd19_0242ac1c0002row22_col20\" class=\"data row22 col20\" >0</td>\n",
              "                        <td id=\"T_b187d76e_75d2_11eb_bd19_0242ac1c0002row22_col21\" class=\"data row22 col21\" >0</td>\n",
              "                        <td id=\"T_b187d76e_75d2_11eb_bd19_0242ac1c0002row22_col22\" class=\"data row22 col22\" >0</td>\n",
              "                        <td id=\"T_b187d76e_75d2_11eb_bd19_0242ac1c0002row22_col23\" class=\"data row22 col23\" >0</td>\n",
              "                        <td id=\"T_b187d76e_75d2_11eb_bd19_0242ac1c0002row22_col24\" class=\"data row22 col24\" >0</td>\n",
              "                        <td id=\"T_b187d76e_75d2_11eb_bd19_0242ac1c0002row22_col25\" class=\"data row22 col25\" >0</td>\n",
              "                        <td id=\"T_b187d76e_75d2_11eb_bd19_0242ac1c0002row22_col26\" class=\"data row22 col26\" >0</td>\n",
              "                        <td id=\"T_b187d76e_75d2_11eb_bd19_0242ac1c0002row22_col27\" class=\"data row22 col27\" >0</td>\n",
              "            </tr>\n",
              "            <tr>\n",
              "                        <th id=\"T_b187d76e_75d2_11eb_bd19_0242ac1c0002level0_row23\" class=\"row_heading level0 row23\" >23</th>\n",
              "                        <td id=\"T_b187d76e_75d2_11eb_bd19_0242ac1c0002row23_col0\" class=\"data row23 col0\" >0</td>\n",
              "                        <td id=\"T_b187d76e_75d2_11eb_bd19_0242ac1c0002row23_col1\" class=\"data row23 col1\" >0</td>\n",
              "                        <td id=\"T_b187d76e_75d2_11eb_bd19_0242ac1c0002row23_col2\" class=\"data row23 col2\" >0</td>\n",
              "                        <td id=\"T_b187d76e_75d2_11eb_bd19_0242ac1c0002row23_col3\" class=\"data row23 col3\" >0</td>\n",
              "                        <td id=\"T_b187d76e_75d2_11eb_bd19_0242ac1c0002row23_col4\" class=\"data row23 col4\" >0</td>\n",
              "                        <td id=\"T_b187d76e_75d2_11eb_bd19_0242ac1c0002row23_col5\" class=\"data row23 col5\" >0</td>\n",
              "                        <td id=\"T_b187d76e_75d2_11eb_bd19_0242ac1c0002row23_col6\" class=\"data row23 col6\" >187</td>\n",
              "                        <td id=\"T_b187d76e_75d2_11eb_bd19_0242ac1c0002row23_col7\" class=\"data row23 col7\" >253</td>\n",
              "                        <td id=\"T_b187d76e_75d2_11eb_bd19_0242ac1c0002row23_col8\" class=\"data row23 col8\" >253</td>\n",
              "                        <td id=\"T_b187d76e_75d2_11eb_bd19_0242ac1c0002row23_col9\" class=\"data row23 col9\" >253</td>\n",
              "                        <td id=\"T_b187d76e_75d2_11eb_bd19_0242ac1c0002row23_col10\" class=\"data row23 col10\" >253</td>\n",
              "                        <td id=\"T_b187d76e_75d2_11eb_bd19_0242ac1c0002row23_col11\" class=\"data row23 col11\" >253</td>\n",
              "                        <td id=\"T_b187d76e_75d2_11eb_bd19_0242ac1c0002row23_col12\" class=\"data row23 col12\" >253</td>\n",
              "                        <td id=\"T_b187d76e_75d2_11eb_bd19_0242ac1c0002row23_col13\" class=\"data row23 col13\" >253</td>\n",
              "                        <td id=\"T_b187d76e_75d2_11eb_bd19_0242ac1c0002row23_col14\" class=\"data row23 col14\" >197</td>\n",
              "                        <td id=\"T_b187d76e_75d2_11eb_bd19_0242ac1c0002row23_col15\" class=\"data row23 col15\" >86</td>\n",
              "                        <td id=\"T_b187d76e_75d2_11eb_bd19_0242ac1c0002row23_col16\" class=\"data row23 col16\" >0</td>\n",
              "                        <td id=\"T_b187d76e_75d2_11eb_bd19_0242ac1c0002row23_col17\" class=\"data row23 col17\" >0</td>\n",
              "                        <td id=\"T_b187d76e_75d2_11eb_bd19_0242ac1c0002row23_col18\" class=\"data row23 col18\" >0</td>\n",
              "                        <td id=\"T_b187d76e_75d2_11eb_bd19_0242ac1c0002row23_col19\" class=\"data row23 col19\" >0</td>\n",
              "                        <td id=\"T_b187d76e_75d2_11eb_bd19_0242ac1c0002row23_col20\" class=\"data row23 col20\" >0</td>\n",
              "                        <td id=\"T_b187d76e_75d2_11eb_bd19_0242ac1c0002row23_col21\" class=\"data row23 col21\" >0</td>\n",
              "                        <td id=\"T_b187d76e_75d2_11eb_bd19_0242ac1c0002row23_col22\" class=\"data row23 col22\" >0</td>\n",
              "                        <td id=\"T_b187d76e_75d2_11eb_bd19_0242ac1c0002row23_col23\" class=\"data row23 col23\" >0</td>\n",
              "                        <td id=\"T_b187d76e_75d2_11eb_bd19_0242ac1c0002row23_col24\" class=\"data row23 col24\" >0</td>\n",
              "                        <td id=\"T_b187d76e_75d2_11eb_bd19_0242ac1c0002row23_col25\" class=\"data row23 col25\" >0</td>\n",
              "                        <td id=\"T_b187d76e_75d2_11eb_bd19_0242ac1c0002row23_col26\" class=\"data row23 col26\" >0</td>\n",
              "                        <td id=\"T_b187d76e_75d2_11eb_bd19_0242ac1c0002row23_col27\" class=\"data row23 col27\" >0</td>\n",
              "            </tr>\n",
              "            <tr>\n",
              "                        <th id=\"T_b187d76e_75d2_11eb_bd19_0242ac1c0002level0_row24\" class=\"row_heading level0 row24\" >24</th>\n",
              "                        <td id=\"T_b187d76e_75d2_11eb_bd19_0242ac1c0002row24_col0\" class=\"data row24 col0\" >0</td>\n",
              "                        <td id=\"T_b187d76e_75d2_11eb_bd19_0242ac1c0002row24_col1\" class=\"data row24 col1\" >0</td>\n",
              "                        <td id=\"T_b187d76e_75d2_11eb_bd19_0242ac1c0002row24_col2\" class=\"data row24 col2\" >0</td>\n",
              "                        <td id=\"T_b187d76e_75d2_11eb_bd19_0242ac1c0002row24_col3\" class=\"data row24 col3\" >0</td>\n",
              "                        <td id=\"T_b187d76e_75d2_11eb_bd19_0242ac1c0002row24_col4\" class=\"data row24 col4\" >0</td>\n",
              "                        <td id=\"T_b187d76e_75d2_11eb_bd19_0242ac1c0002row24_col5\" class=\"data row24 col5\" >0</td>\n",
              "                        <td id=\"T_b187d76e_75d2_11eb_bd19_0242ac1c0002row24_col6\" class=\"data row24 col6\" >103</td>\n",
              "                        <td id=\"T_b187d76e_75d2_11eb_bd19_0242ac1c0002row24_col7\" class=\"data row24 col7\" >253</td>\n",
              "                        <td id=\"T_b187d76e_75d2_11eb_bd19_0242ac1c0002row24_col8\" class=\"data row24 col8\" >253</td>\n",
              "                        <td id=\"T_b187d76e_75d2_11eb_bd19_0242ac1c0002row24_col9\" class=\"data row24 col9\" >253</td>\n",
              "                        <td id=\"T_b187d76e_75d2_11eb_bd19_0242ac1c0002row24_col10\" class=\"data row24 col10\" >253</td>\n",
              "                        <td id=\"T_b187d76e_75d2_11eb_bd19_0242ac1c0002row24_col11\" class=\"data row24 col11\" >253</td>\n",
              "                        <td id=\"T_b187d76e_75d2_11eb_bd19_0242ac1c0002row24_col12\" class=\"data row24 col12\" >232</td>\n",
              "                        <td id=\"T_b187d76e_75d2_11eb_bd19_0242ac1c0002row24_col13\" class=\"data row24 col13\" >67</td>\n",
              "                        <td id=\"T_b187d76e_75d2_11eb_bd19_0242ac1c0002row24_col14\" class=\"data row24 col14\" >1</td>\n",
              "                        <td id=\"T_b187d76e_75d2_11eb_bd19_0242ac1c0002row24_col15\" class=\"data row24 col15\" >0</td>\n",
              "                        <td id=\"T_b187d76e_75d2_11eb_bd19_0242ac1c0002row24_col16\" class=\"data row24 col16\" >0</td>\n",
              "                        <td id=\"T_b187d76e_75d2_11eb_bd19_0242ac1c0002row24_col17\" class=\"data row24 col17\" >0</td>\n",
              "                        <td id=\"T_b187d76e_75d2_11eb_bd19_0242ac1c0002row24_col18\" class=\"data row24 col18\" >0</td>\n",
              "                        <td id=\"T_b187d76e_75d2_11eb_bd19_0242ac1c0002row24_col19\" class=\"data row24 col19\" >0</td>\n",
              "                        <td id=\"T_b187d76e_75d2_11eb_bd19_0242ac1c0002row24_col20\" class=\"data row24 col20\" >0</td>\n",
              "                        <td id=\"T_b187d76e_75d2_11eb_bd19_0242ac1c0002row24_col21\" class=\"data row24 col21\" >0</td>\n",
              "                        <td id=\"T_b187d76e_75d2_11eb_bd19_0242ac1c0002row24_col22\" class=\"data row24 col22\" >0</td>\n",
              "                        <td id=\"T_b187d76e_75d2_11eb_bd19_0242ac1c0002row24_col23\" class=\"data row24 col23\" >0</td>\n",
              "                        <td id=\"T_b187d76e_75d2_11eb_bd19_0242ac1c0002row24_col24\" class=\"data row24 col24\" >0</td>\n",
              "                        <td id=\"T_b187d76e_75d2_11eb_bd19_0242ac1c0002row24_col25\" class=\"data row24 col25\" >0</td>\n",
              "                        <td id=\"T_b187d76e_75d2_11eb_bd19_0242ac1c0002row24_col26\" class=\"data row24 col26\" >0</td>\n",
              "                        <td id=\"T_b187d76e_75d2_11eb_bd19_0242ac1c0002row24_col27\" class=\"data row24 col27\" >0</td>\n",
              "            </tr>\n",
              "            <tr>\n",
              "                        <th id=\"T_b187d76e_75d2_11eb_bd19_0242ac1c0002level0_row25\" class=\"row_heading level0 row25\" >25</th>\n",
              "                        <td id=\"T_b187d76e_75d2_11eb_bd19_0242ac1c0002row25_col0\" class=\"data row25 col0\" >0</td>\n",
              "                        <td id=\"T_b187d76e_75d2_11eb_bd19_0242ac1c0002row25_col1\" class=\"data row25 col1\" >0</td>\n",
              "                        <td id=\"T_b187d76e_75d2_11eb_bd19_0242ac1c0002row25_col2\" class=\"data row25 col2\" >0</td>\n",
              "                        <td id=\"T_b187d76e_75d2_11eb_bd19_0242ac1c0002row25_col3\" class=\"data row25 col3\" >0</td>\n",
              "                        <td id=\"T_b187d76e_75d2_11eb_bd19_0242ac1c0002row25_col4\" class=\"data row25 col4\" >0</td>\n",
              "                        <td id=\"T_b187d76e_75d2_11eb_bd19_0242ac1c0002row25_col5\" class=\"data row25 col5\" >0</td>\n",
              "                        <td id=\"T_b187d76e_75d2_11eb_bd19_0242ac1c0002row25_col6\" class=\"data row25 col6\" >0</td>\n",
              "                        <td id=\"T_b187d76e_75d2_11eb_bd19_0242ac1c0002row25_col7\" class=\"data row25 col7\" >0</td>\n",
              "                        <td id=\"T_b187d76e_75d2_11eb_bd19_0242ac1c0002row25_col8\" class=\"data row25 col8\" >0</td>\n",
              "                        <td id=\"T_b187d76e_75d2_11eb_bd19_0242ac1c0002row25_col9\" class=\"data row25 col9\" >0</td>\n",
              "                        <td id=\"T_b187d76e_75d2_11eb_bd19_0242ac1c0002row25_col10\" class=\"data row25 col10\" >0</td>\n",
              "                        <td id=\"T_b187d76e_75d2_11eb_bd19_0242ac1c0002row25_col11\" class=\"data row25 col11\" >0</td>\n",
              "                        <td id=\"T_b187d76e_75d2_11eb_bd19_0242ac1c0002row25_col12\" class=\"data row25 col12\" >0</td>\n",
              "                        <td id=\"T_b187d76e_75d2_11eb_bd19_0242ac1c0002row25_col13\" class=\"data row25 col13\" >0</td>\n",
              "                        <td id=\"T_b187d76e_75d2_11eb_bd19_0242ac1c0002row25_col14\" class=\"data row25 col14\" >0</td>\n",
              "                        <td id=\"T_b187d76e_75d2_11eb_bd19_0242ac1c0002row25_col15\" class=\"data row25 col15\" >0</td>\n",
              "                        <td id=\"T_b187d76e_75d2_11eb_bd19_0242ac1c0002row25_col16\" class=\"data row25 col16\" >0</td>\n",
              "                        <td id=\"T_b187d76e_75d2_11eb_bd19_0242ac1c0002row25_col17\" class=\"data row25 col17\" >0</td>\n",
              "                        <td id=\"T_b187d76e_75d2_11eb_bd19_0242ac1c0002row25_col18\" class=\"data row25 col18\" >0</td>\n",
              "                        <td id=\"T_b187d76e_75d2_11eb_bd19_0242ac1c0002row25_col19\" class=\"data row25 col19\" >0</td>\n",
              "                        <td id=\"T_b187d76e_75d2_11eb_bd19_0242ac1c0002row25_col20\" class=\"data row25 col20\" >0</td>\n",
              "                        <td id=\"T_b187d76e_75d2_11eb_bd19_0242ac1c0002row25_col21\" class=\"data row25 col21\" >0</td>\n",
              "                        <td id=\"T_b187d76e_75d2_11eb_bd19_0242ac1c0002row25_col22\" class=\"data row25 col22\" >0</td>\n",
              "                        <td id=\"T_b187d76e_75d2_11eb_bd19_0242ac1c0002row25_col23\" class=\"data row25 col23\" >0</td>\n",
              "                        <td id=\"T_b187d76e_75d2_11eb_bd19_0242ac1c0002row25_col24\" class=\"data row25 col24\" >0</td>\n",
              "                        <td id=\"T_b187d76e_75d2_11eb_bd19_0242ac1c0002row25_col25\" class=\"data row25 col25\" >0</td>\n",
              "                        <td id=\"T_b187d76e_75d2_11eb_bd19_0242ac1c0002row25_col26\" class=\"data row25 col26\" >0</td>\n",
              "                        <td id=\"T_b187d76e_75d2_11eb_bd19_0242ac1c0002row25_col27\" class=\"data row25 col27\" >0</td>\n",
              "            </tr>\n",
              "            <tr>\n",
              "                        <th id=\"T_b187d76e_75d2_11eb_bd19_0242ac1c0002level0_row26\" class=\"row_heading level0 row26\" >26</th>\n",
              "                        <td id=\"T_b187d76e_75d2_11eb_bd19_0242ac1c0002row26_col0\" class=\"data row26 col0\" >0</td>\n",
              "                        <td id=\"T_b187d76e_75d2_11eb_bd19_0242ac1c0002row26_col1\" class=\"data row26 col1\" >0</td>\n",
              "                        <td id=\"T_b187d76e_75d2_11eb_bd19_0242ac1c0002row26_col2\" class=\"data row26 col2\" >0</td>\n",
              "                        <td id=\"T_b187d76e_75d2_11eb_bd19_0242ac1c0002row26_col3\" class=\"data row26 col3\" >0</td>\n",
              "                        <td id=\"T_b187d76e_75d2_11eb_bd19_0242ac1c0002row26_col4\" class=\"data row26 col4\" >0</td>\n",
              "                        <td id=\"T_b187d76e_75d2_11eb_bd19_0242ac1c0002row26_col5\" class=\"data row26 col5\" >0</td>\n",
              "                        <td id=\"T_b187d76e_75d2_11eb_bd19_0242ac1c0002row26_col6\" class=\"data row26 col6\" >0</td>\n",
              "                        <td id=\"T_b187d76e_75d2_11eb_bd19_0242ac1c0002row26_col7\" class=\"data row26 col7\" >0</td>\n",
              "                        <td id=\"T_b187d76e_75d2_11eb_bd19_0242ac1c0002row26_col8\" class=\"data row26 col8\" >0</td>\n",
              "                        <td id=\"T_b187d76e_75d2_11eb_bd19_0242ac1c0002row26_col9\" class=\"data row26 col9\" >0</td>\n",
              "                        <td id=\"T_b187d76e_75d2_11eb_bd19_0242ac1c0002row26_col10\" class=\"data row26 col10\" >0</td>\n",
              "                        <td id=\"T_b187d76e_75d2_11eb_bd19_0242ac1c0002row26_col11\" class=\"data row26 col11\" >0</td>\n",
              "                        <td id=\"T_b187d76e_75d2_11eb_bd19_0242ac1c0002row26_col12\" class=\"data row26 col12\" >0</td>\n",
              "                        <td id=\"T_b187d76e_75d2_11eb_bd19_0242ac1c0002row26_col13\" class=\"data row26 col13\" >0</td>\n",
              "                        <td id=\"T_b187d76e_75d2_11eb_bd19_0242ac1c0002row26_col14\" class=\"data row26 col14\" >0</td>\n",
              "                        <td id=\"T_b187d76e_75d2_11eb_bd19_0242ac1c0002row26_col15\" class=\"data row26 col15\" >0</td>\n",
              "                        <td id=\"T_b187d76e_75d2_11eb_bd19_0242ac1c0002row26_col16\" class=\"data row26 col16\" >0</td>\n",
              "                        <td id=\"T_b187d76e_75d2_11eb_bd19_0242ac1c0002row26_col17\" class=\"data row26 col17\" >0</td>\n",
              "                        <td id=\"T_b187d76e_75d2_11eb_bd19_0242ac1c0002row26_col18\" class=\"data row26 col18\" >0</td>\n",
              "                        <td id=\"T_b187d76e_75d2_11eb_bd19_0242ac1c0002row26_col19\" class=\"data row26 col19\" >0</td>\n",
              "                        <td id=\"T_b187d76e_75d2_11eb_bd19_0242ac1c0002row26_col20\" class=\"data row26 col20\" >0</td>\n",
              "                        <td id=\"T_b187d76e_75d2_11eb_bd19_0242ac1c0002row26_col21\" class=\"data row26 col21\" >0</td>\n",
              "                        <td id=\"T_b187d76e_75d2_11eb_bd19_0242ac1c0002row26_col22\" class=\"data row26 col22\" >0</td>\n",
              "                        <td id=\"T_b187d76e_75d2_11eb_bd19_0242ac1c0002row26_col23\" class=\"data row26 col23\" >0</td>\n",
              "                        <td id=\"T_b187d76e_75d2_11eb_bd19_0242ac1c0002row26_col24\" class=\"data row26 col24\" >0</td>\n",
              "                        <td id=\"T_b187d76e_75d2_11eb_bd19_0242ac1c0002row26_col25\" class=\"data row26 col25\" >0</td>\n",
              "                        <td id=\"T_b187d76e_75d2_11eb_bd19_0242ac1c0002row26_col26\" class=\"data row26 col26\" >0</td>\n",
              "                        <td id=\"T_b187d76e_75d2_11eb_bd19_0242ac1c0002row26_col27\" class=\"data row26 col27\" >0</td>\n",
              "            </tr>\n",
              "            <tr>\n",
              "                        <th id=\"T_b187d76e_75d2_11eb_bd19_0242ac1c0002level0_row27\" class=\"row_heading level0 row27\" >27</th>\n",
              "                        <td id=\"T_b187d76e_75d2_11eb_bd19_0242ac1c0002row27_col0\" class=\"data row27 col0\" >0</td>\n",
              "                        <td id=\"T_b187d76e_75d2_11eb_bd19_0242ac1c0002row27_col1\" class=\"data row27 col1\" >0</td>\n",
              "                        <td id=\"T_b187d76e_75d2_11eb_bd19_0242ac1c0002row27_col2\" class=\"data row27 col2\" >0</td>\n",
              "                        <td id=\"T_b187d76e_75d2_11eb_bd19_0242ac1c0002row27_col3\" class=\"data row27 col3\" >0</td>\n",
              "                        <td id=\"T_b187d76e_75d2_11eb_bd19_0242ac1c0002row27_col4\" class=\"data row27 col4\" >0</td>\n",
              "                        <td id=\"T_b187d76e_75d2_11eb_bd19_0242ac1c0002row27_col5\" class=\"data row27 col5\" >0</td>\n",
              "                        <td id=\"T_b187d76e_75d2_11eb_bd19_0242ac1c0002row27_col6\" class=\"data row27 col6\" >0</td>\n",
              "                        <td id=\"T_b187d76e_75d2_11eb_bd19_0242ac1c0002row27_col7\" class=\"data row27 col7\" >0</td>\n",
              "                        <td id=\"T_b187d76e_75d2_11eb_bd19_0242ac1c0002row27_col8\" class=\"data row27 col8\" >0</td>\n",
              "                        <td id=\"T_b187d76e_75d2_11eb_bd19_0242ac1c0002row27_col9\" class=\"data row27 col9\" >0</td>\n",
              "                        <td id=\"T_b187d76e_75d2_11eb_bd19_0242ac1c0002row27_col10\" class=\"data row27 col10\" >0</td>\n",
              "                        <td id=\"T_b187d76e_75d2_11eb_bd19_0242ac1c0002row27_col11\" class=\"data row27 col11\" >0</td>\n",
              "                        <td id=\"T_b187d76e_75d2_11eb_bd19_0242ac1c0002row27_col12\" class=\"data row27 col12\" >0</td>\n",
              "                        <td id=\"T_b187d76e_75d2_11eb_bd19_0242ac1c0002row27_col13\" class=\"data row27 col13\" >0</td>\n",
              "                        <td id=\"T_b187d76e_75d2_11eb_bd19_0242ac1c0002row27_col14\" class=\"data row27 col14\" >0</td>\n",
              "                        <td id=\"T_b187d76e_75d2_11eb_bd19_0242ac1c0002row27_col15\" class=\"data row27 col15\" >0</td>\n",
              "                        <td id=\"T_b187d76e_75d2_11eb_bd19_0242ac1c0002row27_col16\" class=\"data row27 col16\" >0</td>\n",
              "                        <td id=\"T_b187d76e_75d2_11eb_bd19_0242ac1c0002row27_col17\" class=\"data row27 col17\" >0</td>\n",
              "                        <td id=\"T_b187d76e_75d2_11eb_bd19_0242ac1c0002row27_col18\" class=\"data row27 col18\" >0</td>\n",
              "                        <td id=\"T_b187d76e_75d2_11eb_bd19_0242ac1c0002row27_col19\" class=\"data row27 col19\" >0</td>\n",
              "                        <td id=\"T_b187d76e_75d2_11eb_bd19_0242ac1c0002row27_col20\" class=\"data row27 col20\" >0</td>\n",
              "                        <td id=\"T_b187d76e_75d2_11eb_bd19_0242ac1c0002row27_col21\" class=\"data row27 col21\" >0</td>\n",
              "                        <td id=\"T_b187d76e_75d2_11eb_bd19_0242ac1c0002row27_col22\" class=\"data row27 col22\" >0</td>\n",
              "                        <td id=\"T_b187d76e_75d2_11eb_bd19_0242ac1c0002row27_col23\" class=\"data row27 col23\" >0</td>\n",
              "                        <td id=\"T_b187d76e_75d2_11eb_bd19_0242ac1c0002row27_col24\" class=\"data row27 col24\" >0</td>\n",
              "                        <td id=\"T_b187d76e_75d2_11eb_bd19_0242ac1c0002row27_col25\" class=\"data row27 col25\" >0</td>\n",
              "                        <td id=\"T_b187d76e_75d2_11eb_bd19_0242ac1c0002row27_col26\" class=\"data row27 col26\" >0</td>\n",
              "                        <td id=\"T_b187d76e_75d2_11eb_bd19_0242ac1c0002row27_col27\" class=\"data row27 col27\" >0</td>\n",
              "            </tr>\n",
              "    </tbody></table>"
            ],
            "text/plain": [
              "<pandas.io.formats.style.Styler at 0x7f60872f56a0>"
            ]
          },
          "metadata": {
            "tags": []
          },
          "execution_count": 13
        }
      ]
    },
    {
      "cell_type": "code",
      "metadata": {
        "id": "FClNLmFV1Xw8",
        "colab": {
          "base_uri": "https://localhost:8080/"
        },
        "outputId": "ab59e9c5-edda-4b54-c191-303b11f289f0"
      },
      "source": [
        "seven_tensors = [tensor(Image.open(o)) for o in sevens]\n",
        "three_tensors = [tensor(Image.open(o)) for o in threes]\n",
        "len(three_tensors),len(seven_tensors)"
      ],
      "execution_count": null,
      "outputs": [
        {
          "output_type": "execute_result",
          "data": {
            "text/plain": [
              "(6131, 6265)"
            ]
          },
          "metadata": {
            "tags": []
          },
          "execution_count": 14
        }
      ]
    },
    {
      "cell_type": "code",
      "metadata": {
        "id": "hd354r691Xw9",
        "colab": {
          "base_uri": "https://localhost:8080/",
          "height": 85
        },
        "outputId": "cfcb9b86-ad07-4bf1-cf3a-96259754d931"
      },
      "source": [
        "show_image(three_tensors[1]);"
      ],
      "execution_count": null,
      "outputs": [
        {
          "output_type": "display_data",
          "data": {
            "image/png": "[encoded data removed]",
            "text/plain": [
              "<Figure size 72x72 with 1 Axes>"
            ]
          },
          "metadata": {
            "tags": [],
            "needs_background": "light"
          }
        }
      ]
    },
    {
      "cell_type": "code",
      "metadata": {
        "id": "XvRUY6vs1Xw-",
        "colab": {
          "base_uri": "https://localhost:8080/"
        },
        "outputId": "12ed28ce-3099-48b4-c22f-e536598849af"
      },
      "source": [
        "stacked_sevens = torch.stack(seven_tensors).float()/255\n",
        "stacked_threes = torch.stack(three_tensors).float()/255\n",
        "stacked_threes.shape"
      ],
      "execution_count": null,
      "outputs": [
        {
          "output_type": "execute_result",
          "data": {
            "text/plain": [
              "torch.Size([6131, 28, 28])"
            ]
          },
          "metadata": {
            "tags": []
          },
          "execution_count": 16
        }
      ]
    },
    {
      "cell_type": "code",
      "metadata": {
        "id": "_iw-DfX31Xw_",
        "colab": {
          "base_uri": "https://localhost:8080/"
        },
        "outputId": "61fccca4-6287-4535-d4f3-072b048adbac"
      },
      "source": [
        "len(stacked_threes.shape) #rank of tensor"
      ],
      "execution_count": null,
      "outputs": [
        {
          "output_type": "execute_result",
          "data": {
            "text/plain": [
              "3"
            ]
          },
          "metadata": {
            "tags": []
          },
          "execution_count": 17
        }
      ]
    },
    {
      "cell_type": "code",
      "metadata": {
        "id": "rZ7hhy_m1Xw_",
        "colab": {
          "base_uri": "https://localhost:8080/"
        },
        "outputId": "fdb0af78-2895-4a3b-905c-36021f89b80d"
      },
      "source": [
        "stacked_threes.ndim #also rank of the tensor"
      ],
      "execution_count": null,
      "outputs": [
        {
          "output_type": "execute_result",
          "data": {
            "text/plain": [
              "3"
            ]
          },
          "metadata": {
            "tags": []
          },
          "execution_count": 18
        }
      ]
    },
    {
      "cell_type": "code",
      "metadata": {
        "id": "fSNBGozI1XxA",
        "colab": {
          "base_uri": "https://localhost:8080/",
          "height": 85
        },
        "outputId": "d827e2a6-8952-4b91-dfc7-d2e319e29b0c"
      },
      "source": [
        "mean3 = stacked_threes.mean(0)\n",
        "show_image(mean3);"
      ],
      "execution_count": null,
      "outputs": [
        {
          "output_type": "display_data",
          "data": {
            "image/png": "[encoded data removed]",
            "text/plain": [
              "<Figure size 72x72 with 1 Axes>"
            ]
          },
          "metadata": {
            "tags": [],
            "needs_background": "light"
          }
        }
      ]
    },
    {
      "cell_type": "code",
      "metadata": {
        "id": "R3a5Xes-1XxA",
        "colab": {
          "base_uri": "https://localhost:8080/",
          "height": 85
        },
        "outputId": "4147c138-1eb8-4ffc-f4ac-a15303f941a7"
      },
      "source": [
        "mean7 = stacked_sevens.mean(0)\n",
        "show_image(mean7);"
      ],
      "execution_count": null,
      "outputs": [
        {
          "output_type": "display_data",
          "data": {
            "image/png": "[encoded data removed]",
            "text/plain": [
              "<Figure size 72x72 with 1 Axes>"
            ]
          },
          "metadata": {
            "tags": [],
            "needs_background": "light"
          }
        }
      ]
    },
    {
      "cell_type": "code",
      "metadata": {
        "id": "P9QMCtp01XxB",
        "colab": {
          "base_uri": "https://localhost:8080/",
          "height": 85
        },
        "outputId": "67cee94c-4f5c-4f82-c870-b7a144e7b314"
      },
      "source": [
        "a_3 = stacked_threes[1]\n",
        "show_image(a_3);"
      ],
      "execution_count": null,
      "outputs": [
        {
          "output_type": "display_data",
          "data": {
            "image/png": "[encoded data removed]",
            "text/plain": [
              "<Figure size 72x72 with 1 Axes>"
            ]
          },
          "metadata": {
            "tags": [],
            "needs_background": "light"
          }
        }
      ]
    },
    {
      "cell_type": "code",
      "metadata": {
        "id": "FU65Zu8V1XxB",
        "colab": {
          "base_uri": "https://localhost:8080/"
        },
        "outputId": "8af3f49b-346d-442c-b44f-39cb907d85fc"
      },
      "source": [
        "dist_3_abs = (a_3 - mean3).abs().mean() #L1 norm\n",
        "dist_3_sqr = ((a_3 - mean3)**2).mean().sqrt() #L2 norm\n",
        "dist_3_abs,dist_3_sqr"
      ],
      "execution_count": null,
      "outputs": [
        {
          "output_type": "execute_result",
          "data": {
            "text/plain": [
              "(tensor(0.1114), tensor(0.2021))"
            ]
          },
          "metadata": {
            "tags": []
          },
          "execution_count": 22
        }
      ]
    },
    {
      "cell_type": "code",
      "metadata": {
        "id": "sBX0iEK21XxB",
        "colab": {
          "base_uri": "https://localhost:8080/"
        },
        "outputId": "e2dfc7f9-e63e-4316-d61a-4416858d2864"
      },
      "source": [
        "dist_7_abs = (a_3 - mean7).abs().mean()\n",
        "dist_7_sqr = ((a_3 - mean7)**2).mean().sqrt()\n",
        "dist_7_abs,dist_7_sqr"
      ],
      "execution_count": null,
      "outputs": [
        {
          "output_type": "execute_result",
          "data": {
            "text/plain": [
              "(tensor(0.1586), tensor(0.3021))"
            ]
          },
          "metadata": {
            "tags": []
          },
          "execution_count": 23
        }
      ]
    },
    {
      "cell_type": "code",
      "metadata": {
        "id": "EYhEefez1XxC",
        "colab": {
          "base_uri": "https://localhost:8080/"
        },
        "outputId": "b2939757-bf58-48bb-f343-b0424d33cd3e"
      },
      "source": [
        "F.l1_loss(a_3.float(),mean7), F.mse_loss(a_3,mean7).sqrt()"
      ],
      "execution_count": null,
      "outputs": [
        {
          "output_type": "execute_result",
          "data": {
            "text/plain": [
              "(tensor(0.1586), tensor(0.3021))"
            ]
          },
          "metadata": {
            "tags": []
          },
          "execution_count": 24
        }
      ]
    },
    {
      "cell_type": "code",
      "metadata": {
        "id": "K78ASrtu1XxD"
      },
      "source": [
        "data = [[1,2,3],[4,5,6]]\n",
        "arr = array (data) #numpy\n",
        "tns = tensor(data) #pytorch"
      ],
      "execution_count": null,
      "outputs": []
    },
    {
      "cell_type": "code",
      "metadata": {
        "id": "GCbMvftw1XxE",
        "colab": {
          "base_uri": "https://localhost:8080/"
        },
        "outputId": "559a92f3-8d16-4c97-93a2-e9748ca482ff"
      },
      "source": [
        "tns[1]"
      ],
      "execution_count": null,
      "outputs": [
        {
          "output_type": "execute_result",
          "data": {
            "text/plain": [
              "tensor([4, 5, 6])"
            ]
          },
          "metadata": {
            "tags": []
          },
          "execution_count": 28
        }
      ]
    },
    {
      "cell_type": "code",
      "metadata": {
        "id": "vK9LqM1t1XxF",
        "colab": {
          "base_uri": "https://localhost:8080/"
        },
        "outputId": "34c9264f-89f4-4f59-bd50-134c81c2e17a"
      },
      "source": [
        "tns[:,1]\n",
        "tns[1,1:3] #slicing\n",
        "tns+1 #addition, subtraction, multiplication, division\n",
        "tns*2"
      ],
      "execution_count": null,
      "outputs": [
        {
          "output_type": "execute_result",
          "data": {
            "text/plain": [
              "tensor([[ 2,  4,  6],\n",
              "        [ 8, 10, 12]])"
            ]
          },
          "metadata": {
            "tags": []
          },
          "execution_count": 36
        }
      ]
    },
    {
      "cell_type": "code",
      "metadata": {
        "id": "0z8sn6sv1XxG",
        "colab": {
          "base_uri": "https://localhost:8080/",
          "height": 35
        },
        "outputId": "ab11f772-ee26-4e98-a7b4-bed52e3bbc1c"
      },
      "source": [
        "tns.type()"
      ],
      "execution_count": null,
      "outputs": [
        {
          "output_type": "execute_result",
          "data": {
            "application/vnd.google.colaboratory.intrinsic+json": {
              "type": "string"
            },
            "text/plain": [
              "'torch.LongTensor'"
            ]
          },
          "metadata": {
            "tags": []
          },
          "execution_count": 37
        }
      ]
    },
    {
      "cell_type": "code",
      "metadata": {
        "id": "tB1b-k-X1XxH",
        "colab": {
          "base_uri": "https://localhost:8080/"
        },
        "outputId": "6cb27b9a-33ee-4fc1-9904-402b61e99aad"
      },
      "source": [
        "valid_3_tens = torch.stack([tensor(Image.open(o)) \n",
        "                            for o in (path/'valid'/'3').ls()])\n",
        "valid_3_tens = valid_3_tens.float()/255\n",
        "valid_7_tens = torch.stack([tensor(Image.open(o)) \n",
        "                            for o in (path/'valid'/'7').ls()])\n",
        "valid_7_tens = valid_7_tens.float()/255\n",
        "valid_3_tens.shape,valid_7_tens.shape"
      ],
      "execution_count": null,
      "outputs": [
        {
          "output_type": "execute_result",
          "data": {
            "text/plain": [
              "(torch.Size([1010, 28, 28]), torch.Size([1028, 28, 28]))"
            ]
          },
          "metadata": {
            "tags": []
          },
          "execution_count": 39
        }
      ]
    },
    {
      "cell_type": "code",
      "metadata": {
        "id": "w3Nejcxp1XxH",
        "colab": {
          "base_uri": "https://localhost:8080/"
        },
        "outputId": "96c5d220-7a21-4af7-c08c-b0bd3dcff250"
      },
      "source": [
        "def mnist_distance(a,b): return (a-b).abs().mean((-1,-2))\n",
        "mnist_distance(a_3, mean3)"
      ],
      "execution_count": null,
      "outputs": [
        {
          "output_type": "execute_result",
          "data": {
            "text/plain": [
              "tensor(0.1114)"
            ]
          },
          "metadata": {
            "tags": []
          },
          "execution_count": 40
        }
      ]
    },
    {
      "cell_type": "code",
      "metadata": {
        "id": "24OuIpB51XxI",
        "colab": {
          "base_uri": "https://localhost:8080/"
        },
        "outputId": "89e1be9f-a7d2-4ca8-c1c6-113068a8fe04"
      },
      "source": [
        "valid_3_dist = mnist_distance(valid_3_tens, mean3)\n",
        "valid_3_dist, valid_3_dist.shape"
      ],
      "execution_count": null,
      "outputs": [
        {
          "output_type": "execute_result",
          "data": {
            "text/plain": [
              "(tensor([0.1092, 0.1758, 0.1456,  ..., 0.1106, 0.1080, 0.1464]),\n",
              " torch.Size([1010]))"
            ]
          },
          "metadata": {
            "tags": []
          },
          "execution_count": 41
        }
      ]
    },
    {
      "cell_type": "code",
      "metadata": {
        "id": "FUtDG_ez1XxI",
        "colab": {
          "base_uri": "https://localhost:8080/"
        },
        "outputId": "3116929e-0429-4005-df06-cf7abde528b1"
      },
      "source": [
        "tensor([[1,2,3], [2, 5, 6]]) + tensor([1])"
      ],
      "execution_count": null,
      "outputs": [
        {
          "output_type": "execute_result",
          "data": {
            "text/plain": [
              "tensor([[2, 3, 4],\n",
              "        [3, 6, 7]])"
            ]
          },
          "metadata": {
            "tags": []
          },
          "execution_count": 48
        }
      ]
    },
    {
      "cell_type": "code",
      "metadata": {
        "id": "XrfQzaPL1XxJ",
        "colab": {
          "base_uri": "https://localhost:8080/"
        },
        "outputId": "aad50959-409f-4ee2-d036-eebd8281689a"
      },
      "source": [
        "(valid_3_tens-mean3).shape"
      ],
      "execution_count": null,
      "outputs": [
        {
          "output_type": "execute_result",
          "data": {
            "text/plain": [
              "torch.Size([1010, 28, 28])"
            ]
          },
          "metadata": {
            "tags": []
          },
          "execution_count": 49
        }
      ]
    },
    {
      "cell_type": "code",
      "metadata": {
        "id": "dfepapvg1XxJ"
      },
      "source": [
        "def is_3(x): return mnist_distance(x,mean3) < mnist_distance(x,mean7)"
      ],
      "execution_count": null,
      "outputs": []
    },
    {
      "cell_type": "code",
      "metadata": {
        "id": "S021Iykr1XxK",
        "colab": {
          "base_uri": "https://localhost:8080/"
        },
        "outputId": "7624c7fb-ae18-4f44-f438-bc497e6463c5"
      },
      "source": [
        "is_3(a_3), is_3(a_3).float()"
      ],
      "execution_count": null,
      "outputs": [
        {
          "output_type": "execute_result",
          "data": {
            "text/plain": [
              "(tensor(True), tensor(1.))"
            ]
          },
          "metadata": {
            "tags": []
          },
          "execution_count": 51
        }
      ]
    },
    {
      "cell_type": "code",
      "metadata": {
        "id": "QNRPxiaQ1XxK",
        "colab": {
          "base_uri": "https://localhost:8080/"
        },
        "outputId": "f8d66a9e-c8dd-485d-cab6-45f75f63f3f2"
      },
      "source": [
        "is_3(valid_3_tens)"
      ],
      "execution_count": null,
      "outputs": [
        {
          "output_type": "execute_result",
          "data": {
            "text/plain": [
              "tensor([True, True, True,  ..., True, True, True])"
            ]
          },
          "metadata": {
            "tags": []
          },
          "execution_count": 52
        }
      ]
    },
    {
      "cell_type": "code",
      "metadata": {
        "id": "JwfpeeSa1XxL",
        "colab": {
          "base_uri": "https://localhost:8080/"
        },
        "outputId": "0979217e-912e-40b2-ac35-5e6c7a783903"
      },
      "source": [
        "accuracy_3s =      is_3(valid_3_tens).float() .mean()\n",
        "accuracy_7s = (1 - is_3(valid_7_tens).float()).mean()\n",
        "\n",
        "accuracy_3s,accuracy_7s,(accuracy_3s+accuracy_7s)/2"
      ],
      "execution_count": null,
      "outputs": [
        {
          "output_type": "execute_result",
          "data": {
            "text/plain": [
              "(tensor(0.9168), tensor(0.9854), tensor(0.9511))"
            ]
          },
          "metadata": {
            "tags": []
          },
          "execution_count": 53
        }
      ]
    },
    {
      "cell_type": "code",
      "metadata": {
        "id": "Aa2IuRWv1XxQ"
      },
      "source": [
        "xt = tensor(3.).requires_grad_() #tags the variable to also compute the gradient along the steps"
      ],
      "execution_count": null,
      "outputs": []
    },
    {
      "cell_type": "code",
      "metadata": {
        "id": "zNAxNBRv1XxR",
        "colab": {
          "base_uri": "https://localhost:8080/"
        },
        "outputId": "07c47390-86db-4712-eeaf-bc5387d46e2e"
      },
      "source": [
        "def f(x): return x*x\n",
        "yt = f(xt)\n",
        "yt\n"
      ],
      "execution_count": null,
      "outputs": [
        {
          "output_type": "execute_result",
          "data": {
            "text/plain": [
              "tensor(9., grad_fn=<MulBackward0>)"
            ]
          },
          "metadata": {
            "tags": []
          },
          "execution_count": 57
        }
      ]
    },
    {
      "cell_type": "code",
      "metadata": {
        "id": "kSUFhsVC1XxR"
      },
      "source": [
        "yt.backward() #tells pytorch to calculate the gradient"
      ],
      "execution_count": null,
      "outputs": []
    },
    {
      "cell_type": "code",
      "metadata": {
        "id": "IOr5HPb71XxS",
        "colab": {
          "base_uri": "https://localhost:8080/"
        },
        "outputId": "e02275c4-9312-4fcd-f257-68c56ae49c15"
      },
      "source": [
        "#backward refers to backpropagation -> calculates the derivative of each layer\n",
        "#also called the backward pass of the network, as opposed to the forward pass, which is where the activations are calculated\n",
        "xt.grad #this lets us view the gradients by checking the grad attribute of our tensor"
      ],
      "execution_count": null,
      "outputs": [
        {
          "output_type": "execute_result",
          "data": {
            "text/plain": [
              "tensor(6.)"
            ]
          },
          "metadata": {
            "tags": []
          },
          "execution_count": 59
        }
      ]
    },
    {
      "cell_type": "code",
      "metadata": {
        "id": "xbF90LjG1XxS",
        "colab": {
          "base_uri": "https://localhost:8080/"
        },
        "outputId": "a21fdc03-a11a-4b3f-aa5e-ccbbcc9c185c"
      },
      "source": [
        "xt = tensor([3.,4.,10.]).requires_grad_() #vector derivative\n",
        "xt"
      ],
      "execution_count": null,
      "outputs": [
        {
          "output_type": "execute_result",
          "data": {
            "text/plain": [
              "tensor([ 3.,  4., 10.], requires_grad=True)"
            ]
          },
          "metadata": {
            "tags": []
          },
          "execution_count": 60
        }
      ]
    },
    {
      "cell_type": "code",
      "metadata": {
        "id": "aBgu2j4s1XxS",
        "colab": {
          "base_uri": "https://localhost:8080/"
        },
        "outputId": "8efeb210-3654-42c4-86f8-88a5180bd4bf"
      },
      "source": [
        "def f(x): return (x**2).sum() #scalar function\n",
        "\n",
        "yt = f(xt)\n",
        "yt"
      ],
      "execution_count": null,
      "outputs": [
        {
          "output_type": "execute_result",
          "data": {
            "text/plain": [
              "tensor(125., grad_fn=<SumBackward0>)"
            ]
          },
          "metadata": {
            "tags": []
          },
          "execution_count": 61
        }
      ]
    },
    {
      "cell_type": "code",
      "metadata": {
        "id": "cZFnvpDa1XxT",
        "colab": {
          "base_uri": "https://localhost:8080/"
        },
        "outputId": "5b173c95-bbf2-4332-e87b-b3eabca77455"
      },
      "source": [
        "yt.backward()\n",
        "xt.grad #should return 2*xt"
      ],
      "execution_count": null,
      "outputs": [
        {
          "output_type": "execute_result",
          "data": {
            "text/plain": [
              "tensor([ 6.,  8., 20.])"
            ]
          },
          "metadata": {
            "tags": []
          },
          "execution_count": 62
        }
      ]
    },
    {
      "cell_type": "code",
      "metadata": {
        "id": "et6U85aH1XxV",
        "colab": {
          "base_uri": "https://localhost:8080/"
        },
        "outputId": "ce45b477-7b3a-4fb3-cc87-cb00b351d5be"
      },
      "source": [
        "#simple sgd example\n",
        "time = torch.arange(0,20).float(); time"
      ],
      "execution_count": null,
      "outputs": [
        {
          "output_type": "execute_result",
          "data": {
            "text/plain": [
              "tensor([ 0.,  1.,  2.,  3.,  4.,  5.,  6.,  7.,  8.,  9., 10., 11., 12., 13., 14., 15., 16., 17., 18., 19.])"
            ]
          },
          "metadata": {
            "tags": []
          },
          "execution_count": 108
        }
      ]
    },
    {
      "cell_type": "code",
      "metadata": {
        "id": "zt_-mh-71XxV",
        "colab": {
          "base_uri": "https://localhost:8080/",
          "height": 265
        },
        "outputId": "12b9a571-7dc0-41e3-9745-a13aeeec65df"
      },
      "source": [
        "speed = torch.randn(20)*3 + 0.75*(time-9.5)**2 + 1\n",
        "plt.scatter(time,speed);"
      ],
      "execution_count": null,
      "outputs": [
        {
          "output_type": "display_data",
          "data": {
            "image/png": "[encoded data removed]",
            "text/plain": [
              "<Figure size 432x288 with 1 Axes>"
            ]
          },
          "metadata": {
            "tags": [],
            "needs_background": "light"
          }
        }
      ]
    },
    {
      "cell_type": "code",
      "metadata": {
        "id": "6A3TiUim1XxV"
      },
      "source": [
        "def f(t, params):\n",
        "    a,b,c = params\n",
        "    return a*(t**2) + (b*t) + c"
      ],
      "execution_count": null,
      "outputs": []
    },
    {
      "cell_type": "code",
      "metadata": {
        "id": "kqRIx0Iy1XxV"
      },
      "source": [
        "def mse(preds, targets): return ((preds-targets)**2).mean().sqrt()"
      ],
      "execution_count": null,
      "outputs": []
    },
    {
      "cell_type": "code",
      "metadata": {
        "id": "4k1_l8n41XxW"
      },
      "source": [
        "params = torch.randn(3).requires_grad_()"
      ],
      "execution_count": null,
      "outputs": []
    },
    {
      "cell_type": "code",
      "metadata": {
        "id": "Xzz2K_v41XxW",
        "colab": {
          "base_uri": "https://localhost:8080/"
        },
        "outputId": "99250411-2224-44aa-bc80-b7dcdc4566ab"
      },
      "source": [
        "orig_params = params.clone()\n",
        "orig_params #original params that we used"
      ],
      "execution_count": null,
      "outputs": [
        {
          "output_type": "execute_result",
          "data": {
            "text/plain": [
              "tensor([ 1.5980,  0.1115, -0.0392], grad_fn=<CloneBackward>)"
            ]
          },
          "metadata": {
            "tags": []
          },
          "execution_count": 113
        }
      ]
    },
    {
      "cell_type": "code",
      "metadata": {
        "id": "Gnvx2Z9m1XxX"
      },
      "source": [
        "preds = f(time, params)"
      ],
      "execution_count": null,
      "outputs": []
    },
    {
      "cell_type": "code",
      "metadata": {
        "id": "lUsczABP1XxX"
      },
      "source": [
        "def show_preds(preds, ax=None):\n",
        "    if ax is None: ax=plt.subplots()[1]\n",
        "    ax.scatter(time, speed)\n",
        "    ax.scatter(time, to_np(preds), color='red')\n",
        "    ax.set_ylim(-300,100)"
      ],
      "execution_count": null,
      "outputs": []
    },
    {
      "cell_type": "code",
      "metadata": {
        "id": "br6W46D11XxX",
        "colab": {
          "base_uri": "https://localhost:8080/",
          "height": 269
        },
        "outputId": "c4a2dad8-eb9b-47f5-9581-1562f8e41df0"
      },
      "source": [
        "show_preds(preds)"
      ],
      "execution_count": null,
      "outputs": [
        {
          "output_type": "display_data",
          "data": {
            "image/png": "[encoded data removed]",
            "text/plain": [
              "<Figure size 432x288 with 1 Axes>"
            ]
          },
          "metadata": {
            "tags": [],
            "needs_background": "light"
          }
        }
      ]
    },
    {
      "cell_type": "code",
      "metadata": {
        "id": "JwtEjGHM1XxY",
        "colab": {
          "base_uri": "https://localhost:8080/"
        },
        "outputId": "919adb6d-4b27-4f42-cb35-af07477f7545"
      },
      "source": [
        "#calculating the loss\n",
        "loss = mse(preds, speed)\n",
        "loss"
      ],
      "execution_count": null,
      "outputs": [
        {
          "output_type": "execute_result",
          "data": {
            "text/plain": [
              "tensor(245.9481, grad_fn=<SqrtBackward>)"
            ]
          },
          "metadata": {
            "tags": []
          },
          "execution_count": 117
        }
      ]
    },
    {
      "cell_type": "code",
      "metadata": {
        "id": "B610Uuvs1XxY",
        "colab": {
          "base_uri": "https://localhost:8080/"
        },
        "outputId": "f0b5d679-5a87-4980-bc67-74981448c838"
      },
      "source": [
        "#calculating the gradients\n",
        "loss.backward()\n",
        "params.grad"
      ],
      "execution_count": null,
      "outputs": [
        {
          "output_type": "execute_result",
          "data": {
            "text/plain": [
              "tensor([166.7545,  10.7182,   0.6967])"
            ]
          },
          "metadata": {
            "tags": []
          },
          "execution_count": 118
        }
      ]
    },
    {
      "cell_type": "code",
      "metadata": {
        "id": "WvlQx-ep1XxZ",
        "colab": {
          "base_uri": "https://localhost:8080/"
        },
        "outputId": "b314a148-a4f1-4c25-c325-6c8ddec87671"
      },
      "source": [
        "lr = 1e-5 #learning rate\n",
        "params.grad * lr"
      ],
      "execution_count": null,
      "outputs": [
        {
          "output_type": "execute_result",
          "data": {
            "text/plain": [
              "tensor([1.6675e-03, 1.0718e-04, 6.9670e-06])"
            ]
          },
          "metadata": {
            "tags": []
          },
          "execution_count": 119
        }
      ]
    },
    {
      "cell_type": "code",
      "metadata": {
        "id": "GjLSjptW1XxZ",
        "colab": {
          "base_uri": "https://localhost:8080/"
        },
        "outputId": "cfe5c30b-6a5a-4b03-cd48-e406f16f3045"
      },
      "source": [
        "params\n",
        "params.data\n",
        "params.grad"
      ],
      "execution_count": null,
      "outputs": [
        {
          "output_type": "execute_result",
          "data": {
            "text/plain": [
              "tensor([166.7545,  10.7182,   0.6967])"
            ]
          },
          "metadata": {
            "tags": []
          },
          "execution_count": 120
        }
      ]
    },
    {
      "cell_type": "code",
      "metadata": {
        "id": "HLfpuwkz1Xxa"
      },
      "source": [
        "#update parameters based on the gradients we have just calculated\n",
        "lr = 1e-5\n",
        "params.data -= lr * params.grad.data\n",
        "params.grad = None"
      ],
      "execution_count": null,
      "outputs": []
    },
    {
      "cell_type": "code",
      "metadata": {
        "id": "avoBl1X51Xxa",
        "colab": {
          "base_uri": "https://localhost:8080/"
        },
        "outputId": "d3756253-351c-4a8c-c85d-b4a637ea7065"
      },
      "source": [
        "preds = f(time,params)\n",
        "mse(preds, speed)"
      ],
      "execution_count": null,
      "outputs": [
        {
          "output_type": "execute_result",
          "data": {
            "text/plain": [
              "tensor(245.6689, grad_fn=<SqrtBackward>)"
            ]
          },
          "metadata": {
            "tags": []
          },
          "execution_count": 122
        }
      ]
    },
    {
      "cell_type": "code",
      "metadata": {
        "id": "MhV4hzMo1Xxb",
        "colab": {
          "base_uri": "https://localhost:8080/",
          "height": 269
        },
        "outputId": "ab3281ff-9e95-4e2a-baa1-1618dd7e6a53"
      },
      "source": [
        "show_preds(preds)"
      ],
      "execution_count": null,
      "outputs": [
        {
          "output_type": "display_data",
          "data": {
            "image/png": "[encoded data removed]",
            "text/plain": [
              "<Figure size 432x288 with 1 Axes>"
            ]
          },
          "metadata": {
            "tags": [],
            "needs_background": "light"
          }
        }
      ]
    },
    {
      "cell_type": "code",
      "metadata": {
        "id": "s4_DXtz71Xxb"
      },
      "source": [
        "def apply_step(params, prn=True):\n",
        "    preds = f(time, params)\n",
        "    loss = mse(preds, speed)\n",
        "    loss.backward()\n",
        "    params.data -= lr * params.grad.data\n",
        "    params.grad = None\n",
        "    if prn: print(loss.item())\n",
        "    return preds"
      ],
      "execution_count": null,
      "outputs": []
    },
    {
      "cell_type": "code",
      "metadata": {
        "id": "JvXVjFas1Xxb",
        "colab": {
          "base_uri": "https://localhost:8080/"
        },
        "outputId": "9f474443-6a4f-4acd-ab16-2ea893f56763"
      },
      "source": [
        "for i in range(100): apply_step(params)"
      ],
      "execution_count": null,
      "outputs": [
        {
          "output_type": "stream",
          "text": [
            "244.83123779296875\n",
            "244.55201721191406\n",
            "244.27285766601562\n",
            "243.99368286132812\n",
            "243.7145233154297\n",
            "243.4353485107422\n",
            "243.15618896484375\n",
            "242.87704467773438\n",
            "242.597900390625\n",
            "242.31878662109375\n",
            "242.03964233398438\n",
            "241.76052856445312\n",
            "241.4813995361328\n",
            "241.20233154296875\n",
            "240.92323303222656\n",
            "240.64413452148438\n",
            "240.3650665283203\n",
            "240.0859832763672\n",
            "239.8069305419922\n",
            "239.5278778076172\n",
            "239.2488555908203\n",
            "238.96978759765625\n",
            "238.6907501220703\n",
            "238.4117431640625\n",
            "238.13272094726562\n",
            "237.85372924804688\n",
            "237.57472229003906\n",
            "237.2957305908203\n",
            "237.01675415039062\n",
            "236.73777770996094\n",
            "236.4588165283203\n",
            "236.1798858642578\n",
            "235.90090942382812\n",
            "235.62197875976562\n",
            "235.3430633544922\n",
            "235.0641326904297\n",
            "234.7852020263672\n",
            "234.50631713867188\n",
            "234.22743225097656\n",
            "233.94854736328125\n",
            "233.66966247558594\n",
            "233.39077758789062\n",
            "233.1119384765625\n",
            "232.8330841064453\n",
            "232.5542449951172\n",
            "232.27537536621094\n",
            "231.99656677246094\n",
            "231.7177734375\n",
            "231.43894958496094\n",
            "231.16017150878906\n",
            "230.88134765625\n",
            "230.6025848388672\n",
            "230.32379150390625\n",
            "230.0450439453125\n",
            "229.7662811279297\n",
            "229.48753356933594\n",
            "229.2088165283203\n",
            "228.9300994873047\n",
            "228.6513671875\n",
            "228.37265014648438\n",
            "228.0939483642578\n",
            "227.81524658203125\n",
            "227.53659057617188\n",
            "227.2578887939453\n",
            "226.97923278808594\n",
            "226.70059204101562\n",
            "226.4219512939453\n",
            "226.14329528808594\n",
            "225.8646697998047\n",
            "225.58607482910156\n",
            "225.30747985839844\n",
            "225.02886962890625\n",
            "224.7502899169922\n",
            "224.47171020507812\n",
            "224.19313049316406\n",
            "223.9145965576172\n",
            "223.6360321044922\n",
            "223.35751342773438\n",
            "223.0789794921875\n",
            "222.8004608154297\n",
            "222.52195739746094\n",
            "222.2434844970703\n",
            "221.96499633789062\n",
            "221.68650817871094\n",
            "221.40806579589844\n",
            "221.1295928955078\n",
            "220.85116577148438\n",
            "220.57272338867188\n",
            "220.29428100585938\n",
            "220.015869140625\n",
            "219.7374725341797\n",
            "219.4590606689453\n",
            "219.18069458007812\n",
            "218.90232849121094\n",
            "218.6239471435547\n",
            "218.34559631347656\n",
            "218.0672607421875\n",
            "217.7889404296875\n",
            "217.51058959960938\n",
            "217.23228454589844\n"
          ],
          "name": "stdout"
        }
      ]
    },
    {
      "cell_type": "code",
      "metadata": {
        "id": "ZAet_rer1Xxc"
      },
      "source": [
        "params = orig_params.detach().requires_grad_()"
      ],
      "execution_count": null,
      "outputs": []
    },
    {
      "cell_type": "code",
      "metadata": {
        "id": "okrzcoav1Xxc",
        "colab": {
          "base_uri": "https://localhost:8080/",
          "height": 225
        },
        "outputId": "95e9a20b-becd-4c6e-c9d9-596dd421b9d6"
      },
      "source": [
        "_,axs = plt.subplots(1,4,figsize=(12,3))\n",
        "for ax in axs: show_preds(apply_step(params, False), ax)\n",
        "plt.tight_layout()"
      ],
      "execution_count": null,
      "outputs": [
        {
          "output_type": "display_data",
          "data": {
            "image/png": "[encoded data removed]",
            "text/plain": [
              "<Figure size 864x216 with 4 Axes>"
            ]
          },
          "metadata": {
            "tags": [],
            "needs_background": "light"
          }
        }
      ]
    },
    {
      "cell_type": "code",
      "metadata": {
        "id": "SxGvUp5G1Xxe"
      },
      "source": [
        "#ACTUAL SGD\n",
        "train_x = torch.cat([stacked_threes, stacked_sevens]).view(-1, 28*28)"
      ],
      "execution_count": null,
      "outputs": []
    },
    {
      "cell_type": "code",
      "metadata": {
        "id": "DePpvT4Z1Xxe",
        "colab": {
          "base_uri": "https://localhost:8080/"
        },
        "outputId": "8b5af237-8f06-4edb-9d8a-d5a7fec22f6e"
      },
      "source": [
        "train_y = tensor([1]*len(threes) + [0]*len(sevens)).unsqueeze(1)\n",
        "train_x.shape,train_y.shape"
      ],
      "execution_count": null,
      "outputs": [
        {
          "output_type": "execute_result",
          "data": {
            "text/plain": [
              "(torch.Size([12396, 784]), torch.Size([12396, 1]))"
            ]
          },
          "metadata": {
            "tags": []
          },
          "execution_count": 131
        }
      ]
    },
    {
      "cell_type": "code",
      "metadata": {
        "id": "V6MX_qKk1Xxe",
        "colab": {
          "base_uri": "https://localhost:8080/"
        },
        "outputId": "8d229901-40ec-44d0-8f0a-6219f8db8375"
      },
      "source": [
        "dset = list(zip(train_x,train_y))\n",
        "x,y = dset[0]\n",
        "x.shape,y"
      ],
      "execution_count": null,
      "outputs": [
        {
          "output_type": "execute_result",
          "data": {
            "text/plain": [
              "(torch.Size([784]), tensor([1]))"
            ]
          },
          "metadata": {
            "tags": []
          },
          "execution_count": 132
        }
      ]
    },
    {
      "cell_type": "code",
      "metadata": {
        "id": "_D-9Q9Ne1Xxf"
      },
      "source": [
        "valid_x = torch.cat([valid_3_tens, valid_7_tens]).view(-1, 28*28)\n",
        "valid_y = tensor([1]*len(valid_3_tens) + [0]*len(valid_7_tens)).unsqueeze(1)\n",
        "valid_dset = list(zip(valid_x,valid_y))"
      ],
      "execution_count": null,
      "outputs": []
    },
    {
      "cell_type": "code",
      "metadata": {
        "id": "d_HwuGSa1Xxf"
      },
      "source": [
        "def init_params(size, std=1.0): return (torch.randn(size)*std).requires_grad_()"
      ],
      "execution_count": null,
      "outputs": []
    },
    {
      "cell_type": "code",
      "metadata": {
        "id": "QYQjbCmC1Xxf"
      },
      "source": [
        "weights = init_params((28*28,1))"
      ],
      "execution_count": null,
      "outputs": []
    },
    {
      "cell_type": "code",
      "metadata": {
        "id": "Zn02PtDM1Xxf"
      },
      "source": [
        "bias = init_params(1) #y=weights*x+bias"
      ],
      "execution_count": null,
      "outputs": []
    },
    {
      "cell_type": "code",
      "metadata": {
        "id": "GmugUaRg1Xxh",
        "colab": {
          "base_uri": "https://localhost:8080/"
        },
        "outputId": "6b9e9ef1-66d3-4846-d557-f7ec2cf16979"
      },
      "source": [
        "(train_x[0]*weights.T).sum() + bias"
      ],
      "execution_count": null,
      "outputs": [
        {
          "output_type": "execute_result",
          "data": {
            "text/plain": [
              "tensor([16.2561], grad_fn=<AddBackward0>)"
            ]
          },
          "metadata": {
            "tags": []
          },
          "execution_count": 137
        }
      ]
    },
    {
      "cell_type": "code",
      "metadata": {
        "id": "8DZNennt1Xxh",
        "colab": {
          "base_uri": "https://localhost:8080/"
        },
        "outputId": "d2180fff-0b79-46ed-ed6b-100b8979acf2"
      },
      "source": [
        "def linear1(xb): return xb@weights + bias\n",
        "preds = linear1(train_x)\n",
        "preds"
      ],
      "execution_count": null,
      "outputs": [
        {
          "output_type": "execute_result",
          "data": {
            "text/plain": [
              "tensor([[16.2561],\n",
              "        [14.0191],\n",
              "        [16.8736],\n",
              "        ...,\n",
              "        [ 5.3612],\n",
              "        [ 5.3861],\n",
              "        [ 0.3403]], grad_fn=<AddBackward0>)"
            ]
          },
          "metadata": {
            "tags": []
          },
          "execution_count": 138
        }
      ]
    },
    {
      "cell_type": "code",
      "metadata": {
        "id": "UCcyDrlW1Xxi",
        "colab": {
          "base_uri": "https://localhost:8080/"
        },
        "outputId": "25720176-f123-427f-c891-694f1193a73e"
      },
      "source": [
        "corrects = (preds>0.5).float() == train_y\n",
        "corrects"
      ],
      "execution_count": null,
      "outputs": [
        {
          "output_type": "execute_result",
          "data": {
            "text/plain": [
              "tensor([[ True],\n",
              "        [ True],\n",
              "        [ True],\n",
              "        ...,\n",
              "        [False],\n",
              "        [False],\n",
              "        [ True]])"
            ]
          },
          "metadata": {
            "tags": []
          },
          "execution_count": 139
        }
      ]
    },
    {
      "cell_type": "code",
      "metadata": {
        "id": "vxdSRwzW1Xxi",
        "colab": {
          "base_uri": "https://localhost:8080/"
        },
        "outputId": "843cd462-d583-40c8-cf7d-52121ba88436"
      },
      "source": [
        "corrects.float().mean().item()"
      ],
      "execution_count": null,
      "outputs": [
        {
          "output_type": "execute_result",
          "data": {
            "text/plain": [
              "0.5957567095756531"
            ]
          },
          "metadata": {
            "tags": []
          },
          "execution_count": 140
        }
      ]
    },
    {
      "cell_type": "code",
      "metadata": {
        "id": "uyuBBL0W1Xxi"
      },
      "source": [
        "weights[0] *= 1.0001"
      ],
      "execution_count": null,
      "outputs": []
    },
    {
      "cell_type": "code",
      "metadata": {
        "id": "4uWyF7VM1Xxi",
        "colab": {
          "base_uri": "https://localhost:8080/"
        },
        "outputId": "cdd9e8cf-65ab-4da3-9acc-185ed5f1ec15"
      },
      "source": [
        "preds = linear1(train_x)\n",
        "((preds>0.0).float() == train_y).float().mean().item()"
      ],
      "execution_count": null,
      "outputs": [
        {
          "output_type": "execute_result",
          "data": {
            "text/plain": [
              "0.5855114459991455"
            ]
          },
          "metadata": {
            "tags": []
          },
          "execution_count": 142
        }
      ]
    },
    {
      "cell_type": "code",
      "metadata": {
        "id": "LtQ0wJMI1Xxj"
      },
      "source": [
        "trgts  = tensor([1,0,1])\n",
        "prds   = tensor([0.9, 0.4, 0.2])"
      ],
      "execution_count": null,
      "outputs": []
    },
    {
      "cell_type": "code",
      "metadata": {
        "id": "UvCmAcQ01Xxj"
      },
      "source": [
        "def mnist_loss(predictions, targets):\n",
        "    return torch.where(targets==1, 1-predictions, predictions).mean()"
      ],
      "execution_count": null,
      "outputs": []
    },
    {
      "cell_type": "code",
      "metadata": {
        "id": "D30fMyWr1Xxl"
      },
      "source": [
        "def sigmoid(x): return 1/(1+torch.exp(-x))"
      ],
      "execution_count": null,
      "outputs": []
    },
    {
      "cell_type": "code",
      "metadata": {
        "id": "2UFDHVdc1Xxl",
        "colab": {
          "base_uri": "https://localhost:8080/",
          "height": 336
        },
        "outputId": "e40946b3-57f9-4e6d-df1c-8217804a3ac4"
      },
      "source": [
        "plot_function(torch.sigmoid, title='Sigmoid', min=-4, max=4)"
      ],
      "execution_count": null,
      "outputs": [
        {
          "output_type": "stream",
          "text": [
            "/usr/local/lib/python3.6/dist-packages/fastbook/__init__.py:73: UserWarning: Not providing a value for linspace's steps is deprecated and will throw a runtime error in a future release. This warning will appear only once per process. (Triggered internally at  /pytorch/aten/src/ATen/native/RangeFactories.cpp:23.)\n",
            "  x = torch.linspace(min,max)\n"
          ],
          "name": "stderr"
        },
        {
          "output_type": "display_data",
          "data": {
            "image/png": "[encoded data removed]",
            "text/plain": [
              "<Figure size 432x288 with 1 Axes>"
            ]
          },
          "metadata": {
            "tags": [],
            "needs_background": "light"
          }
        }
      ]
    },
    {
      "cell_type": "code",
      "metadata": {
        "id": "S7jcWBM41Xxm"
      },
      "source": [
        "def mnist_loss(predictions, targets):\n",
        "    predictions = predictions.sigmoid()\n",
        "    return torch.where(targets==1, 1-predictions, predictions).mean()"
      ],
      "execution_count": null,
      "outputs": []
    },
    {
      "cell_type": "code",
      "metadata": {
        "id": "ahCAw3-s1Xxm",
        "colab": {
          "base_uri": "https://localhost:8080/"
        },
        "outputId": "93377c75-3a35-4070-c92a-116a7b1c0a38"
      },
      "source": [
        "coll = range(15)\n",
        "dl = DataLoader(coll, batch_size=5, shuffle=True)\n",
        "list(dl)"
      ],
      "execution_count": null,
      "outputs": [
        {
          "output_type": "execute_result",
          "data": {
            "text/plain": [
              "[tensor([ 3, 12,  8, 10,  2]),\n",
              " tensor([ 9,  4,  7, 14,  5]),\n",
              " tensor([ 1, 13,  0,  6, 11])]"
            ]
          },
          "metadata": {
            "tags": []
          },
          "execution_count": 150
        }
      ]
    },
    {
      "cell_type": "code",
      "metadata": {
        "id": "7V4vub2R1Xxn",
        "colab": {
          "base_uri": "https://localhost:8080/"
        },
        "outputId": "1b425895-4f56-4634-d6d9-05ff80135e3b"
      },
      "source": [
        "ds = L(enumerate(string.ascii_lowercase))\n",
        "ds"
      ],
      "execution_count": null,
      "outputs": [
        {
          "output_type": "execute_result",
          "data": {
            "text/plain": [
              "(#26) [(0, 'a'),(1, 'b'),(2, 'c'),(3, 'd'),(4, 'e'),(5, 'f'),(6, 'g'),(7, 'h'),(8, 'i'),(9, 'j')...]"
            ]
          },
          "metadata": {
            "tags": []
          },
          "execution_count": 151
        }
      ]
    },
    {
      "cell_type": "code",
      "metadata": {
        "id": "Zs1vevfx1Xxn",
        "colab": {
          "base_uri": "https://localhost:8080/"
        },
        "outputId": "df39e105-ce7c-421d-f393-216f8aab29ec"
      },
      "source": [
        "dl = DataLoader(ds, batch_size=6, shuffle=True)\n",
        "list(dl)"
      ],
      "execution_count": null,
      "outputs": [
        {
          "output_type": "execute_result",
          "data": {
            "text/plain": [
              "[(tensor([17, 18, 10, 22,  8, 14]), ('r', 's', 'k', 'w', 'i', 'o')),\n",
              " (tensor([20, 15,  9, 13, 21, 12]), ('u', 'p', 'j', 'n', 'v', 'm')),\n",
              " (tensor([ 7, 25,  6,  5, 11, 23]), ('h', 'z', 'g', 'f', 'l', 'x')),\n",
              " (tensor([ 1,  3,  0, 24, 19, 16]), ('b', 'd', 'a', 'y', 't', 'q')),\n",
              " (tensor([2, 4]), ('c', 'e'))]"
            ]
          },
          "metadata": {
            "tags": []
          },
          "execution_count": 152
        }
      ]
    },
    {
      "cell_type": "code",
      "metadata": {
        "id": "gA7bVH2F1Xxo"
      },
      "source": [
        "#INITIALISE THE PARAMETER\n",
        "weights = init_params((28*28,1))\n",
        "bias = init_params(1)"
      ],
      "execution_count": null,
      "outputs": []
    },
    {
      "cell_type": "code",
      "metadata": {
        "id": "-bg_ZIKG1Xxo",
        "colab": {
          "base_uri": "https://localhost:8080/"
        },
        "outputId": "3c19e095-b6a0-4485-f065-62409b025d6f"
      },
      "source": [
        "dl = DataLoader(dset, batch_size=256)\n",
        "xb,yb = first(dl)\n",
        "xb.shape,yb.shape"
      ],
      "execution_count": null,
      "outputs": [
        {
          "output_type": "execute_result",
          "data": {
            "text/plain": [
              "(torch.Size([256, 784]), torch.Size([256, 1]))"
            ]
          },
          "metadata": {
            "tags": []
          },
          "execution_count": 156
        }
      ]
    },
    {
      "cell_type": "code",
      "metadata": {
        "id": "ImqdXFch1Xxo"
      },
      "source": [
        "valid_dl = DataLoader(valid_dset, batch_size=256)"
      ],
      "execution_count": null,
      "outputs": []
    },
    {
      "cell_type": "code",
      "metadata": {
        "id": "-LHFURnf1Xxp",
        "colab": {
          "base_uri": "https://localhost:8080/"
        },
        "outputId": "922a3aa9-aae3-43de-d8ad-b0d5b18571a8"
      },
      "source": [
        "batch = train_x[:4]\n",
        "batch.shape"
      ],
      "execution_count": null,
      "outputs": [
        {
          "output_type": "execute_result",
          "data": {
            "text/plain": [
              "torch.Size([4, 784])"
            ]
          },
          "metadata": {
            "tags": []
          },
          "execution_count": 158
        }
      ]
    },
    {
      "cell_type": "code",
      "metadata": {
        "id": "0bGpY6sK1Xxp",
        "colab": {
          "base_uri": "https://localhost:8080/"
        },
        "outputId": "b7716d55-33f2-490e-e103-5652f7e9cf38"
      },
      "source": [
        "preds = linear1(batch)\n",
        "preds"
      ],
      "execution_count": null,
      "outputs": [
        {
          "output_type": "execute_result",
          "data": {
            "text/plain": [
              "tensor([[-5.9718],\n",
              "        [-2.1521],\n",
              "        [-7.9371],\n",
              "        [-9.4040]], grad_fn=<AddBackward0>)"
            ]
          },
          "metadata": {
            "tags": []
          },
          "execution_count": 159
        }
      ]
    },
    {
      "cell_type": "code",
      "metadata": {
        "id": "bdvlGpcE1Xxp",
        "colab": {
          "base_uri": "https://localhost:8080/"
        },
        "outputId": "cc9dbd7d-8b7b-4b59-ca52-9895288ad33c"
      },
      "source": [
        "loss = mnist_loss(preds, train_y[:4])\n",
        "loss"
      ],
      "execution_count": null,
      "outputs": [
        {
          "output_type": "execute_result",
          "data": {
            "text/plain": [
              "tensor(0.9732, grad_fn=<MeanBackward0>)"
            ]
          },
          "metadata": {
            "tags": []
          },
          "execution_count": 160
        }
      ]
    },
    {
      "cell_type": "code",
      "metadata": {
        "id": "xWLG-Nds1Xxp",
        "colab": {
          "base_uri": "https://localhost:8080/"
        },
        "outputId": "cb2083dd-08a7-42f4-e469-85c66ac913d1"
      },
      "source": [
        "#calculating the gradients\n",
        "loss.backward() #gradient\n",
        "weights.grad.shape,weights.grad.mean(),bias.grad"
      ],
      "execution_count": null,
      "outputs": [
        {
          "output_type": "execute_result",
          "data": {
            "text/plain": [
              "(torch.Size([784, 1]), tensor(-0.0034), tensor([-0.0241]))"
            ]
          },
          "metadata": {
            "tags": []
          },
          "execution_count": 161
        }
      ]
    },
    {
      "cell_type": "code",
      "metadata": {
        "id": "xyK0p3081Xxq"
      },
      "source": [
        "def calc_grad(xb, yb, model):\n",
        "    preds = model(xb)\n",
        "    loss = mnist_loss(preds, yb)\n",
        "    loss.backward()"
      ],
      "execution_count": null,
      "outputs": []
    },
    {
      "cell_type": "code",
      "metadata": {
        "id": "heyKrq6W1Xxq",
        "colab": {
          "base_uri": "https://localhost:8080/"
        },
        "outputId": "d12e4f1e-879a-4afc-d06a-42edce450b71"
      },
      "source": [
        "calc_grad(batch, train_y[:4], linear1)\n",
        "weights.grad.mean(),bias.grad"
      ],
      "execution_count": null,
      "outputs": [
        {
          "output_type": "execute_result",
          "data": {
            "text/plain": [
              "(tensor(-0.0069), tensor([-0.0481]))"
            ]
          },
          "metadata": {
            "tags": []
          },
          "execution_count": 163
        }
      ]
    },
    {
      "cell_type": "code",
      "metadata": {
        "id": "U0OBa8YG1Xxr"
      },
      "source": [
        "#loss.backward adds the gradients of loss to any gradients that are currently stored\n",
        "#so we have to set the current gradients to 0 first\n",
        "#if you call calc_grad twice, the gradients are accumulated\n",
        "weights.grad.zero_()\n",
        "bias.grad.zero_();"
      ],
      "execution_count": null,
      "outputs": []
    },
    {
      "cell_type": "code",
      "metadata": {
        "id": "ZF4DScL61Xxr"
      },
      "source": [
        "#update the weights and biases based on gradient and learning rate\n",
        "#have to tell pytorch not to take the gradient of that step too\n",
        "\n",
        "### basic training loop for an epoch\n",
        "def train_epoch(model, lr, params):\n",
        "    for xb,yb in dl:\n",
        "        calc_grad(xb, yb, model)\n",
        "        for p in params:\n",
        "            p.data -= p.grad*lr\n",
        "            p.grad.zero_()"
      ],
      "execution_count": null,
      "outputs": []
    },
    {
      "cell_type": "code",
      "metadata": {
        "id": "NwW1kQH51Xxs",
        "colab": {
          "base_uri": "https://localhost:8080/"
        },
        "outputId": "987f4b73-006d-4964-a212-cc0b3c397428"
      },
      "source": [
        "(preds>0.0).float() == train_y[:4]"
      ],
      "execution_count": null,
      "outputs": [
        {
          "output_type": "execute_result",
          "data": {
            "text/plain": [
              "tensor([[False],\n",
              "        [False],\n",
              "        [False],\n",
              "        [False]])"
            ]
          },
          "metadata": {
            "tags": []
          },
          "execution_count": 166
        }
      ]
    },
    {
      "cell_type": "code",
      "metadata": {
        "id": "wgs4mfMy1Xxs"
      },
      "source": [
        "### function to calculate validation accuracy\n",
        "def batch_accuracy(xb, yb):\n",
        "    preds = xb.sigmoid()\n",
        "    correct = (preds>0.5) == yb\n",
        "    return correct.float().mean()"
      ],
      "execution_count": null,
      "outputs": []
    },
    {
      "cell_type": "code",
      "metadata": {
        "id": "VRl8BHqg1Xxs",
        "colab": {
          "base_uri": "https://localhost:8080/"
        },
        "outputId": "23b99abb-36da-4333-e15d-731db6d776e9"
      },
      "source": [
        "batch_accuracy(linear1(batch), train_y[:4])"
      ],
      "execution_count": null,
      "outputs": [
        {
          "output_type": "execute_result",
          "data": {
            "text/plain": [
              "tensor(0.)"
            ]
          },
          "metadata": {
            "tags": []
          },
          "execution_count": 168
        }
      ]
    },
    {
      "cell_type": "code",
      "metadata": {
        "id": "BYDkpp1n1Xxt"
      },
      "source": [
        "def validate_epoch(model):\n",
        "    accs = [batch_accuracy(model(xb), yb) for xb,yb in valid_dl]\n",
        "    return round(torch.stack(accs).mean().item(), 4)"
      ],
      "execution_count": null,
      "outputs": []
    },
    {
      "cell_type": "code",
      "metadata": {
        "id": "tQ5IU7xR1Xxv",
        "colab": {
          "base_uri": "https://localhost:8080/"
        },
        "outputId": "e9ead5c7-d2ed-41e1-c644-cba8f9c721a2"
      },
      "source": [
        "validate_epoch(linear1)"
      ],
      "execution_count": null,
      "outputs": [
        {
          "output_type": "execute_result",
          "data": {
            "text/plain": [
              "0.5314"
            ]
          },
          "metadata": {
            "tags": []
          },
          "execution_count": 170
        }
      ]
    },
    {
      "cell_type": "code",
      "metadata": {
        "id": "OGQCjSqR1Xxv",
        "colab": {
          "base_uri": "https://localhost:8080/"
        },
        "outputId": "078c4cfe-7ae5-43af-f622-fe0bfd5ac64e"
      },
      "source": [
        "### training for one epoch\n",
        "lr = 1.\n",
        "params = weights,bias\n",
        "train_epoch(linear1, lr, params)\n",
        "validate_epoch(linear1)"
      ],
      "execution_count": null,
      "outputs": [
        {
          "output_type": "execute_result",
          "data": {
            "text/plain": [
              "0.6855"
            ]
          },
          "metadata": {
            "tags": []
          },
          "execution_count": 171
        }
      ]
    },
    {
      "cell_type": "code",
      "metadata": {
        "id": "EfdflyUM1Xxw",
        "colab": {
          "base_uri": "https://localhost:8080/"
        },
        "outputId": "cd8f553b-bedc-46a9-caf5-3a9f4eda32ba"
      },
      "source": [
        "for i in range(20):\n",
        "    train_epoch(linear1, lr, params)\n",
        "    print(validate_epoch(linear1), end=' ')"
      ],
      "execution_count": null,
      "outputs": [
        {
          "output_type": "stream",
          "text": [
            "0.8637 0.9233 0.9428 0.954 0.9579 0.9613 0.9628 0.9637 0.9667 0.9671 0.9676 0.9676 0.9686 0.9696 0.9696 0.9701 0.9701 0.9701 0.9701 0.9701 "
          ],
          "name": "stdout"
        }
      ]
    },
    {
      "cell_type": "code",
      "metadata": {
        "id": "u6ifQieV1Xxw"
      },
      "source": [
        "### OPTIMISERS HANDLE THE SGD STEP\n",
        "\n",
        "linear_model = nn.Linear(28*28,1)"
      ],
      "execution_count": null,
      "outputs": []
    },
    {
      "cell_type": "code",
      "metadata": {
        "id": "8-yVOxpi1Xxx",
        "colab": {
          "base_uri": "https://localhost:8080/"
        },
        "outputId": "15629e5a-19d3-497a-f6e7-60f2ccc3c115"
      },
      "source": [
        "w,b = linear_model.parameters()\n",
        "w.shape,b.shape"
      ],
      "execution_count": null,
      "outputs": [
        {
          "output_type": "execute_result",
          "data": {
            "text/plain": [
              "(torch.Size([1, 784]), torch.Size([1]))"
            ]
          },
          "metadata": {
            "tags": []
          },
          "execution_count": 174
        }
      ]
    },
    {
      "cell_type": "code",
      "metadata": {
        "id": "Xg9rcPYw1Xxx"
      },
      "source": [
        "class BasicOptim:\n",
        "    def __init__(self,params,lr): self.params,self.lr = list(params),lr\n",
        "\n",
        "    def step(self, *args, **kwargs):\n",
        "        for p in self.params: p.data -= p.grad.data * self.lr\n",
        "\n",
        "    def zero_grad(self, *args, **kwargs):\n",
        "        for p in self.params: p.grad = None"
      ],
      "execution_count": null,
      "outputs": []
    },
    {
      "cell_type": "code",
      "metadata": {
        "id": "ezCkj8vU1Xxx"
      },
      "source": [
        "opt = BasicOptim(linear_model.parameters(), lr)"
      ],
      "execution_count": null,
      "outputs": []
    },
    {
      "cell_type": "code",
      "metadata": {
        "id": "kVMtlAJF1Xxx"
      },
      "source": [
        "def train_epoch(model):\n",
        "    for xb,yb in dl:\n",
        "        calc_grad(xb, yb, model)\n",
        "        opt.step()\n",
        "        opt.zero_grad()"
      ],
      "execution_count": null,
      "outputs": []
    },
    {
      "cell_type": "code",
      "metadata": {
        "id": "CyC3Kdsh1Xxy",
        "colab": {
          "base_uri": "https://localhost:8080/"
        },
        "outputId": "b15e1849-af9b-44ea-efab-70015311cb8c"
      },
      "source": [
        "validate_epoch(linear_model)"
      ],
      "execution_count": null,
      "outputs": [
        {
          "output_type": "execute_result",
          "data": {
            "text/plain": [
              "0.4018"
            ]
          },
          "metadata": {
            "tags": []
          },
          "execution_count": 178
        }
      ]
    },
    {
      "cell_type": "code",
      "metadata": {
        "id": "nBAUiKtb1Xxy"
      },
      "source": [
        "def train_model(model, epochs):\n",
        "    for i in range(epochs):\n",
        "        train_epoch(model)\n",
        "        print(validate_epoch(model), end=' ')"
      ],
      "execution_count": null,
      "outputs": []
    },
    {
      "cell_type": "code",
      "metadata": {
        "id": "CRRcavbc1Xxy",
        "colab": {
          "base_uri": "https://localhost:8080/"
        },
        "outputId": "311da64a-ccfb-4fba-cccd-0bdd93e4aac3"
      },
      "source": [
        "train_model(linear_model, 20)"
      ],
      "execution_count": null,
      "outputs": [
        {
          "output_type": "stream",
          "text": [
            "0.4932 0.8994 0.8062 0.9058 0.9321 0.9458 0.9551 0.9609 0.9653 0.9678 0.9692 0.9721 0.9736 0.9751 0.9756 0.9765 0.9775 0.978 0.978 0.979 "
          ],
          "name": "stdout"
        }
      ]
    },
    {
      "cell_type": "code",
      "metadata": {
        "id": "2ZJw_-ac1Xxz",
        "colab": {
          "base_uri": "https://localhost:8080/"
        },
        "outputId": "6ef74db7-3a63-415e-8b7a-b468117166a1"
      },
      "source": [
        "linear_model = nn.Linear(28*28,1)\n",
        "opt = SGD(linear_model.parameters(), lr)\n",
        "train_model(linear_model, 20)"
      ],
      "execution_count": null,
      "outputs": [
        {
          "output_type": "stream",
          "text": [
            "0.4932 0.8305 0.8423 0.9141 0.9326 0.9472 0.957 0.9629 0.9653 0.9673 0.9697 0.9721 0.9726 0.9751 0.9761 0.9765 0.9775 0.978 0.978 0.9785 "
          ],
          "name": "stdout"
        }
      ]
    },
    {
      "cell_type": "code",
      "metadata": {
        "id": "JLxfvYD31Xxz"
      },
      "source": [
        "### fastai has Learner.fit, which can replace train_model. To create a Learner, first need to create a DataLoaders\n",
        "### pass in training and validation dataloader\n",
        "dls = DataLoaders(dl, valid_dl)"
      ],
      "execution_count": null,
      "outputs": []
    },
    {
      "cell_type": "code",
      "metadata": {
        "id": "gvsY5nJk1Xxz"
      },
      "source": [
        "### to create a learner, need to pass in dataloaders, model, optimisation function,\n",
        "### the loss function and optionally any metric to print\n",
        "learn = Learner(dls, nn.Linear(28*28,1), opt_func=SGD,\n",
        "                loss_func=mnist_loss, metrics=batch_accuracy)"
      ],
      "execution_count": null,
      "outputs": []
    },
    {
      "cell_type": "code",
      "metadata": {
        "id": "qKJos7DX1Xxz",
        "colab": {
          "base_uri": "https://localhost:8080/",
          "height": 355
        },
        "outputId": "a5050717-cbed-4a51-e48c-4118742e523e"
      },
      "source": [
        "learn.fit(10, lr=lr)"
      ],
      "execution_count": null,
      "outputs": [
        {
          "output_type": "display_data",
          "data": {
            "text/html": [
              "<table border=\"1\" class=\"dataframe\">\n",
              "  <thead>\n",
              "    <tr style=\"text-align: left;\">\n",
              "      <th>epoch</th>\n",
              "      <th>train_loss</th>\n",
              "      <th>valid_loss</th>\n",
              "      <th>batch_accuracy</th>\n",
              "      <th>time</th>\n",
              "    </tr>\n",
              "  </thead>\n",
              "  <tbody>\n",
              "    <tr>\n",
              "      <td>0</td>\n",
              "      <td>0.636241</td>\n",
              "      <td>0.503370</td>\n",
              "      <td>0.495584</td>\n",
              "      <td>00:00</td>\n",
              "    </tr>\n",
              "    <tr>\n",
              "      <td>1</td>\n",
              "      <td>0.476081</td>\n",
              "      <td>0.205992</td>\n",
              "      <td>0.824338</td>\n",
              "      <td>00:00</td>\n",
              "    </tr>\n",
              "    <tr>\n",
              "      <td>2</td>\n",
              "      <td>0.176451</td>\n",
              "      <td>0.170415</td>\n",
              "      <td>0.847890</td>\n",
              "      <td>00:00</td>\n",
              "    </tr>\n",
              "    <tr>\n",
              "      <td>3</td>\n",
              "      <td>0.078261</td>\n",
              "      <td>0.103559</td>\n",
              "      <td>0.915604</td>\n",
              "      <td>00:00</td>\n",
              "    </tr>\n",
              "    <tr>\n",
              "      <td>4</td>\n",
              "      <td>0.042080</td>\n",
              "      <td>0.076544</td>\n",
              "      <td>0.932777</td>\n",
              "      <td>00:00</td>\n",
              "    </tr>\n",
              "    <tr>\n",
              "      <td>5</td>\n",
              "      <td>0.027938</td>\n",
              "      <td>0.061665</td>\n",
              "      <td>0.947007</td>\n",
              "      <td>00:00</td>\n",
              "    </tr>\n",
              "    <tr>\n",
              "      <td>6</td>\n",
              "      <td>0.022107</td>\n",
              "      <td>0.052297</td>\n",
              "      <td>0.954367</td>\n",
              "      <td>00:00</td>\n",
              "    </tr>\n",
              "    <tr>\n",
              "      <td>7</td>\n",
              "      <td>0.019499</td>\n",
              "      <td>0.046025</td>\n",
              "      <td>0.963199</td>\n",
              "      <td>00:00</td>\n",
              "    </tr>\n",
              "    <tr>\n",
              "      <td>8</td>\n",
              "      <td>0.018164</td>\n",
              "      <td>0.041606</td>\n",
              "      <td>0.965653</td>\n",
              "      <td>00:00</td>\n",
              "    </tr>\n",
              "    <tr>\n",
              "      <td>9</td>\n",
              "      <td>0.017353</td>\n",
              "      <td>0.038348</td>\n",
              "      <td>0.966634</td>\n",
              "      <td>00:00</td>\n",
              "    </tr>\n",
              "  </tbody>\n",
              "</table>"
            ],
            "text/plain": [
              "<IPython.core.display.HTML object>"
            ]
          },
          "metadata": {
            "tags": []
          }
        }
      ]
    },
    {
      "cell_type": "code",
      "metadata": {
        "id": "MC0sM0kf1Xx0"
      },
      "source": [
        "# adding nonlinearity: a basic neural network\n",
        "def simple_net(xb): \n",
        "    res = xb@w1 + b1 #linear classifier\n",
        "    res = res.max(tensor(0.0)) #nonlinear function\n",
        "    res = res@w2 + b2 #linear classifier\n",
        "    return res\n",
        "\n",
        "# w1, w2 are weight tensors\n",
        "# b1, b2 are bias tensors"
      ],
      "execution_count": null,
      "outputs": []
    },
    {
      "cell_type": "code",
      "metadata": {
        "id": "fDvOFPQo1Xx0"
      },
      "source": [
        "w1 = init_params((28*28,30))\n",
        "b1 = init_params(30)\n",
        "w2 = init_params((30,1))\n",
        "b2 = init_params(1)"
      ],
      "execution_count": null,
      "outputs": []
    },
    {
      "cell_type": "code",
      "metadata": {
        "colab": {
          "base_uri": "https://localhost:8080/",
          "height": 265
        },
        "id": "dwjeRPxMDN-J",
        "outputId": "0bd7d7db-02c9-4bf5-d280-bc828f07d173"
      },
      "source": [
        "#w1 has 30 output activations -> w2 must have 30 input activations\n",
        "#implies that first layer can construct 30 different features (each representing some mix of pixels)\n",
        "#>30 -> more complex model\n",
        "\n",
        "# max is a rectified linear unit ReLU. -- same as F.relu in pytorch\n",
        "\n",
        "# the point of nonlinear functions is so as to decouple the linear functions\n",
        "### the nonlinear function is also known as activation layer\n",
        "plot_function(F.relu)"
      ],
      "execution_count": null,
      "outputs": [
        {
          "output_type": "display_data",
          "data": {
            "image/png": "[encoded data removed]",
            "text/plain": [
              "<Figure size 432x288 with 1 Axes>"
            ]
          },
          "metadata": {
            "tags": [],
            "needs_background": "light"
          }
        }
      ]
    },
    {
      "cell_type": "code",
      "metadata": {
        "id": "nElJZDbV1Xx1",
        "colab": {
          "base_uri": "https://localhost:8080/"
        },
        "outputId": "31685992-6d84-46e4-ee6a-aae09e73c21e"
      },
      "source": [
        "### sequential creates a module that will call each of the listed layers or functions in turn\n",
        "### nn.ReLU does the same as F.relu\n",
        "### nn.\n",
        "simple_net = nn.Sequential(\n",
        "    nn.Linear(28*28,30),\n",
        "    nn.ReLU(),\n",
        "    nn.Linear(30,1)\n",
        ")\n",
        "simple_net"
      ],
      "execution_count": null,
      "outputs": [
        {
          "output_type": "execute_result",
          "data": {
            "text/plain": [
              "Sequential(\n",
              "  (0): Linear(in_features=784, out_features=30, bias=True)\n",
              "  (1): ReLU()\n",
              "  (2): Linear(in_features=30, out_features=1, bias=True)\n",
              ")"
            ]
          },
          "metadata": {
            "tags": []
          },
          "execution_count": 195
        }
      ]
    },
    {
      "cell_type": "code",
      "metadata": {
        "id": "01IsVv-C1Xx2"
      },
      "source": [
        "learn = Learner(dls, simple_net, opt_func=SGD,\n",
        "                loss_func=mnist_loss, metrics=batch_accuracy)"
      ],
      "execution_count": null,
      "outputs": []
    },
    {
      "cell_type": "code",
      "metadata": {
        "id": "jeoVV1831Xx2",
        "colab": {
          "base_uri": "https://localhost:8080/",
          "height": 1000
        },
        "outputId": "8d602d15-78c8-43a6-cf01-2bb69a0be4c0"
      },
      "source": [
        "learn.fit(40, 0.1)"
      ],
      "execution_count": null,
      "outputs": [
        {
          "output_type": "display_data",
          "data": {
            "text/html": [
              "<table border=\"1\" class=\"dataframe\">\n",
              "  <thead>\n",
              "    <tr style=\"text-align: left;\">\n",
              "      <th>epoch</th>\n",
              "      <th>train_loss</th>\n",
              "      <th>valid_loss</th>\n",
              "      <th>batch_accuracy</th>\n",
              "      <th>time</th>\n",
              "    </tr>\n",
              "  </thead>\n",
              "  <tbody>\n",
              "    <tr>\n",
              "      <td>0</td>\n",
              "      <td>0.324991</td>\n",
              "      <td>0.401134</td>\n",
              "      <td>0.509323</td>\n",
              "      <td>00:00</td>\n",
              "    </tr>\n",
              "    <tr>\n",
              "      <td>1</td>\n",
              "      <td>0.151320</td>\n",
              "      <td>0.232263</td>\n",
              "      <td>0.803238</td>\n",
              "      <td>00:00</td>\n",
              "    </tr>\n",
              "    <tr>\n",
              "      <td>2</td>\n",
              "      <td>0.083129</td>\n",
              "      <td>0.115050</td>\n",
              "      <td>0.915604</td>\n",
              "      <td>00:00</td>\n",
              "    </tr>\n",
              "    <tr>\n",
              "      <td>3</td>\n",
              "      <td>0.054040</td>\n",
              "      <td>0.077016</td>\n",
              "      <td>0.942591</td>\n",
              "      <td>00:00</td>\n",
              "    </tr>\n",
              "    <tr>\n",
              "      <td>4</td>\n",
              "      <td>0.040605</td>\n",
              "      <td>0.060012</td>\n",
              "      <td>0.958292</td>\n",
              "      <td>00:00</td>\n",
              "    </tr>\n",
              "    <tr>\n",
              "      <td>5</td>\n",
              "      <td>0.033798</td>\n",
              "      <td>0.050536</td>\n",
              "      <td>0.964181</td>\n",
              "      <td>00:00</td>\n",
              "    </tr>\n",
              "    <tr>\n",
              "      <td>6</td>\n",
              "      <td>0.029934</td>\n",
              "      <td>0.044569</td>\n",
              "      <td>0.966634</td>\n",
              "      <td>00:00</td>\n",
              "    </tr>\n",
              "    <tr>\n",
              "      <td>7</td>\n",
              "      <td>0.027452</td>\n",
              "      <td>0.040489</td>\n",
              "      <td>0.968597</td>\n",
              "      <td>00:00</td>\n",
              "    </tr>\n",
              "    <tr>\n",
              "      <td>8</td>\n",
              "      <td>0.025680</td>\n",
              "      <td>0.037525</td>\n",
              "      <td>0.969578</td>\n",
              "      <td>00:00</td>\n",
              "    </tr>\n",
              "    <tr>\n",
              "      <td>9</td>\n",
              "      <td>0.024313</td>\n",
              "      <td>0.035266</td>\n",
              "      <td>0.971050</td>\n",
              "      <td>00:00</td>\n",
              "    </tr>\n",
              "    <tr>\n",
              "      <td>10</td>\n",
              "      <td>0.023209</td>\n",
              "      <td>0.033477</td>\n",
              "      <td>0.972522</td>\n",
              "      <td>00:00</td>\n",
              "    </tr>\n",
              "    <tr>\n",
              "      <td>11</td>\n",
              "      <td>0.022289</td>\n",
              "      <td>0.032013</td>\n",
              "      <td>0.972522</td>\n",
              "      <td>00:00</td>\n",
              "    </tr>\n",
              "    <tr>\n",
              "      <td>12</td>\n",
              "      <td>0.021505</td>\n",
              "      <td>0.030784</td>\n",
              "      <td>0.973994</td>\n",
              "      <td>00:00</td>\n",
              "    </tr>\n",
              "    <tr>\n",
              "      <td>13</td>\n",
              "      <td>0.020826</td>\n",
              "      <td>0.029733</td>\n",
              "      <td>0.974485</td>\n",
              "      <td>00:00</td>\n",
              "    </tr>\n",
              "    <tr>\n",
              "      <td>14</td>\n",
              "      <td>0.020231</td>\n",
              "      <td>0.028817</td>\n",
              "      <td>0.975957</td>\n",
              "      <td>00:00</td>\n",
              "    </tr>\n",
              "    <tr>\n",
              "      <td>15</td>\n",
              "      <td>0.019704</td>\n",
              "      <td>0.028011</td>\n",
              "      <td>0.975957</td>\n",
              "      <td>00:00</td>\n",
              "    </tr>\n",
              "    <tr>\n",
              "      <td>16</td>\n",
              "      <td>0.019232</td>\n",
              "      <td>0.027294</td>\n",
              "      <td>0.975957</td>\n",
              "      <td>00:00</td>\n",
              "    </tr>\n",
              "    <tr>\n",
              "      <td>17</td>\n",
              "      <td>0.018806</td>\n",
              "      <td>0.026652</td>\n",
              "      <td>0.977429</td>\n",
              "      <td>00:00</td>\n",
              "    </tr>\n",
              "    <tr>\n",
              "      <td>18</td>\n",
              "      <td>0.018420</td>\n",
              "      <td>0.026073</td>\n",
              "      <td>0.977429</td>\n",
              "      <td>00:00</td>\n",
              "    </tr>\n",
              "    <tr>\n",
              "      <td>19</td>\n",
              "      <td>0.018066</td>\n",
              "      <td>0.025549</td>\n",
              "      <td>0.978410</td>\n",
              "      <td>00:00</td>\n",
              "    </tr>\n",
              "    <tr>\n",
              "      <td>20</td>\n",
              "      <td>0.017741</td>\n",
              "      <td>0.025072</td>\n",
              "      <td>0.978901</td>\n",
              "      <td>00:00</td>\n",
              "    </tr>\n",
              "    <tr>\n",
              "      <td>21</td>\n",
              "      <td>0.017440</td>\n",
              "      <td>0.024637</td>\n",
              "      <td>0.979882</td>\n",
              "      <td>00:00</td>\n",
              "    </tr>\n",
              "    <tr>\n",
              "      <td>22</td>\n",
              "      <td>0.017161</td>\n",
              "      <td>0.024237</td>\n",
              "      <td>0.980373</td>\n",
              "      <td>00:00</td>\n",
              "    </tr>\n",
              "    <tr>\n",
              "      <td>23</td>\n",
              "      <td>0.016901</td>\n",
              "      <td>0.023869</td>\n",
              "      <td>0.981354</td>\n",
              "      <td>00:00</td>\n",
              "    </tr>\n",
              "    <tr>\n",
              "      <td>24</td>\n",
              "      <td>0.016658</td>\n",
              "      <td>0.023530</td>\n",
              "      <td>0.981354</td>\n",
              "      <td>00:00</td>\n",
              "    </tr>\n",
              "    <tr>\n",
              "      <td>25</td>\n",
              "      <td>0.016429</td>\n",
              "      <td>0.023216</td>\n",
              "      <td>0.981845</td>\n",
              "      <td>00:00</td>\n",
              "    </tr>\n",
              "    <tr>\n",
              "      <td>26</td>\n",
              "      <td>0.016213</td>\n",
              "      <td>0.022925</td>\n",
              "      <td>0.981845</td>\n",
              "      <td>00:00</td>\n",
              "    </tr>\n",
              "    <tr>\n",
              "      <td>27</td>\n",
              "      <td>0.016009</td>\n",
              "      <td>0.022655</td>\n",
              "      <td>0.981845</td>\n",
              "      <td>00:00</td>\n",
              "    </tr>\n",
              "    <tr>\n",
              "      <td>28</td>\n",
              "      <td>0.015816</td>\n",
              "      <td>0.022404</td>\n",
              "      <td>0.982826</td>\n",
              "      <td>00:00</td>\n",
              "    </tr>\n",
              "    <tr>\n",
              "      <td>29</td>\n",
              "      <td>0.015633</td>\n",
              "      <td>0.022170</td>\n",
              "      <td>0.982826</td>\n",
              "      <td>00:00</td>\n",
              "    </tr>\n",
              "    <tr>\n",
              "      <td>30</td>\n",
              "      <td>0.015459</td>\n",
              "      <td>0.021951</td>\n",
              "      <td>0.982826</td>\n",
              "      <td>00:00</td>\n",
              "    </tr>\n",
              "    <tr>\n",
              "      <td>31</td>\n",
              "      <td>0.015292</td>\n",
              "      <td>0.021746</td>\n",
              "      <td>0.983317</td>\n",
              "      <td>00:00</td>\n",
              "    </tr>\n",
              "    <tr>\n",
              "      <td>32</td>\n",
              "      <td>0.015134</td>\n",
              "      <td>0.021554</td>\n",
              "      <td>0.983317</td>\n",
              "      <td>00:00</td>\n",
              "    </tr>\n",
              "    <tr>\n",
              "      <td>33</td>\n",
              "      <td>0.014982</td>\n",
              "      <td>0.021373</td>\n",
              "      <td>0.983317</td>\n",
              "      <td>00:00</td>\n",
              "    </tr>\n",
              "    <tr>\n",
              "      <td>34</td>\n",
              "      <td>0.014837</td>\n",
              "      <td>0.021203</td>\n",
              "      <td>0.982826</td>\n",
              "      <td>00:00</td>\n",
              "    </tr>\n",
              "    <tr>\n",
              "      <td>35</td>\n",
              "      <td>0.014697</td>\n",
              "      <td>0.021043</td>\n",
              "      <td>0.983317</td>\n",
              "      <td>00:00</td>\n",
              "    </tr>\n",
              "    <tr>\n",
              "      <td>36</td>\n",
              "      <td>0.014563</td>\n",
              "      <td>0.020891</td>\n",
              "      <td>0.983317</td>\n",
              "      <td>00:00</td>\n",
              "    </tr>\n",
              "    <tr>\n",
              "      <td>37</td>\n",
              "      <td>0.014434</td>\n",
              "      <td>0.020747</td>\n",
              "      <td>0.983317</td>\n",
              "      <td>00:00</td>\n",
              "    </tr>\n",
              "    <tr>\n",
              "      <td>38</td>\n",
              "      <td>0.014309</td>\n",
              "      <td>0.020610</td>\n",
              "      <td>0.982826</td>\n",
              "      <td>00:00</td>\n",
              "    </tr>\n",
              "    <tr>\n",
              "      <td>39</td>\n",
              "      <td>0.014188</td>\n",
              "      <td>0.020481</td>\n",
              "      <td>0.982826</td>\n",
              "      <td>00:00</td>\n",
              "    </tr>\n",
              "  </tbody>\n",
              "</table>"
            ],
            "text/plain": [
              "<IPython.core.display.HTML object>"
            ]
          },
          "metadata": {
            "tags": []
          }
        }
      ]
    },
    {
      "cell_type": "code",
      "metadata": {
        "id": "uatpOwMj1Xx2",
        "colab": {
          "base_uri": "https://localhost:8080/",
          "height": 283
        },
        "outputId": "2c464442-4623-4c74-8592-530f7cc9d20c"
      },
      "source": [
        "plt.plot(L(learn.recorder.values).itemgot(2));\n",
        "learn.recorder.values[-1][2]"
      ],
      "execution_count": null,
      "outputs": [
        {
          "output_type": "execute_result",
          "data": {
            "text/plain": [
              "0.982826292514801"
            ]
          },
          "metadata": {
            "tags": []
          },
          "execution_count": 199
        },
        {
          "output_type": "display_data",
          "data": {
            "image/png": "[encoded data removed]",
            "text/plain": [
              "<Figure size 432x288 with 1 Axes>"
            ]
          },
          "metadata": {
            "tags": [],
            "needs_background": "light"
          }
        }
      ]
    },
    {
      "cell_type": "code",
      "metadata": {
        "id": "_GgFlVnD1Xx3",
        "colab": {
          "base_uri": "https://localhost:8080/",
          "height": 79
        },
        "outputId": "3a5f07dc-40de-4d5f-e3fb-1dc75c3cb691"
      },
      "source": [
        "### an 18 layer model\n",
        "dls = ImageDataLoaders.from_folder(path)\n",
        "learn = cnn_learner(dls, resnet18, pretrained=False,\n",
        "                    loss_func=F.cross_entropy, metrics=accuracy)\n",
        "learn.fit_one_cycle(1, 0.1)"
      ],
      "execution_count": null,
      "outputs": [
        {
          "output_type": "display_data",
          "data": {
            "text/html": [
              "<table border=\"1\" class=\"dataframe\">\n",
              "  <thead>\n",
              "    <tr style=\"text-align: left;\">\n",
              "      <th>epoch</th>\n",
              "      <th>train_loss</th>\n",
              "      <th>valid_loss</th>\n",
              "      <th>accuracy</th>\n",
              "      <th>time</th>\n",
              "    </tr>\n",
              "  </thead>\n",
              "  <tbody>\n",
              "    <tr>\n",
              "      <td>0</td>\n",
              "      <td>0.125158</td>\n",
              "      <td>0.047517</td>\n",
              "      <td>0.993621</td>\n",
              "      <td>00:24</td>\n",
              "    </tr>\n",
              "  </tbody>\n",
              "</table>"
            ],
            "text/plain": [
              "<IPython.core.display.HTML object>"
            ]
          },
          "metadata": {
            "tags": []
          }
        }
      ]
    },
    {
      "cell_type": "markdown",
      "metadata": {
        "id": "7tkfghAB1Xx4"
      },
      "source": [
        "### Further Research"
      ]
    },
    {
      "cell_type": "markdown",
      "metadata": {
        "id": "QvoWcJcY1Xx4"
      },
      "source": [
        "1. Create your own implementation of `Learner` from scratch, based on the training loop shown in this chapter.\n",
        "1. Complete all the steps in this chapter using the full MNIST datasets (that is, for all digits, not just 3s and 7s). This is a significant project and will take you quite a bit of time to complete! You'll need to do some of your own research to figure out how to overcome some obstacles you'll meet on the way."
      ]
    },
    {
      "cell_type": "code",
      "metadata": {
        "id": "MI38tYRE1Xx4"
      },
      "source": [
        ""
      ],
      "execution_count": null,
      "outputs": []
    }
  ]
}